{
 "cells": [
  {
   "attachments": {},
   "cell_type": "markdown",
   "metadata": {},
   "source": [
    "# Implement stack\n",
    "1. Push element\n",
    "2. Pop element\n",
    "3. top element\n",
    "4. size of stack"
   ]
  },
  {
   "cell_type": "code",
   "execution_count": 19,
   "metadata": {},
   "outputs": [
    {
     "name": "stdout",
     "output_type": "stream",
     "text": [
      "Stack :  [1, 2, 3, 4, 5]\n",
      "Stack :  [1, 2, 3]\n",
      "Top of stack :  3\n",
      "Stack :  [1, 2, 3]\n",
      "Size of stack :  3\n"
     ]
    }
   ],
   "source": [
    "class Stack:\n",
    "    def __init__(self) -> None:\n",
    "        self.stack = []\n",
    "\n",
    "    def push(self,element):\n",
    "        self.stack.append(element)\n",
    "        # return self.stack\n",
    "\n",
    "    def pop(self):\n",
    "        if len(self.stack) > 0:\n",
    "            self.stack.pop(-1)\n",
    "        else:\n",
    "            print(\"Stack is empty\")\n",
    "        # return self.stack\n",
    "\n",
    "    def top(self):\n",
    "        arr = self.stack\n",
    "        if len(arr) > 0:\n",
    "            return arr[-1]\n",
    "        else:\n",
    "            return []\n",
    "    \n",
    "    def size(self):\n",
    "        return len(self.stack)\n",
    "    \n",
    "    def get_stack(self):\n",
    "        return self.stack\n",
    "S = Stack()\n",
    "\n",
    "S.push(1)\n",
    "S.push(2)\n",
    "S.push(3)\n",
    "S.push(4)\n",
    "S.push(5)\n",
    "\n",
    "print(\"Stack : \",S.get_stack())\n",
    "\n",
    "S.pop()\n",
    "S.pop()\n",
    "\n",
    "print(\"Stack : \",S.get_stack())\n",
    "\n",
    "print(\"Top of stack : \",S.top())\n",
    "\n",
    "print(\"Stack : \",S.get_stack())\n",
    "\n",
    "print(\"Size of stack : \",S.size())\n"
   ]
  },
  {
   "attachments": {},
   "cell_type": "markdown",
   "metadata": {},
   "source": [
    "# Implement Queue\n",
    "1. Push element\n",
    "2. Pop element\n",
    "3. head element\n",
    "4. size of stack"
   ]
  },
  {
   "cell_type": "code",
   "execution_count": 24,
   "metadata": {},
   "outputs": [
    {
     "name": "stdout",
     "output_type": "stream",
     "text": [
      "Stack :  [1, 2, 3, 4, 5]\n",
      "Stack :  [3, 4, 5]\n",
      "Top of stack :  3\n",
      "Stack :  [3, 4, 5]\n",
      "Size of stack :  3\n"
     ]
    }
   ],
   "source": [
    "class Queue:\n",
    "    def __init__(self) -> None:\n",
    "        self.Que = []\n",
    "\n",
    "    def push(self,element):\n",
    "        self.Que.append(element)\n",
    "        # return self.stack\n",
    "\n",
    "    def pop(self):\n",
    "        if len(self.Que) > 1:\n",
    "            self.Que.pop(0)\n",
    "        else:\n",
    "            print(\"Queue is empty\")\n",
    "        # return self.stack\n",
    "\n",
    "    def head(self):\n",
    "        arr = self.Que\n",
    "        if len(arr) > 0:\n",
    "            return arr[0]\n",
    "        else:\n",
    "            print(\"Queue is empty\")\n",
    "    \n",
    "    def size(self):\n",
    "        return len(self.Que)\n",
    "    \n",
    "    def get_queue(self):\n",
    "        return self.Que\n",
    "S = Queue()\n",
    "\n",
    "S.push(1)\n",
    "S.push(2)\n",
    "S.push(3)\n",
    "S.push(4)\n",
    "S.push(5)\n",
    "\n",
    "print(\"Stack : \",S.get_queue())\n",
    "\n",
    "S.pop()\n",
    "S.pop()\n",
    "\n",
    "print(\"Stack : \",S.get_queue())\n",
    "\n",
    "print(\"Top of stack : \",S.head())\n",
    "\n",
    "print(\"Stack : \",S.get_queue())\n",
    "\n",
    "print(\"Size of stack : \",S.size())"
   ]
  },
  {
   "attachments": {},
   "cell_type": "markdown",
   "metadata": {},
   "source": [
    "# implement Queue from Stack \n",
    "1. inqueue  --> to add element to queue (Use stack operations only)\n",
    "2.  dequeue --> remove element from queue (Use stack operations only)"
   ]
  },
  {
   "cell_type": "code",
   "execution_count": 35,
   "metadata": {},
   "outputs": [
    {
     "name": "stdout",
     "output_type": "stream",
     "text": [
      "Poped element :  1\n",
      "Queue [2, 3]\n"
     ]
    }
   ],
   "source": [
    "\n",
    "class Queue_from_Stack():\n",
    "    def __init__(self) -> None:\n",
    "        self.Que = []\n",
    "\n",
    "    def enqueue(self,element):\n",
    "        self.Que.append(element)\n",
    "\n",
    "    def dequeue(self):\n",
    "        if len(self.Que) < 1:\n",
    "            print(\"Queue is empty\")\n",
    "            return\n",
    "        \n",
    "        top = self.Que[-1]\n",
    "        self.Que.pop()\n",
    "\n",
    "        if len(self.Que) == 0:\n",
    "            return top\n",
    "        item = self.dequeue()\n",
    "\n",
    "        self.Que.append(top)\n",
    "\n",
    "        return item\n",
    "\n",
    "q = Queue_from_Stack()\n",
    "\n",
    "q.enqueue(1)\n",
    "q.enqueue(2)\n",
    "q.enqueue(3)\n",
    "\n",
    "ele = q.dequeue()\n",
    "print(\"Poped element : \",ele)\n",
    "print(\"Queue\",q.Que)"
   ]
  },
  {
   "attachments": {},
   "cell_type": "markdown",
   "metadata": {},
   "source": [
    "# Check for Balanced Parentheses\n"
   ]
  },
  {
   "cell_type": "code",
   "execution_count": 118,
   "metadata": {},
   "outputs": [
    {
     "data": {
      "text/plain": [
       "False"
      ]
     },
     "execution_count": 118,
     "metadata": {},
     "output_type": "execute_result"
    }
   ],
   "source": [
    "def is_balance_parentheses(s:str)->bool:\n",
    "    stack = []\n",
    "    stack.append(s[0])\n",
    "    for i in range(1,len(s)):\n",
    "        if s[i] in [\"(\",\"{\",\"[\"]:\n",
    "            stack.append(s[i])\n",
    "        if s[i] == \")\":\n",
    "            try:\n",
    "                top = stack[-1]\n",
    "                if top == \"(\":\n",
    "                    stack.pop(-1)\n",
    "                else:\n",
    "                    return False\n",
    "            except:\n",
    "                return False\n",
    "\n",
    "        elif s[i] == \"}\":\n",
    "            try:\n",
    "                top = stack[-1]\n",
    "                if top == \"{\":\n",
    "                    stack.pop(-1)\n",
    "                else:\n",
    "                    return False\n",
    "            except:\n",
    "                return False\n",
    "        elif s[i] == \"]\":\n",
    "            try:\n",
    "                top = stack[-1]\n",
    "                if top == \"[\":\n",
    "                    stack.pop(-1)\n",
    "                else:\n",
    "                    return False\n",
    "            except:\n",
    "                return False\n",
    "    if len(stack) == 0:\n",
    "        return True\n",
    "    return False\n",
    "\n",
    "s = \"(])\"\n",
    "is_balance_parentheses(s)"
   ]
  },
  {
   "attachments": {},
   "cell_type": "markdown",
   "metadata": {},
   "source": [
    "# \tNext Greater Element"
   ]
  },
  {
   "cell_type": "code",
   "execution_count": 154,
   "metadata": {},
   "outputs": [
    {
     "data": {
      "text/plain": [
       "[7, -1, 2, 6, 7, 5]"
      ]
     },
     "execution_count": 154,
     "metadata": {},
     "output_type": "execute_result"
    }
   ],
   "source": [
    "def Solve(arr,N):\n",
    "    ans = [-1]\n",
    "    temp = []\n",
    "    maxi = max(arr)\n",
    "    count = 1\n",
    "    arr = arr+arr\n",
    "    # re arrange arr\n",
    "    for i in range(len(arr)-2,-1,-1):\n",
    "        # print(\"arr[i] and arr[i+1]\",arr[i],\" \",arr[i+1])\n",
    "        # print(\"Ans :\",ans)\n",
    "        if arr[i] == maxi:\n",
    "                ans.insert(0,-1)\n",
    "        elif arr[i] > arr[i+1]:\n",
    "            z = 0\n",
    "            # print(f\"Here len(ans):{len(ans)} \\n ans[z] < arr[i] : {ans[z]} < {arr[i]}\")\n",
    "            while (z < len(ans)) and (ans[z] <= arr[i]):\n",
    "                z+=1\n",
    "            # print(\"Here z :\",z,\"\\tAns[z]: \",ans[z])\n",
    "            if z == len(ans):\n",
    "                ans.insert(0,-1)\n",
    "            else:\n",
    "                ans.insert(0,ans[z])\n",
    "        else:\n",
    "            if arr[i] < arr[i+1]:\n",
    "                # print(\"elif\")\n",
    "                ans.insert(0,arr[i+1])\n",
    "            \n",
    "                \n",
    "    # print(arr)\n",
    "    # print(ans)\n",
    "    # temp = arr[len(arr)-count:]\n",
    "    # arr = temp+arr[:len(arr)-count]\n",
    "    \n",
    "    return ans[:N]\n",
    " \n",
    " \n",
    "# arr = [3,10,4,2,1,2,6,1,7,2,9]\n",
    "arr = [5,7,1,2,6,0]\n",
    "N = len(arr)\n",
    "Solve(arr,N)"
   ]
  },
  {
   "attachments": {},
   "cell_type": "markdown",
   "metadata": {},
   "source": [
    "# Sort Stack using stack"
   ]
  },
  {
   "cell_type": "code",
   "execution_count": 160,
   "metadata": {},
   "outputs": [
    {
     "name": "stdout",
     "output_type": "stream",
     "text": [
      "[1, 2, 3, 4, 5, 8]\n"
     ]
    },
    {
     "data": {
      "text/plain": [
       "[1, 2, 3, 4, 5, 8]"
      ]
     },
     "execution_count": 160,
     "metadata": {},
     "output_type": "execute_result"
    }
   ],
   "source": [
    "def sort_stack(stack):\n",
    "    temp_stack = []\n",
    "    while len(stack)!=0:\n",
    "        temp = stack.pop()\n",
    "        if len(temp_stack) == 0:\n",
    "            temp_stack.append(temp)\n",
    "        else:\n",
    "            count = 0\n",
    "            # pop elements\n",
    "            while len(temp_stack)>0 and temp_stack[-1]>temp:\n",
    "                count+=1\n",
    "                top = temp_stack.pop()\n",
    "                stack.append(top)\n",
    "            # add new element\n",
    "            temp_stack.append(temp)\n",
    "            # return element to temp_stack\n",
    "            while(count):\n",
    "                top = stack.pop()\n",
    "                temp_stack.append(top)\n",
    "                count-=1\n",
    "    print(temp_stack)\n",
    "    return temp_stack\n",
    "\n",
    "# stack = [34, 3, 31, 98, 92, 23]\n",
    "stack = [3, 5, 1, 4, 2, 8]\n",
    "sort_stack(stack)"
   ]
  },
  {
   "attachments": {},
   "cell_type": "markdown",
   "metadata": {},
   "source": [
    "# Next Smaller Element\n",
    "- same as next greater element"
   ]
  },
  {
   "cell_type": "code",
   "execution_count": 165,
   "metadata": {},
   "outputs": [
    {
     "data": {
      "text/plain": [
       "[7, 6, -1, -1]"
      ]
     },
     "execution_count": 165,
     "metadata": {},
     "output_type": "execute_result"
    }
   ],
   "source": [
    "def next_smaller_element(arr,N):\n",
    "    ans = [-1]\n",
    "    mini = min(arr)\n",
    "    for i in range(N-2,-1,-1):\n",
    "        if arr[i] == mini:\n",
    "            ans.insert(0,-1)\n",
    "        elif arr[i] > arr[i+1]:\n",
    "            ans.insert(0,arr[i+1])\n",
    "        else:\n",
    "            count = 0 \n",
    "            while (len(ans) > count) and (arr[i] < ans[count]):\n",
    "                count+=1\n",
    "            if len(ans) == count:\n",
    "                ans.insert(0,-1)\n",
    "            else:\n",
    "                ans.insert(0,ans[count])\n",
    "    return ans\n",
    "\n",
    "arr = [13, 7, 6, 12]\n",
    "N = len(arr)\n",
    "next_smaller_element(arr,N)"
   ]
  },
  {
   "attachments": {},
   "cell_type": "markdown",
   "metadata": {},
   "source": [
    "# Area of largest rectangle in Histogram\n"
   ]
  },
  {
   "cell_type": "code",
   "execution_count": null,
   "metadata": {},
   "outputs": [],
   "source": [
    "def largest_rectangle_hist(arr,N):\n",
    "    ans = 0\n",
    "    left = [0]\n",
    "    right = [N-1]\n",
    "    area = []\n",
    "    stack = []\n",
    "\n",
    "    index = 0\n",
    "\n",
    "    while index < len(arr):\n",
    "        if not stack :\n",
    "            stack.append(index)\n",
    "        elif (arr(stack[-1]) <= arr[index]):\n",
    "            stack.append(index)\n",
    "            index+=1\n",
    "        else:\n",
    "            top = stack.pop()\n",
    "\n",
    "            \n",
    "    \n",
    "        \n",
    "\n",
    "\n",
    "    return \n",
    "\n",
    "arr = [6, 2, 5, 4, 5, 1, 6] #---> ans = 12\n",
    "# arr = [3, 5, 1, 7, 5, 9] #---> ans = 15\n",
    "N = len(arr)\n",
    "largest_rectangle_hist(arr,N)"
   ]
  }
 ],
 "metadata": {
  "kernelspec": {
   "display_name": "Python 3",
   "language": "python",
   "name": "python3"
  },
  "language_info": {
   "codemirror_mode": {
    "name": "ipython",
    "version": 3
   },
   "file_extension": ".py",
   "mimetype": "text/x-python",
   "name": "python",
   "nbconvert_exporter": "python",
   "pygments_lexer": "ipython3",
   "version": "3.8.10 (default, Nov 14 2022, 12:59:47) \n[GCC 9.4.0]"
  },
  "orig_nbformat": 4,
  "vscode": {
   "interpreter": {
    "hash": "916dbcbb3f70747c44a77c7bcd40155683ae19c65e1c03b4aa3499c5328201f1"
   }
  }
 },
 "nbformat": 4,
 "nbformat_minor": 2
}
