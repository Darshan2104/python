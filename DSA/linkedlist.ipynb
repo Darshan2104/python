{
 "cells": [
  {
   "attachments": {},
   "cell_type": "markdown",
   "metadata": {},
   "source": [
    "# Implement LinkedList\n",
    "1. Push element"
   ]
  },
  {
   "cell_type": "code",
   "execution_count": 31,
   "metadata": {},
   "outputs": [
    {
     "name": "stdout",
     "output_type": "stream",
     "text": [
      "8 9 10 11 12 \n",
      "\n",
      "12 11 10 9 8 \n",
      "\n"
     ]
    }
   ],
   "source": [
    "class Node:\n",
    "\n",
    "\tdef __init__(self, data):\n",
    "\t\tself.value = data\n",
    "\t\tself.next = None\n",
    "\n",
    "class LinkedList:\n",
    "\tdef __init__(self):\n",
    "\t\tself.head = None\n",
    "\n",
    "\t# Function to insert a new node at the beginning\n",
    "\tdef insert_at_start(self, new_data):\n",
    "\t\tnew_node = Node(new_data)\n",
    "\t\tnew_node.next = self.head\n",
    "\t\tself.head = new_node\n",
    "\n",
    "\tdef insert_at_end(self, new_data):\n",
    "\t\tnew_node = Node(new_data)\n",
    "\t\thead = self.head\n",
    "\t\tif head == None:\n",
    "\t\t\tself.head = new_node\n",
    "\t\telse:\n",
    "\t\t\twhile head.next != None:\n",
    "\t\t\t\thead = head.next\n",
    "\t\t\thead.next = new_node\n",
    "\t\t\t\n",
    "\tdef print_list(self):\n",
    "\t\tgo_ahead = self.head\n",
    "\t\t\n",
    "\t\twhile(go_ahead != None):\n",
    "\t\t\tprint(go_ahead.value,end=\" \")\n",
    "\t\t\tgo_ahead = go_ahead.next\n",
    "\t\tprint(\"\\n\")\n",
    "\t\n",
    "\tdef reverse_list(self):\n",
    "\t\t# list with only one node\n",
    "\t\tcurrent_node = self.head\n",
    "\t\tif current_node.next == None:\n",
    "\t\t\treturn current_node\n",
    "\n",
    "\t\tprevious_node = None\n",
    "\t\tnext_node = None\n",
    "\t\tcurrent_node = self.head\n",
    "\t\t\n",
    "\t\twhile(current_node != None):\n",
    "\t\t\tnext_node = current_node.next\n",
    "\t\t\tcurrent_node.next = previous_node\n",
    "\t\t\tprevious_node = current_node\n",
    "\t\t\tcurrent_node = next_node\n",
    "\t\tself.head = previous_node\n",
    "\n",
    "\n",
    "\t\n",
    "\n",
    "if __name__ == \"__main__\":\n",
    "\tll = LinkedList()\n",
    "\tll.insert_at_start(10)\n",
    "\tll.insert_at_start(9)\n",
    "\tll.insert_at_start(8)\n",
    "\tll.insert_at_end(11)\n",
    "\tll.insert_at_end(12)\n",
    "\n",
    "\n",
    "\tll.print_list()\n",
    "\tll.reverse_list()\n",
    "\tll.print_list()"
   ]
  },
  {
   "cell_type": "code",
   "execution_count": null,
   "metadata": {},
   "outputs": [],
   "source": []
  },
  {
   "cell_type": "code",
   "execution_count": null,
   "metadata": {},
   "outputs": [],
   "source": []
  }
 ],
 "metadata": {
  "kernelspec": {
   "display_name": "Python 3",
   "language": "python",
   "name": "python3"
  },
  "language_info": {
   "codemirror_mode": {
    "name": "ipython",
    "version": 3
   },
   "file_extension": ".py",
   "mimetype": "text/x-python",
   "name": "python",
   "nbconvert_exporter": "python",
   "pygments_lexer": "ipython3",
   "version": "3.8.10 (default, Nov 14 2022, 12:59:47) \n[GCC 9.4.0]"
  },
  "orig_nbformat": 4,
  "vscode": {
   "interpreter": {
    "hash": "916dbcbb3f70747c44a77c7bcd40155683ae19c65e1c03b4aa3499c5328201f1"
   }
  }
 },
 "nbformat": 4,
 "nbformat_minor": 2
}
