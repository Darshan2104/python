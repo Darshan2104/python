{
 "cells": [
  {
   "cell_type": "markdown",
   "metadata": {},
   "source": [
    "## Graph"
   ]
  },
  {
   "cell_type": "code",
   "execution_count": 17,
   "metadata": {},
   "outputs": [
    {
     "name": "stdout",
     "output_type": "stream",
     "text": [
      "Value of Node 1\n",
      "Value of Node 2\n",
      "Value of Node 4\n",
      "Value of Node 3\n",
      ".....................................\n",
      "Value of Node 1\n",
      "Value of Node 2\n",
      "Value of Node 4\n",
      "Value of Node 3\n"
     ]
    }
   ],
   "source": [
    "class GraphNode:\n",
    "    def __init__(self,value= 0,neighbours= []):\n",
    "        self.value = value\n",
    "        self.neighbours = neighbours\n",
    "\n",
    "def clone_Graph(start_point:GraphNode):\n",
    "    m = {}\n",
    "    new_graph = GraphNode(start_point.value)\n",
    "    q = []\n",
    "    q.append(start_point)\n",
    "    m[start_point] = new_graph\n",
    "    while q:\n",
    "        current = q.pop(0)\n",
    "        neighbour = current.neighbours\n",
    "        for node in neighbour:\n",
    "            if node not in m:\n",
    "                newnode = GraphNode(node.value)\n",
    "                m[node] = newnode\n",
    "                q.append(node)\n",
    "            m[current].neighbours.append(m[node])\n",
    "    return new_graph\n",
    "\n",
    "def buildGraph() -> GraphNode:\n",
    "    \"\"\"\n",
    "    Given Graph:\n",
    "    1--2\n",
    "    | |\n",
    "    4--3\n",
    "    \"\"\"\n",
    "    node1 = GraphNode(1)\n",
    "    node2 = GraphNode(2)\n",
    "    node3 = GraphNode(3)\n",
    "    node4 = GraphNode(4)\n",
    "    node1.neighbours = [node2, node4]\n",
    "    node2.neighbours = [node1, node3]\n",
    "    node3.neighbours = [node2, node4]\n",
    "    node4.neighbours = [node3, node1]\n",
    "    return node1\n",
    "\n",
    "def BFS(start_point:GraphNode):\n",
    "    visited = {}\n",
    "    q = []\n",
    "    q.append(start_point)\n",
    "    visited[start_point.value] = True\n",
    "    while q:\n",
    "        current_node = q.pop(0)\n",
    "        neighboure_of_current_node = current_node.neighbours\n",
    "        # print(f\"Value of Node {current_node}, {current_node.neighbours}\")\n",
    "        print(f\"Value of Node {current_node.value}\")\n",
    "        for node in neighboure_of_current_node:\n",
    "            if node.value not in visited:\n",
    "                visited[node.value] = True\n",
    "                q.append(node)\n",
    "\n",
    "if __name__ == '__main__':\n",
    "    start_point = buildGraph()\n",
    "    BFS(start_point)\n",
    "    print(\".....................................\")\n",
    "    new_start_node = clone_Graph(start_point)\n",
    "    BFS(new_start_node)\n"
   ]
  },
  {
   "cell_type": "markdown",
   "metadata": {},
   "source": [
    "## DFS (Depth First Search) for a Graph"
   ]
  },
  {
   "cell_type": "code",
   "execution_count": 18,
   "metadata": {},
   "outputs": [
    {
     "name": "stdout",
     "output_type": "stream",
     "text": [
      "Following is Depth First Traversal (starting from vertex 2)\n",
      "2 0 1 3 "
     ]
    }
   ],
   "source": [
    "from collections import defaultdict\n",
    "# defaultdict is same as normal dictionay, it will never raise keyError that's defference...\n",
    "class Graph:\n",
    "\tdef __init__(self):\n",
    "\t\tself.graph = defaultdict(list)\n",
    "\n",
    "\tdef addEdge(self, u, v):\n",
    "\t\tself.graph[u].append(v)\n",
    "\n",
    "\t\n",
    "\tdef DFSUtil(self, v, visited):\n",
    "\n",
    "\t\tvisited.add(v)\n",
    "\t\tprint(v, end=' ')\n",
    "\n",
    "\t\tfor neighbour in self.graph[v]:\n",
    "\t\t\tif neighbour not in visited:\n",
    "\t\t\t\tself.DFSUtil(neighbour, visited)\n",
    "\t\n",
    "\t\n",
    "\tdef DFS(self, v):\n",
    "\t\tvisited = set()\n",
    "\t\tself.DFSUtil(v, visited)\n",
    "\n",
    "\n",
    "if __name__ == \"__main__\":\n",
    "\tg = Graph()\n",
    "\tg.addEdge(0, 1)\n",
    "\tg.addEdge(0, 2)\n",
    "\tg.addEdge(1, 2)\n",
    "\tg.addEdge(2, 0)\n",
    "\tg.addEdge(2, 3)\n",
    "\tg.addEdge(3, 3)\n",
    "\n",
    "\tprint(\"Following is Depth First Traversal (starting from vertex 2)\")\n",
    "\tg.DFS(2)\n"
   ]
  },
  {
   "cell_type": "markdown",
   "metadata": {},
   "source": [
    "## BFS (Breadth First Search) for a Graph"
   ]
  },
  {
   "cell_type": "code",
   "execution_count": 20,
   "metadata": {},
   "outputs": [
    {
     "name": "stdout",
     "output_type": "stream",
     "text": [
      "Following is Breadth First Traversal (starting from vertex 2)\n",
      "2 0 3 1 "
     ]
    }
   ],
   "source": [
    "from collections import defaultdict\n",
    "class Graph:\n",
    "\n",
    "\tdef __init__(self):\n",
    "\t\tself.graph = defaultdict(list)\n",
    "\n",
    "\tdef addEdge(self, u, v):\n",
    "\t\tself.graph[u].append(v)\n",
    "\n",
    "\tdef BFS(self, s):\n",
    "\t\tvisited = [False] * (max(self.graph) + 1)\n",
    "\t\tqueue = []\n",
    "\t\tqueue.append(s)\n",
    "\t\tvisited[s] = True\n",
    "\n",
    "\t\twhile queue:\n",
    "\t\t\ts = queue.pop(0)\n",
    "\t\t\tprint(s, end=\" \")\n",
    "\t\t\tfor i in self.graph[s]:\n",
    "\t\t\t\tif visited[i] == False:\n",
    "\t\t\t\t\tqueue.append(i)\n",
    "\t\t\t\t\tvisited[i] = True\n",
    "\n",
    "\n",
    "if __name__ == '__main__':\n",
    "\n",
    "\tg = Graph()\n",
    "\tg.addEdge(0, 1)\n",
    "\tg.addEdge(0, 2)\n",
    "\tg.addEdge(1, 2)\n",
    "\tg.addEdge(2, 0)\n",
    "\tg.addEdge(2, 3)\n",
    "\tg.addEdge(3, 3)\n",
    "\n",
    "\tprint(\"Following is Breadth First Traversal (starting from vertex 2)\")\n",
    "\tg.BFS(2)\n",
    "\n",
    "# This code is contributed by Neelam Yadav\n"
   ]
  },
  {
   "cell_type": "markdown",
   "metadata": {},
   "source": [
    "## Detect Cycle in an Undirected Graph (using BFS)"
   ]
  },
  {
   "cell_type": "code",
   "execution_count": null,
   "metadata": {},
   "outputs": [],
   "source": [
    "from collections import defaultdict\n",
    "\n",
    "class graph():\n",
    "    def __init__(self) -> None:\n",
    "        self.graph = defaultdict(list)\n",
    "\n",
    "    def addEdge(self,u,v):\n",
    "        self.graph[u].append(v)\n",
    "\n",
    "    def "
   ]
  },
  {
   "cell_type": "markdown",
   "metadata": {},
   "source": [
    "## Detect Cycle in an directed Graph"
   ]
  },
  {
   "cell_type": "markdown",
   "metadata": {},
   "source": []
  }
 ],
 "metadata": {
  "kernelspec": {
   "display_name": "Python 3",
   "language": "python",
   "name": "python3"
  },
  "language_info": {
   "codemirror_mode": {
    "name": "ipython",
    "version": 3
   },
   "file_extension": ".py",
   "mimetype": "text/x-python",
   "name": "python",
   "nbconvert_exporter": "python",
   "pygments_lexer": "ipython3",
   "version": "3.8.10"
  },
  "orig_nbformat": 4
 },
 "nbformat": 4,
 "nbformat_minor": 2
}
