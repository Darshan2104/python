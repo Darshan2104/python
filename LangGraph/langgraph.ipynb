{
 "cells": [
  {
   "cell_type": "code",
   "execution_count": 1,
   "id": "69947035",
   "metadata": {},
   "outputs": [
    {
     "name": "stdout",
     "output_type": "stream",
     "text": [
      "Hello LangGraph!\n"
     ]
    }
   ],
   "source": [
    "print(\"Hello LangGraph!\")"
   ]
  },
  {
   "cell_type": "code",
   "execution_count": 2,
   "id": "25f106e8",
   "metadata": {},
   "outputs": [],
   "source": [
    "import os\n",
    "from dotenv import load_dotenv\n",
    "load_dotenv()\n",
    "\n",
    "GOOGLE_API_KEY = os.getenv(\"GOOGLE_API_KEY\")"
   ]
  },
  {
   "cell_type": "markdown",
   "id": "409db107",
   "metadata": {},
   "source": [
    "## Basic LangGraph\n",
    "- Node\n",
    "- Edge\n",
    "- starting point and ending point\n",
    "- Visualization of graph and stream of output"
   ]
  },
  {
   "cell_type": "code",
   "execution_count": 3,
   "id": "6d8a0103",
   "metadata": {},
   "outputs": [],
   "source": [
    "def f1(input):\n",
    "    return \"Function f1 : \"+input\n",
    "\n",
    "def f2(input):\n",
    "    return \"Function f2 : \"+input"
   ]
  },
  {
   "cell_type": "code",
   "execution_count": 4,
   "id": "fb37ada3",
   "metadata": {},
   "outputs": [],
   "source": [
    "from langgraph.graph import Graph"
   ]
  },
  {
   "cell_type": "code",
   "execution_count": 5,
   "id": "fee44a0c",
   "metadata": {},
   "outputs": [
    {
     "data": {
      "text/plain": [
       "<langgraph.graph.graph.Graph at 0x10bb8f590>"
      ]
     },
     "execution_count": 5,
     "metadata": {},
     "output_type": "execute_result"
    }
   ],
   "source": [
    "workflow = Graph()\n",
    "\n",
    "workflow.add_node(\"f1\", f1)\n",
    "workflow.add_node(\"f2\", f2)\n",
    "workflow.add_edge(\"f1\", \"f2\")\n",
    "workflow.set_entry_point(\"f1\")\n",
    "workflow.set_finish_point(\"f2\")\n"
   ]
  },
  {
   "cell_type": "code",
   "execution_count": 6,
   "id": "2499e185",
   "metadata": {},
   "outputs": [],
   "source": [
    "app = workflow.compile()"
   ]
  },
  {
   "cell_type": "code",
   "execution_count": 7,
   "id": "27cb62ce",
   "metadata": {},
   "outputs": [
    {
     "data": {
      "image/png": "[encoded data removed]",
      "text/plain": [
       "<IPython.core.display.Image object>"
      ]
     },
     "metadata": {},
     "output_type": "display_data"
    }
   ],
   "source": [
    "from IPython.display import display, Image\n",
    "\n",
    "try:\n",
    "    display(Image(app.get_graph().draw_mermaid_png()))\n",
    "except Exception as e:\n",
    "    print(e)"
   ]
  },
  {
   "cell_type": "code",
   "execution_count": 8,
   "id": "4a598cc8",
   "metadata": {},
   "outputs": [
    {
     "data": {
      "text/plain": [
       "'Function f2 : Function f1 : Hello World'"
      ]
     },
     "execution_count": 8,
     "metadata": {},
     "output_type": "execute_result"
    }
   ],
   "source": [
    "app.invoke(\"Hello World\")"
   ]
  },
  {
   "cell_type": "code",
   "execution_count": 9,
   "id": "f7f15887",
   "metadata": {},
   "outputs": [
    {
     "name": "stdout",
     "output_type": "stream",
     "text": [
      "Output from key f1\n",
      "----\n",
      "Function f1 : Hello World\n",
      "\n",
      "\n",
      "Output from key f2\n",
      "----\n",
      "Function f2 : Function f1 : Hello World\n",
      "\n",
      "\n"
     ]
    }
   ],
   "source": [
    "input=\"Hello World\"\n",
    "for output in app.stream(input):\n",
    "    for k,v in output.items():\n",
    "        print(f\"Output from key {k}\")\n",
    "        print(\"----\")\n",
    "        print(v)\n",
    "        print(\"\\n\")\n",
    "    "
   ]
  },
  {
   "cell_type": "code",
   "execution_count": 10,
   "id": "43cf6779",
   "metadata": {},
   "outputs": [
    {
     "data": {
      "text/plain": [
       "'FUNCTION F1 : HELLO WORLD'"
      ]
     },
     "execution_count": 10,
     "metadata": {},
     "output_type": "execute_result"
    }
   ],
   "source": [
    "def f1(input):\n",
    "    return \"Function f1 : \"+input\n",
    "\n",
    "def upper_string(input):\n",
    "    return input.upper()\n",
    "\n",
    "workflow_1 = Graph()\n",
    "workflow_1.add_node(\"f1\", f1)\n",
    "workflow_1.add_node(\"upper_string\", upper_string)\n",
    "workflow_1.add_edge(\"f1\", \"upper_string\")\n",
    "workflow_1.set_entry_point(\"f1\")\n",
    "workflow_1.set_finish_point(\"upper_string\")\n",
    "app_1 = workflow_1.compile()\n",
    "app_1.invoke(\"Hello World\")"
   ]
  },
  {
   "cell_type": "markdown",
   "id": "1c2fc9e8",
   "metadata": {},
   "source": [
    "## Basic RAG Example"
   ]
  },
  {
   "cell_type": "markdown",
   "id": "d6b2bbb7",
   "metadata": {},
   "source": [
    "### Basic setup\n",
    "- GoogleGenerativeAIEmbeddings\n",
    "- ChatGoogleGenerativeAI --> gemini-1.5-flash\n",
    "- ChromaDB"
   ]
  },
  {
   "cell_type": "code",
   "execution_count": 11,
   "id": "5fb0bd9e",
   "metadata": {},
   "outputs": [],
   "source": [
    "from langchain_google_genai import GoogleGenerativeAIEmbeddings,ChatGoogleGenerativeAI\n",
    "from langchain_core.messages import HumanMessage, SystemMessage\n",
    "from langchain_core.prompts import PromptTemplate, ChatPromptTemplate\n",
    "from langchain_core.output_parsers import StrOutputParser\n",
    "from langchain_core.runnables import RunnablePassthrough\n",
    "from langchain_community.document_loaders import TextLoader, DirectoryLoader\n",
    "from langchain_community.vectorstores import Chroma\n",
    "from langchain.text_splitter import RecursiveCharacterTextSplitter"
   ]
  },
  {
   "cell_type": "code",
   "execution_count": 12,
   "id": "48dd9b6d",
   "metadata": {},
   "outputs": [
    {
     "data": {
      "text/plain": [
       "(3, 768)"
      ]
     },
     "execution_count": 12,
     "metadata": {},
     "output_type": "execute_result"
    }
   ],
   "source": [
    "\n",
    "embeddings = GoogleGenerativeAIEmbeddings(model=\"models/embedding-001\")\n",
    "\n",
    "vectors = embeddings.embed_documents(\n",
    "    [\n",
    "        \"Today is Monday\",\n",
    "        \"Today is Tuesday\",\n",
    "        \"Today is April Fools day\",\n",
    "    ]\n",
    ")\n",
    "len(vectors), len(vectors[0])"
   ]
  },
  {
   "cell_type": "code",
   "execution_count": 13,
   "id": "1c0210fc",
   "metadata": {},
   "outputs": [],
   "source": [
    "llm = ChatGoogleGenerativeAI(\n",
    "    model=\"gemini-1.5-flash\",\n",
    "    temperature=0,\n",
    "    max_tokens=None,\n",
    "    timeout=None,\n",
    "    max_retries=2,\n",
    ")\n"
   ]
  },
  {
   "cell_type": "code",
   "execution_count": 14,
   "id": "dd9fa6ad",
   "metadata": {},
   "outputs": [
    {
     "data": {
      "text/plain": [
       "AIMessage(content='The current Prime Minister of India is Narendra Modi.', additional_kwargs={}, response_metadata={'prompt_feedback': {'block_reason': 0, 'safety_ratings': []}, 'finish_reason': 'STOP', 'model_name': 'gemini-1.5-flash', 'safety_ratings': []}, id='run--5b82c9ad-02d7-409d-b06e-0a9bc6ee983a-0', usage_metadata={'input_tokens': 12, 'output_tokens': 11, 'total_tokens': 23, 'input_token_details': {'cache_read': 0}})"
      ]
     },
     "execution_count": 14,
     "metadata": {},
     "output_type": "execute_result"
    }
   ],
   "source": [
    "llm.invoke([\n",
    "    SystemMessage(\"For any given country you will return their prime minister name\"),\n",
    "    HumanMessage(\"India\")\n",
    "    ])"
   ]
  },
  {
   "cell_type": "code",
   "execution_count": 15,
   "id": "d6a899e6",
   "metadata": {},
   "outputs": [
    {
     "name": "stderr",
     "output_type": "stream",
     "text": [
      "  0%|          | 0/1 [00:00<?, ?it/s]libmagic is unavailable but assists in filetype detection. Please consider installing libmagic for better results.\n",
      "100%|██████████| 1/1 [00:03<00:00,  3.18s/it]\n"
     ]
    }
   ],
   "source": [
    "docs = DirectoryLoader(\".\", glob=\"*.txt\", show_progress=True).load() # loads all text files in the current directory"
   ]
  },
  {
   "cell_type": "code",
   "execution_count": 16,
   "id": "c7d9b431",
   "metadata": {},
   "outputs": [],
   "source": [
    "text_splitter = RecursiveCharacterTextSplitter(\n",
    "    chunk_size=1000,\n",
    "    chunk_overlap=200,\n",
    ")\n",
    "\n",
    "new_docs = text_splitter.split_documents(docs)"
   ]
  },
  {
   "cell_type": "code",
   "execution_count": 17,
   "id": "0797cfff",
   "metadata": {},
   "outputs": [
    {
     "data": {
      "text/plain": [
       "[Document(metadata={'source': 'langgraph_sample_kb.txt'}, page_content='LangGraph is an open-source Python library developed by LangChain Inc. It enables the construction of stateful, multi-agent workflows for large language model (LLM) applications. Unlike traditional Directed Acyclic Graph (DAG) frameworks, LangGraph supports cycles and loops, making it ideal for complex, interactive agent behaviors.([geeksrepos.com][1], [Real Python][2], [Medium][3])\\n\\n---\\n\\n### 🔧 Key Features of LangGraph\\n\\n**Graph\\n\\nBased Architecture\\n\\n**: Define workflows as graphs with nodes (agents or functions) and edges (transitions), allowing for intricate control flows, including cycles and branching.\\n\\n**Stateful Execution\\n\\n**: Maintain and persist state across interactions, enabling long\\n\\nterm memory and context retention.\\n\\n**Human\\n\\nin\\n\\nthe\\n\\nLoop\\n\\n**: Incorporate human oversight by pausing execution for approvals or interventions, enhancing reliability.([geeksrepos.com][1])\\n\\n**Streaming Support\\n\\n**: Stream outputs token\\n\\nby\\n\\ntoken, providing real'),\n",
       " Document(metadata={'source': 'langgraph_sample_kb.txt'}, page_content='**Streaming Support\\n\\n**: Stream outputs token\\n\\nby\\n\\ntoken, providing real\\n\\ntime feedback and improved user experience.([geeksrepos.com][1])\\n\\n**Integration with LangChain\\n\\n**: Seamlessly integrates with LangChain and LangSmith for enhanced observability and debugging, though it can function independently.([geeksrepos.com][1])\\n\\n---\\n\\n### 🧠 Use Cases\\n\\n**Chatbots\\n\\n**: Develop sophisticated chatbots capable of handling diverse user queries while maintaining context.([DataCamp][4])\\n\\n**Autonomous Agents\\n\\n**: Create agents that perform tasks independently based on user inputs and predefined logic.([DataCamp][4])\\n\\n**Multi\\n\\nAgent Systems\\n\\n**: Design systems where multiple agents collaborate to achieve complex goals, such as in supply chain management.([DataCamp][4])\\n\\n**Workflow Automation\\n\\n**: Automate business processes like document processing and data analysis with intelligent agents.([DataCamp][4])\\n\\n**Recommendation Systems'),\n",
       " Document(metadata={'source': 'langgraph_sample_kb.txt'}, page_content='**Workflow Automation\\n\\n**: Automate business processes like document processing and data analysis with intelligent agents.([DataCamp][4])\\n\\n**Recommendation Systems\\n\\n**: Build personalized recommendation engines by analyzing user behavior and preferences.\\n\\n**Personalized Learning Environments\\n\\n**: Develop adaptive educational platforms that cater to individual learning styles and progress.([DataCamp][4])\\n\\n---\\n\\n### 🚀 Getting Started\\n\\nTo install LangGraph:\\n\\n```bash\\n\\npip install\\n\\nU langgraph\\n\\n```\\n\\nHere\\'s a simple example of creating a ReAct agent using LangGraph:([Langchain][5])\\n\\n```python\\n\\nfrom langgraph.prebuilt import create_react_agent\\n\\ndef search(query: str): \"\"\"Simulate a web search.\"\"\" if \"sf\" in query.lower() or \"san francisco\" in query.lower(): return \"It\\'s 60 degrees and foggy.\" return \"It\\'s 90 degrees and sunny.\"'),\n",
       " Document(metadata={'source': 'langgraph_sample_kb.txt'}, page_content='def search(query: str): \"\"\"Simulate a web search.\"\"\" if \"sf\" in query.lower() or \"san francisco\" in query.lower(): return \"It\\'s 60 degrees and foggy.\" return \"It\\'s 90 degrees and sunny.\"\\n\\nagent = create_react_agent(\"anthropic:claude-3-7-sonnet-latest\", tools=[search]) response = agent.invoke( {\"messages\": [{\"role\": \"user\", \"content\": \"what is the weather in sf\"}]} ) print(response) ```\\n\\n---\\n\\n### 🏗️ LangGraph Platform\\n\\nFor deploying LangGraph applications at scale, LangChain Inc. offers the LangGraph Platform, which includes:([LangChain Blog][6])\\n\\n**LangGraph Server\\n\\n**: APIs for managing agents, memory, and execution.([Langchain][5])\\n\\n**LangGraph Studio\\n\\n**: A UI for visualizing and debugging agent workflows.([LangChain Blog][6])\\n\\n**Deployment Options\\n\\n**:\\n\\n**Cloud SaaS\\n\\n**: Fully managed service.\\n\\n**Self\\n\\nHosted Lite\\n\\n**: Free version for local or self\\n\\nhosted deployments.\\n\\n**Bring Your Own Cloud (BYOC)\\n\\n**: Run in your own cloud environment with LangChain managing provisioning.'),\n",
       " Document(metadata={'source': 'langgraph_sample_kb.txt'}, page_content='**Self\\n\\nHosted Lite\\n\\n**: Free version for local or self\\n\\nhosted deployments.\\n\\n**Bring Your Own Cloud (BYOC)\\n\\n**: Run in your own cloud environment with LangChain managing provisioning.\\n\\n**Self\\n\\nHosted Enterprise\\n\\n**: Fully self\\n\\nmanaged deployment.([LangChain Blog][6], [Analytics Vidhya][7], [LangChain][8])\\n\\n---\\n\\n### 📚 Learn More\\n\\n**Official Documentation\\n\\n**: [LangGraph Docs](https://langchain\\n\\nai.github.io/langgraph/)([Langchain][5])\\n\\n**LangChain Academy Course\\n\\n**: [Introduction to LangGraph](https://www.langchain.com/langgraph)([LangChain][8])\\n\\n**GitHub Repository\\n\\n**: [LangGraph on GitHub](https://github.com/langchain\\n\\nai/langgraph)([geeksrepos.com][1])\\n\\n**Tutorial\\n\\n**: [LangGraph Tutorial on DataCamp](https://www.datacamp.com/tutorial/langgraph\\n\\ntutorial)([DataCamp][4])\\n\\n---\\n\\nLangGraph empowers developers to build robust, controllable, and stateful AI agents, making it a valuable tool for complex LLM applications.([Real Python][2])'),\n",
       " Document(metadata={'source': 'langgraph_sample_kb.txt'}, page_content='[1]: https://geeksrepos.com/langchain-ai/langgraph?utm_source=chatgpt.com \"langgraph: A Python repository from LangChain - LangChain\" [2]: https://realpython.com/langgraph-python/?utm_source=chatgpt.com \"LangGraph: Build Stateful AI Agents in Python – Real Python\" [3]: https://bhavikjikadara.medium.com/langgraph-a-comprehensive-guide-for-beginners-ef17d3dd5383?utm_source=chatgpt.com \"LangGraph: A Comprehensive Guide for Beginners | by Bhavik Jikadara | Medium\" [4]: https://www.datacamp.com/tutorial/langgraph-tutorial?utm_source=chatgpt.com \"LangGraph Tutorial: What Is LangGraph and How to Use It? | DataCamp\" [5]: https://langchain-ai.github.io/langgraph/?utm_source=chatgpt.com \"Home\" [6]: https://blog.langchain.dev/langgraph-platform-announce/?utm_source=chatgpt.com \"LangGraph Platform: New deployment options for scalable agent infrastructure\" [7]: https://www.analyticsvidhya.com/blog/2025/05/langgraph-tutorial-for-beginners/?utm_source=chatgpt.com \"LangGraph Tutorial for Beginners\"'),\n",
       " Document(metadata={'source': 'langgraph_sample_kb.txt'}, page_content='New deployment options for scalable agent infrastructure\" [7]: https://www.analyticsvidhya.com/blog/2025/05/langgraph-tutorial-for-beginners/?utm_source=chatgpt.com \"LangGraph Tutorial for Beginners\" [8]: https://www.langchain.com/langgraph?utm_source=chatgpt.com \"LangGraph\"')]"
      ]
     },
     "execution_count": 17,
     "metadata": {},
     "output_type": "execute_result"
    }
   ],
   "source": [
    "new_docs"
   ]
  },
  {
   "cell_type": "code",
   "execution_count": 18,
   "id": "97e2cebe",
   "metadata": {},
   "outputs": [],
   "source": [
    "db = Chroma.from_documents(new_docs, embeddings, persist_directory=\"chroma_db\")\n",
    "retriever = db.as_retriever(search_kwargs={\"k\": 2})"
   ]
  },
  {
   "cell_type": "code",
   "execution_count": 19,
   "id": "2e847476",
   "metadata": {},
   "outputs": [
    {
     "name": "stderr",
     "output_type": "stream",
     "text": [
      "/var/folders/86/brsg9wgd0wbbdymjwnpjnv_h0000gn/T/ipykernel_16798/3343993480.py:3: LangChainDeprecationWarning: The method `BaseRetriever.get_relevant_documents` was deprecated in langchain-core 0.1.46 and will be removed in 1.0. Use :meth:`~invoke` instead.\n",
      "  results = retriever.get_relevant_documents(query)\n"
     ]
    },
    {
     "name": "stdout",
     "output_type": "stream",
     "text": [
      "{'source': 'langgraph_sample_kb.txt'}\n",
      "LangGraph is an open-source Python library developed by LangChain Inc. It enables the construction of stateful, multi-agent workflows for large language model (LLM) applications. Unlike traditional Directed Acyclic Graph (DAG) frameworks, LangGraph supports cycles and loops, making it ideal for complex, interactive agent behaviors.([geeksrepos.com][1], [Real Python][2], [Medium][3])\n",
      "\n",
      "---\n",
      "\n",
      "### 🔧 Key Features of LangGraph\n",
      "\n",
      "**Graph\n",
      "\n",
      "Based Architecture\n",
      "\n",
      "**: Define workflows as graphs with nodes (agents or functions) and edges (transitions), allowing for intricate control flows, including cycles and branching.\n",
      "\n",
      "**Stateful Execution\n",
      "\n",
      "**: Maintain and persist state across interactions, enabling long\n",
      "\n",
      "term memory and context retention.\n",
      "\n",
      "**Human\n",
      "\n",
      "in\n",
      "\n",
      "the\n",
      "\n",
      "Loop\n",
      "\n",
      "**: Incorporate human oversight by pausing execution for approvals or interventions, enhancing reliability.([geeksrepos.com][1])\n",
      "\n",
      "**Streaming Support\n",
      "\n",
      "**: Stream outputs token\n",
      "\n",
      "by\n",
      "\n",
      "token, providing real\n"
     ]
    }
   ],
   "source": [
    "query = \"What is langgraph?\"\n",
    "\n",
    "results = retriever.get_relevant_documents(query)\n",
    "\n",
    "print(results[0].metadata)\n",
    "print(results[0].page_content)"
   ]
  },
  {
   "cell_type": "markdown",
   "id": "91d255ca",
   "metadata": {},
   "source": [
    "### Use it in Langgraph"
   ]
  },
  {
   "cell_type": "code",
   "execution_count": 20,
   "id": "75b299dc",
   "metadata": {},
   "outputs": [],
   "source": [
    "def f1(AgentState):\n",
    "    message = AgentState[\"message\"]\n",
    "    question = message[-1]\n",
    "    prompt = f\"Your task is to give brief answer to the question: {question}\"\n",
    "    response = llm.invoke(prompt)\n",
    "    AgentState[\"message\"].append(response.content)\n",
    "    return AgentState\n",
    "\n",
    "def f2(AgentState):\n",
    "    question = AgentState[\"message\"][0] # User question\n",
    "\n",
    "    prompt_template = \"\"\"Answer the question based on following context: \n",
    "    {context}\n",
    "    Question: {question}\n",
    "    \"\"\"\n",
    "    prompt = ChatPromptTemplate.from_template(prompt_template)\n",
    "\n",
    "    retrival_chain = (\n",
    "        {\"context\":retriever, \"question\":RunnablePassthrough()}\n",
    "        | prompt\n",
    "        | llm \n",
    "        | StrOutputParser()\n",
    "        )\n",
    "    \n",
    "    retuslt = retrival_chain.invoke(question)\n",
    "    return retuslt"
   ]
  },
  {
   "cell_type": "code",
   "execution_count": 21,
   "id": "9acb168a",
   "metadata": {},
   "outputs": [],
   "source": [
    "workflow_basic_rag = Graph()\n",
    "workflow_basic_rag.add_node(\"llm\", f1)\n",
    "workflow_basic_rag.add_node(\"retriever\", f2)\n",
    "workflow_basic_rag.add_edge(\"llm\", \"retriever\")\n",
    "workflow_basic_rag.set_entry_point(\"llm\")\n",
    "workflow_basic_rag.set_finish_point(\"retriever\")\n",
    "\n",
    "app_basic_rag = workflow_basic_rag.compile()"
   ]
  },
  {
   "cell_type": "code",
   "execution_count": 22,
   "id": "9fcf2ead",
   "metadata": {},
   "outputs": [
    {
     "data": {
      "image/png": "[encoded data removed]",
      "text/plain": [
       "<IPython.core.display.Image object>"
      ]
     },
     "metadata": {},
     "output_type": "display_data"
    }
   ],
   "source": [
    "from IPython.display import display, Image\n",
    "try:\n",
    "    display(Image(app_basic_rag.get_graph().draw_mermaid_png()))\n",
    "except Exception as e:\n",
    "    print(e)"
   ]
  },
  {
   "cell_type": "code",
   "execution_count": 23,
   "id": "8c236e06",
   "metadata": {},
   "outputs": [
    {
     "data": {
      "text/plain": [
       "\"LangGraph is an open-source Python library developed by LangChain Inc.  It's used to build stateful, multi-agent workflows for large language model (LLM) applications.  Unlike traditional DAG frameworks, it supports cycles and loops, making it suitable for complex, interactive agent behaviors.\""
      ]
     },
     "execution_count": 23,
     "metadata": {},
     "output_type": "execute_result"
    }
   ],
   "source": [
    "input = {\"message\": [\"What is LangGraph?\"]}\n",
    "app_basic_rag.invoke(input)"
   ]
  },
  {
   "cell_type": "code",
   "execution_count": 24,
   "id": "c0e37170",
   "metadata": {},
   "outputs": [
    {
     "name": "stdout",
     "output_type": "stream",
     "text": [
      "Output from key llm\n",
      "----\n",
      "{'message': ['What is LangGraph?', 'LangGraph is a knowledge graph representing the relationships between programming languages.']}\n",
      "\n",
      "\n",
      "Output from key retriever\n",
      "----\n",
      "LangGraph is an open-source Python library developed by LangChain Inc.  It's used to build stateful, multi-agent workflows for large language model (LLM) applications.  Unlike traditional DAG frameworks, it supports cycles and loops, making it suitable for complex, interactive agent behaviors.\n",
      "\n",
      "\n"
     ]
    }
   ],
   "source": [
    "input = {\n",
    "    \"message\": [\"What is LangGraph?\"]\n",
    "}\n",
    "for output in app_basic_rag.stream(input):\n",
    "    for k,v in output.items():\n",
    "        print(f\"Output from key {k}\")\n",
    "        print(\"----\")\n",
    "        print(v)\n",
    "        print(\"\\n\")"
   ]
  },
  {
   "cell_type": "markdown",
   "id": "6feca386",
   "metadata": {},
   "source": [
    "### Flow where it will take a call which one to use : RAG or directly LLM"
   ]
  },
  {
   "cell_type": "code",
   "execution_count": 25,
   "id": "6f49fa5c",
   "metadata": {},
   "outputs": [],
   "source": [
    "from typing import TypedDict, Annotated, Sequence\n",
    "import operator\n",
    "from langchain_core.messages import BaseMessage\n",
    "from langchain_core.prompts import PromptTemplate\n",
    "from langchain_core.output_parsers import PydanticOutputParser\n",
    "\n",
    "from pydantic import BaseModel, Field"
   ]
  },
  {
   "cell_type": "code",
   "execution_count": 26,
   "id": "e5a46735",
   "metadata": {},
   "outputs": [],
   "source": [
    "class AgentState(TypedDict):\n",
    "    message: Annotated[Sequence[BaseMessage], operator.add]\n",
    "\n",
    "\n",
    "class TopicSelectionParser(BaseModel):\n",
    "    Topic: str = Field(description=\"Selected topic\")\n",
    "    Reason: str = Field(description=\"Reason behind the topic selection\")"
   ]
  },
  {
   "cell_type": "code",
   "execution_count": 27,
   "id": "76c8adb3",
   "metadata": {},
   "outputs": [],
   "source": [
    "parser = PydanticOutputParser(pydantic_object=TopicSelectionParser)"
   ]
  },
  {
   "cell_type": "code",
   "execution_count": 28,
   "id": "7e4381c2",
   "metadata": {},
   "outputs": [
    {
     "data": {
      "text/plain": [
       "'The output should be formatted as a JSON instance that conforms to the JSON schema below.\\n\\nAs an example, for the schema {\"properties\": {\"foo\": {\"title\": \"Foo\", \"description\": \"a list of strings\", \"type\": \"array\", \"items\": {\"type\": \"string\"}}}, \"required\": [\"foo\"]}\\nthe object {\"foo\": [\"bar\", \"baz\"]} is a well-formatted instance of the schema. The object {\"properties\": {\"foo\": [\"bar\", \"baz\"]}} is not well-formatted.\\n\\nHere is the output schema:\\n```\\n{\"properties\": {\"Topic\": {\"description\": \"Selected topic\", \"title\": \"Topic\", \"type\": \"string\"}, \"Reason\": {\"description\": \"Reason behind the topic selection\", \"title\": \"Reason\", \"type\": \"string\"}}, \"required\": [\"Topic\", \"Reason\"]}\\n```'"
      ]
     },
     "execution_count": 28,
     "metadata": {},
     "output_type": "execute_result"
    }
   ],
   "source": [
    "parser.get_format_instructions()"
   ]
  },
  {
   "cell_type": "code",
   "execution_count": 29,
   "id": "bf23903f",
   "metadata": {},
   "outputs": [],
   "source": [
    "def f1(state):\n",
    "    message = state[\"message\"]\n",
    "    question = message[-1]\n",
    "    \n",
    "    template = \"\"\"Classify given query into one of the given category : [LangGraph, Not Related]. \n",
    "    Only return the selected category.\n",
    "    User query: {question}\n",
    "\n",
    "    {format_instructions}\n",
    "    \"\"\"\n",
    "    prompt = PromptTemplate.from_template(template,\n",
    "                                          partial_variables={\"format_instructions\": parser.get_format_instructions()}\n",
    "                                          )\n",
    "    \n",
    "    #  prompt = ChatPromptTemplate.from_template(prompt_template)\n",
    "\n",
    "    # retrival_chain = (\n",
    "    #     {\"context\":retriever, \"question\":RunnablePassthrough()}\n",
    "    #     | prompt\n",
    "    #     | llm \n",
    "    #     | StrOutputParser()\n",
    "    #     )\n",
    "    \n",
    "    # retuslt = retrival_chain.invoke(question)\n",
    "    chain = prompt | llm | parser\n",
    "    response = chain.invoke({\"question\": question})\n",
    "    print(response)\n",
    "    state[\"message\"].append(response.Topic)\n",
    "    print(\"inside f1 after update: \",state)\n",
    "    return state"
   ]
  },
  {
   "cell_type": "code",
   "execution_count": 30,
   "id": "ee75f008",
   "metadata": {},
   "outputs": [],
   "source": [
    "def route(state):\n",
    "    message = state[\"message\"]\n",
    "    topic = message[-1]    \n",
    "    if \"langgraph\" == topic.lower():\n",
    "        return \"retriever_flow\"\n",
    "    else:\n",
    "        return \"llm_flow\""
   ]
  },
  {
   "cell_type": "code",
   "execution_count": 31,
   "id": "d342e452",
   "metadata": {},
   "outputs": [],
   "source": [
    "def f2(state):\n",
    "    print(\"RAG function--->\")\n",
    "    print(state)\n",
    "    question = state[\"message\"][0] # User question\n",
    "    template = \"\"\"Answer the question based on following context:\n",
    "    {context}\n",
    "    Question: {question}\n",
    "    \"\"\"\n",
    "    prompt = ChatPromptTemplate.from_template(template)\n",
    "    retrieval_chain = (\n",
    "        {\"context\":retriever, \"question\":RunnablePassthrough()}\n",
    "        | prompt\n",
    "        | llm \n",
    "        | StrOutputParser()\n",
    "    )\n",
    "    result = retrieval_chain.invoke(question)\n",
    "    return {\"message\":[result]}"
   ]
  },
  {
   "cell_type": "code",
   "execution_count": 32,
   "id": "0dbe88f2",
   "metadata": {},
   "outputs": [],
   "source": [
    "def f3(state):\n",
    "    print(\"LLM function--->\")\n",
    "    question = state[\"message\"][0] # User question\n",
    "    \n",
    "    prompt = f\"Your task is to give brief answer to the question: {question}\"\n",
    "    response = llm.invoke(prompt)\n",
    "    return {\"message\":[response.content]}\n",
    "    "
   ]
  },
  {
   "cell_type": "code",
   "execution_count": 33,
   "id": "2b5c2fec",
   "metadata": {},
   "outputs": [
    {
     "data": {
      "text/plain": [
       "__main__.AgentState"
      ]
     },
     "execution_count": 33,
     "metadata": {},
     "output_type": "execute_result"
    }
   ],
   "source": [
    "AgentState"
   ]
  },
  {
   "cell_type": "code",
   "execution_count": 34,
   "id": "929182c7",
   "metadata": {},
   "outputs": [],
   "source": [
    "from langgraph.graph import StateGraph, END, START\n",
    "\n",
    "workflow_basic_rag_decision = StateGraph(AgentState)\n",
    "\n",
    "workflow_basic_rag_decision.add_edge(START, \"Agent\")\n",
    "workflow_basic_rag_decision.add_node(\"Agent\", f1)\n",
    "workflow_basic_rag_decision.add_node(\"retriever\", f2)\n",
    "workflow_basic_rag_decision.add_node(\"llm\", f3)\n",
    "\n",
    "\n",
    "workflow_basic_rag_decision.add_conditional_edges(\n",
    "    \"Agent\",\n",
    "    route,\n",
    "    {\n",
    "        \"retriever_flow\": \"retriever\",\n",
    "        \"llm_flow\": \"llm\"\n",
    "    })\n",
    "workflow_basic_rag_decision.add_edge(\"retriever\", END)\n",
    "workflow_basic_rag_decision.add_edge(\"llm\",END)\n",
    "\n",
    "app_basic_rag_decision = workflow_basic_rag_decision.compile()"
   ]
  },
  {
   "cell_type": "code",
   "execution_count": 40,
   "id": "2b5fbba8",
   "metadata": {},
   "outputs": [
    {
     "name": "stdout",
     "output_type": "stream",
     "text": [
      "      +-----------+         \n",
      "      | __start__ |         \n",
      "      +-----------+         \n",
      "            *               \n",
      "            *               \n",
      "            *               \n",
      "        +-------+           \n",
      "        | Agent |           \n",
      "        +-------+           \n",
      "        .       .           \n",
      "      ..         ..         \n",
      "     .             .        \n",
      "+-----+       +-----------+ \n",
      "| llm |       | retriever | \n",
      "+-----+*      +-----------+ \n",
      "        *       *           \n",
      "         **   **            \n",
      "           * *              \n",
      "      +---------+           \n",
      "      | __end__ |           \n",
      "      +---------+           \n",
      "No image data found. Expecting filename, url, or data.\n"
     ]
    }
   ],
   "source": [
    "from IPython.display import display, Image\n",
    "try:\n",
    "    display(Image(app_basic_rag_decision.get_graph().print_ascii()))\n",
    "except Exception as e:\n",
    "    print(e)"
   ]
  },
  {
   "cell_type": "code",
   "execution_count": 36,
   "id": "4a31ec17",
   "metadata": {},
   "outputs": [
    {
     "name": "stdout",
     "output_type": "stream",
     "text": [
      "Topic='LangGraph' Reason='The query directly asks for the definition of LangGraph.'\n",
      "inside f1 after update:  {'message': ['What is LangGraph?', 'LangGraph']}\n",
      "RAG function--->\n",
      "{'message': ['What is LangGraph?', 'LangGraph', 'What is LangGraph?', 'LangGraph']}\n"
     ]
    },
    {
     "data": {
      "text/plain": [
       "{'message': ['What is LangGraph?',\n",
       "  'LangGraph',\n",
       "  'What is LangGraph?',\n",
       "  'LangGraph',\n",
       "  \"LangGraph is an open-source Python library developed by LangChain Inc.  It's used to build stateful, multi-agent workflows for large language model (LLM) applications.  Unlike traditional DAG frameworks, it supports cycles and loops, making it suitable for complex, interactive agent behaviors.\"]}"
      ]
     },
     "execution_count": 36,
     "metadata": {},
     "output_type": "execute_result"
    }
   ],
   "source": [
    "input = {\n",
    "    \"message\": [\"What is LangGraph?\"]\n",
    "}\n",
    "app_basic_rag_decision.invoke(input)"
   ]
  },
  {
   "cell_type": "code",
   "execution_count": 37,
   "id": "81521223",
   "metadata": {},
   "outputs": [
    {
     "name": "stdout",
     "output_type": "stream",
     "text": [
      "Topic='Not Related' Reason='LlamaIndex is not related to LangGraph.'\n",
      "inside f1 after update:  {'message': ['What is LlamaIndex?', 'Not Related']}\n",
      "LLM function--->\n"
     ]
    },
    {
     "data": {
      "text/plain": [
       "{'message': ['What is LlamaIndex?',\n",
       "  'Not Related',\n",
       "  'What is LlamaIndex?',\n",
       "  'Not Related',\n",
       "  'LlamaIndex is an open-source framework for building LLM applications on your own data.']}"
      ]
     },
     "execution_count": 37,
     "metadata": {},
     "output_type": "execute_result"
    }
   ],
   "source": [
    "input = {\n",
    "    \"message\": [\"What is LlamaIndex?\"]\n",
    "}\n",
    "app_basic_rag_decision.invoke(input)"
   ]
  },
  {
   "cell_type": "code",
   "execution_count": 38,
   "id": "8719baf5",
   "metadata": {},
   "outputs": [
    {
     "name": "stdout",
     "output_type": "stream",
     "text": [
      "Topic='Not Related' Reason='LlamaIndex is a framework for building LLM applications, not directly related to LangGraph.'\n",
      "inside f1 after update:  {'message': ['What is LlamaIndex?', 'Not Related']}\n",
      "Output from key Agent\n",
      "----\n",
      "{'message': ['What is LlamaIndex?', 'Not Related']}\n",
      "\n",
      "\n",
      "LLM function--->\n",
      "Output from key llm\n",
      "----\n",
      "{'message': ['LlamaIndex is an open-source framework for building LLM applications on your own data.']}\n",
      "\n",
      "\n"
     ]
    }
   ],
   "source": [
    "for output in app_basic_rag_decision.stream(input):\n",
    "    for k,v in output.items():\n",
    "        print(f\"Output from key {k}\")\n",
    "        print(\"----\")\n",
    "        print(v)\n",
    "        print(\"\\n\")"
   ]
  },
  {
   "cell_type": "code",
   "execution_count": null,
   "id": "48b42d05",
   "metadata": {},
   "outputs": [],
   "source": []
  },
  {
   "cell_type": "code",
   "execution_count": null,
   "id": "a9fe0ad0",
   "metadata": {},
   "outputs": [],
   "source": []
  }
 ],
 "metadata": {
  "kernelspec": {
   "display_name": "Python 3",
   "language": "python",
   "name": "python3"
  },
  "language_info": {
   "codemirror_mode": {
    "name": "ipython",
    "version": 3
   },
   "file_extension": ".py",
   "mimetype": "text/x-python",
   "name": "python",
   "nbconvert_exporter": "python",
   "pygments_lexer": "ipython3",
   "version": "3.12.0"
  }
 },
 "nbformat": 4,
 "nbformat_minor": 5
}
