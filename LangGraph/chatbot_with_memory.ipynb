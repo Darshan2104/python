{
 "cells": [
  {
   "cell_type": "code",
   "execution_count": 1,
   "id": "7f135ba8",
   "metadata": {},
   "outputs": [
    {
     "name": "stdout",
     "output_type": "stream",
     "text": [
      "Hello LangGraph!\n"
     ]
    }
   ],
   "source": [
    "print(\"Hello LangGraph!\")"
   ]
  },
  {
   "cell_type": "code",
   "execution_count": 1,
   "id": "3892b8c1",
   "metadata": {},
   "outputs": [],
   "source": [
    "import os\n",
    "from dotenv import load_dotenv\n",
    "load_dotenv()\n",
    "\n",
    "GOOGLE_API_KEY = os.getenv(\"GOOGLE_API_KEY\")\n",
    "TAVILY_API_KEY = os.getenv(\"TAVILY_API_KEY\")"
   ]
  },
  {
   "cell_type": "code",
   "execution_count": 2,
   "id": "5d77e56c",
   "metadata": {},
   "outputs": [
    {
     "name": "stderr",
     "output_type": "stream",
     "text": [
      "  0%|          | 0/1 [00:00<?, ?it/s]libmagic is unavailable but assists in filetype detection. Please consider installing libmagic for better results.\n",
      "100%|██████████| 1/1 [00:02<00:00,  2.99s/it]\n"
     ]
    }
   ],
   "source": [
    "from langchain_google_genai import GoogleGenerativeAIEmbeddings,ChatGoogleGenerativeAI\n",
    "from langchain_core.messages import HumanMessage, SystemMessage\n",
    "from langchain_core.prompts import PromptTemplate, ChatPromptTemplate\n",
    "from langchain_core.output_parsers import StrOutputParser\n",
    "from langchain_core.runnables import RunnablePassthrough\n",
    "from langchain_community.document_loaders import TextLoader, DirectoryLoader\n",
    "from langchain_community.vectorstores import Chroma\n",
    "from langchain.text_splitter import RecursiveCharacterTextSplitter\n",
    "\n",
    "embeddings = GoogleGenerativeAIEmbeddings(model=\"models/embedding-001\")\n",
    "\n",
    "llm = ChatGoogleGenerativeAI(\n",
    "    model=\"gemini-1.5-flash\",\n",
    "    temperature=0,\n",
    "    max_tokens=None,\n",
    "    timeout=None,\n",
    "    max_retries=2,\n",
    ")\n",
    "\n",
    "docs = DirectoryLoader(\".\", glob=\"*.txt\", show_progress=True).load() # loads all text files in the current directory\n",
    "\n",
    "text_splitter = RecursiveCharacterTextSplitter(\n",
    "    chunk_size=1000,\n",
    "    chunk_overlap=200,\n",
    ")\n",
    "\n",
    "new_docs = text_splitter.split_documents(docs)\n",
    "\n",
    "db = Chroma.from_documents(new_docs, embeddings, persist_directory=\"chroma_db\")\n",
    "retriever = db.as_retriever(search_kwargs={\"k\": 2})"
   ]
  },
  {
   "cell_type": "markdown",
   "id": "d6aa549e",
   "metadata": {},
   "source": [
    "## Agenda:\n",
    "- llm_with_tools\n",
    "- Memeory\n",
    "- ToolNodes"
   ]
  },
  {
   "cell_type": "code",
   "execution_count": 3,
   "id": "5508220f",
   "metadata": {},
   "outputs": [],
   "source": [
    "from typing import Annotated, Literal, TypedDict\n",
    "\n",
    "from langgraph.graph import StateGraph, MessagesState, START, END\n",
    "from langgraph.graph.message import add_messages\n",
    "from langgraph.checkpoint.memory import MemorySaver\n",
    "from langgraph.prebuilt import ToolNode\n",
    "\n",
    "\n",
    "from langchain_core.tools import tool\n",
    "from langchain_core.messages import SystemMessage, HumanMessage, AIMessage\n",
    "from langchain_core.prompts import ChatPromptTemplate"
   ]
  },
  {
   "cell_type": "code",
   "execution_count": 4,
   "id": "b5ad0e13",
   "metadata": {},
   "outputs": [],
   "source": [
    "def call_model(state: MessagesState):\n",
    "    message = state['messages']\n",
    "    response = llm.invoke(message)\n",
    "    return {\"messages\": response}"
   ]
  },
  {
   "cell_type": "code",
   "execution_count": 5,
   "id": "a72fd043",
   "metadata": {},
   "outputs": [],
   "source": [
    "workflow = StateGraph(MessagesState)\n",
    "workflow.add_node(\"chatbot\",call_model)\n",
    "workflow.add_edge(START, \"chatbot\")\n",
    "workflow.add_edge(\"chatbot\", END)\n",
    "app = workflow.compile()"
   ]
  },
  {
   "cell_type": "code",
   "execution_count": 6,
   "id": "8d678a2a",
   "metadata": {},
   "outputs": [
    {
     "data": {
      "image/png": "[encoded data removed]",
      "text/plain": [
       "<IPython.core.display.Image object>"
      ]
     },
     "metadata": {},
     "output_type": "display_data"
    }
   ],
   "source": [
    "from IPython.display import display, Image\n",
    "try:\n",
    "    display(Image(app.get_graph().draw_mermaid_png()))\n",
    "except Exception as e:\n",
    "    print(e)"
   ]
  },
  {
   "cell_type": "code",
   "execution_count": 7,
   "id": "15ebdeba",
   "metadata": {},
   "outputs": [
    {
     "data": {
      "text/plain": [
       "{'messages': [HumanMessage(content='Hello, tell me a joke.', additional_kwargs={}, response_metadata={}, id='65ae6129-8087-4f40-8b96-1e3b1ff6b807'),\n",
       "  AIMessage(content=\"Why don't scientists trust atoms? \\n\\nBecause they make up everything!\", additional_kwargs={}, response_metadata={'prompt_feedback': {'block_reason': 0, 'safety_ratings': []}, 'finish_reason': 'STOP', 'model_name': 'gemini-1.5-flash', 'safety_ratings': []}, id='run--f59984c9-a3bd-4670-ba3c-1e7b251774d4-0', usage_metadata={'input_tokens': 7, 'output_tokens': 17, 'total_tokens': 24, 'input_token_details': {'cache_read': 0}})]}"
      ]
     },
     "execution_count": 7,
     "metadata": {},
     "output_type": "execute_result"
    }
   ],
   "source": [
    "input = {\"messages\":[\"Hello, tell me a joke.\"]}\n",
    "\n",
    "app.invoke(input)"
   ]
  },
  {
   "cell_type": "code",
   "execution_count": 8,
   "id": "cefc2550",
   "metadata": {},
   "outputs": [],
   "source": [
    "@tool\n",
    "def search(query: str) -> str:\n",
    "    \"\"\"this is custom tool.\"\"\"\n",
    "    if \"langgraph\" in query:\n",
    "        return \"langgraph is a graph-based programming language.\"\n",
    "    return \"I don't know the answer to that question.\""
   ]
  },
  {
   "cell_type": "code",
   "execution_count": 9,
   "id": "ca7918b9",
   "metadata": {},
   "outputs": [
    {
     "data": {
      "text/plain": [
       "\"I don't know the answer to that question.\""
      ]
     },
     "execution_count": 9,
     "metadata": {},
     "output_type": "execute_result"
    }
   ],
   "source": [
    "search.invoke(\"what is a document loader?\")"
   ]
  },
  {
   "cell_type": "code",
   "execution_count": 10,
   "id": "037d8f63",
   "metadata": {},
   "outputs": [],
   "source": [
    "tools = [search]\n",
    "tool_node = ToolNode(tools)\n",
    "\n",
    "llm_with_tool = llm.bind_tools(tools)"
   ]
  },
  {
   "cell_type": "code",
   "execution_count": 11,
   "id": "e8817b1b",
   "metadata": {},
   "outputs": [
    {
     "data": {
      "text/plain": [
       "AIMessage(content='', additional_kwargs={'function_call': {'name': 'search', 'arguments': '{\"query\": \"langgraph\"}'}}, response_metadata={'prompt_feedback': {'block_reason': 0, 'safety_ratings': []}, 'finish_reason': 'STOP', 'model_name': 'gemini-1.5-flash', 'safety_ratings': []}, id='run--0e11c145-3b59-496b-86de-e8b12951d2b1-0', tool_calls=[{'name': 'search', 'args': {'query': 'langgraph'}, 'id': '1d67dd50-6643-4dd8-9f1b-138767d4135c', 'type': 'tool_call'}], usage_metadata={'input_tokens': 19, 'output_tokens': 4, 'total_tokens': 23, 'input_token_details': {'cache_read': 0}})"
      ]
     },
     "execution_count": 11,
     "metadata": {},
     "output_type": "execute_result"
    }
   ],
   "source": [
    "llm_with_tool.invoke(\"Hi Can you search for a langgraph?\")"
   ]
  },
  {
   "cell_type": "code",
   "execution_count": 12,
   "id": "a5bafb02",
   "metadata": {},
   "outputs": [],
   "source": [
    "def call_model(state : MessagesState):\n",
    "    message = state['messages']\n",
    "    response = llm_with_tool.invoke(message)\n",
    "    return {\"messages\": [response]}"
   ]
  },
  {
   "cell_type": "code",
   "execution_count": 13,
   "id": "d7b7769c",
   "metadata": {},
   "outputs": [
    {
     "data": {
      "text/plain": [
       "{'messages': [AIMessage(content='I am sorry, I do not have access to external websites or specific files online, including information about \"langgraph\".  Therefore, I cannot provide a definition or description.', additional_kwargs={}, response_metadata={'prompt_feedback': {'block_reason': 0, 'safety_ratings': []}, 'finish_reason': 'STOP', 'model_name': 'gemini-1.5-flash', 'safety_ratings': []}, id='run--fe84b011-bea7-4612-92c0-9d0bfa357cc9-0', usage_metadata={'input_tokens': 15, 'output_tokens': 36, 'total_tokens': 51, 'input_token_details': {'cache_read': 0}})]}"
      ]
     },
     "execution_count": 13,
     "metadata": {},
     "output_type": "execute_result"
    }
   ],
   "source": [
    "call_model({\"messages\":[\"What is langgraph ?\"]})"
   ]
  },
  {
   "cell_type": "code",
   "execution_count": 14,
   "id": "9092eaee",
   "metadata": {},
   "outputs": [],
   "source": [
    "def route_function(state: MessagesState):\n",
    "    message = state['messages'][-1]\n",
    "    if message.tool_calls:\n",
    "        return \"tools\"\n",
    "    else:\n",
    "        return END\n"
   ]
  },
  {
   "cell_type": "code",
   "execution_count": 15,
   "id": "e28d6552",
   "metadata": {},
   "outputs": [],
   "source": [
    "memory = MemorySaver()"
   ]
  },
  {
   "cell_type": "code",
   "execution_count": null,
   "id": "fc3e0150",
   "metadata": {},
   "outputs": [],
   "source": []
  },
  {
   "cell_type": "code",
   "execution_count": 16,
   "id": "5a8eda25",
   "metadata": {},
   "outputs": [],
   "source": [
    "workflow = StateGraph(MessagesState)\n",
    "workflow.add_node(\"agent\",call_model)\n",
    "workflow.add_node(\"tools\", tool_node)\n",
    "\n",
    "workflow.add_edge(START, \"agent\")\n",
    "workflow.add_conditional_edges(\"agent\", \n",
    "                               route_function,\n",
    "                               {\n",
    "                                   \"tools\": \"tools\",\n",
    "                                    END: END\n",
    "                               })\n",
    "\n",
    "app = workflow.compile(checkpointer=memory)"
   ]
  },
  {
   "cell_type": "code",
   "execution_count": 17,
   "id": "430e0edc",
   "metadata": {},
   "outputs": [
    {
     "data": {
      "image/png": "[encoded data removed]",
      "text/plain": [
       "<IPython.core.display.Image object>"
      ]
     },
     "metadata": {},
     "output_type": "display_data"
    }
   ],
   "source": [
    "from IPython.display import display, Image\n",
    "try:\n",
    "    display(Image(app.get_graph().draw_mermaid_png()))\n",
    "except Exception as e:\n",
    "    print(e)"
   ]
  },
  {
   "cell_type": "code",
   "execution_count": 18,
   "id": "04857d85",
   "metadata": {},
   "outputs": [
    {
     "data": {
      "text/plain": [
       "{'messages': [HumanMessage(content='What is langgraph?', additional_kwargs={}, response_metadata={}, id='a2897d63-81c9-4461-bb9c-4dea60bc0128'),\n",
       "  AIMessage(content='I am sorry, I do not have access to external websites or specific files online, including information about \"langgraph\".  Therefore, I cannot provide a definition or description.', additional_kwargs={}, response_metadata={'prompt_feedback': {'block_reason': 0, 'safety_ratings': []}, 'finish_reason': 'STOP', 'model_name': 'gemini-1.5-flash', 'safety_ratings': []}, id='run--2e832fec-5e8a-4e09-bfe2-895f70fcd90b-0', usage_metadata={'input_tokens': 15, 'output_tokens': 36, 'total_tokens': 51, 'input_token_details': {'cache_read': 0}})]}"
      ]
     },
     "execution_count": 18,
     "metadata": {},
     "output_type": "execute_result"
    }
   ],
   "source": [
    "app.invoke({\"messages\":[\"What is langgraph?\"]}, config={\"configurable\": {\"thread_id\": \"thread-1\"}}, stream_mode=\"values\")"
   ]
  },
  {
   "cell_type": "code",
   "execution_count": null,
   "id": "098e94bd",
   "metadata": {},
   "outputs": [],
   "source": []
  },
  {
   "cell_type": "markdown",
   "id": "99cd3a55",
   "metadata": {},
   "source": [
    "## Structured Response"
   ]
  },
  {
   "cell_type": "code",
   "execution_count": 19,
   "id": "3f32261b",
   "metadata": {},
   "outputs": [],
   "source": [
    "from langchain_community.tools import TavilySearchResults\n",
    "from langchain_core.tools import tool\n",
    "from langchain_core.messages import SystemMessage, HumanMessage, AIMessage\n",
    "\n",
    "from pydantic import BaseModel, Field\n",
    "\n",
    "from langgraph.graph import StateGraph, MessagesState, START, END\n",
    "from langgraph.prebuilt import ToolNode\n"
   ]
  },
  {
   "cell_type": "code",
   "execution_count": 20,
   "id": "0235dd1e",
   "metadata": {},
   "outputs": [],
   "source": [
    "tavily_search = TavilySearchResults()"
   ]
  },
  {
   "cell_type": "code",
   "execution_count": 21,
   "id": "d0a34183",
   "metadata": {},
   "outputs": [],
   "source": [
    "@tool\n",
    "def get_city_details(prompt):\n",
    "    \"\"\" Do a web search to get requried details about a city. \"\"\"\n",
    "    return tavily_search.invoke(prompt)\n",
    "\n",
    "\n",
    "tools = [get_city_details]\n",
    "tool_node = ToolNode(tools)\n",
    "model_with_tool = llm.bind_tools(tools)"
   ]
  },
  {
   "cell_type": "code",
   "execution_count": 50,
   "id": "603b3fcb",
   "metadata": {},
   "outputs": [],
   "source": [
    "class CityDetails(BaseModel):\n",
    "    \"\"\" Respond to the user with city details. \"\"\"\n",
    "    state_name: str = Field(description=\"State Name of the city\")\n",
    "    state_capital: str = Field(description=\"State Capital of the city\")\n",
    "    country_name: str = Field(description=\"Country Name of the city\")\n",
    "    country_capital: str = Field(description=\"Country Capital of the city\")\n",
    "    current_temperature: str = Field(description=\"Current Temperature of the city\")\n",
    "\n",
    "class AgentState(MessagesState):\n",
    "    Final_response: CityDetails\n",
    "\n",
    "\n",
    "model_with_structured_output =llm.with_structured_output(CityDetails)    "
   ]
  },
  {
   "cell_type": "code",
   "execution_count": 51,
   "id": "5b7a4f68",
   "metadata": {},
   "outputs": [],
   "source": [
    "def call_model(state: AgentState):\n",
    "    print(f\"CallModel Input : {state}\") \n",
    "    message = state['messages']\n",
    "    response = model_with_tool.invoke(message)\n",
    "    print(f\"CallModel response : {response}\")\n",
    "    return {\"messages\": [response]}\n",
    "\n",
    "def respond(state: AgentState):\n",
    "    print(f\"Respond Input : {state}\")\n",
    "    message = state['messages'][-1].content\n",
    "    response = model_with_structured_output.invoke([HumanMessage(content=message)])\n",
    "    print(f\"Respond response : {response}\")\n",
    "    return {\"Final_response\": response}\n",
    "\n",
    "\n",
    "def should_continue(state: AgentState):\n",
    "    message = state['messages'][-1]\n",
    "    if not message.tool_calls:\n",
    "        return \"respond\"\n",
    "    else:\n",
    "        return \"continue\""
   ]
  },
  {
   "cell_type": "code",
   "execution_count": 52,
   "id": "00544013",
   "metadata": {},
   "outputs": [],
   "source": [
    "workflow = StateGraph(AgentState)\n",
    "workflow.add_node(\"llm\", call_model)\n",
    "workflow.add_node(\"tools\", tool_node)\n",
    "workflow.add_node(\"respond\", respond)\n",
    "\n",
    "workflow.add_edge(START, \"llm\")\n",
    "\n",
    "workflow.add_conditional_edges(\"llm\", \n",
    "                               should_continue,\n",
    "                               {\n",
    "                                   \"respond\": \"respond\",\n",
    "                                   \"continue\": \"tools\"\n",
    "                               })\n",
    "\n",
    "workflow.add_edge(\"tools\", \"llm\")\n",
    "workflow.add_edge(\"respond\", END)\n",
    "\n",
    "app = workflow.compile()"
   ]
  },
  {
   "cell_type": "code",
   "execution_count": 53,
   "id": "020f4cbd",
   "metadata": {},
   "outputs": [
    {
     "data": {
      "image/png": "[encoded data removed]",
      "text/plain": [
       "<IPython.core.display.Image object>"
      ]
     },
     "metadata": {},
     "output_type": "display_data"
    }
   ],
   "source": [
    "from IPython.display import display, Image\n",
    "\n",
    "display(Image(app.get_graph().draw_mermaid_png()))"
   ]
  },
  {
   "cell_type": "code",
   "execution_count": 54,
   "id": "20a75b4d",
   "metadata": {},
   "outputs": [
    {
     "name": "stdout",
     "output_type": "stream",
     "text": [
      "CallModel Input : {'messages': [HumanMessage(content='Tell me about city details for Surat?', additional_kwargs={}, response_metadata={}, id='c1d87056-7b13-4316-85a6-65ab2c756fb7')]}\n",
      "CallModel response : content='' additional_kwargs={'function_call': {'name': 'get_city_details', 'arguments': '{\"prompt\": \"Surat\"}'}} response_metadata={'prompt_feedback': {'block_reason': 0, 'safety_ratings': []}, 'finish_reason': 'STOP', 'model_name': 'gemini-1.5-flash', 'safety_ratings': []} id='run--7dc008f9-5eba-423a-a7de-18e7382aa98c-0' tool_calls=[{'name': 'get_city_details', 'args': {'prompt': 'Surat'}, 'id': 'f2a73a27-822d-42a8-88df-02c55b42701c', 'type': 'tool_call'}] usage_metadata={'input_tokens': 29, 'output_tokens': 7, 'total_tokens': 36, 'input_token_details': {'cache_read': 0}}\n",
      "CallModel Input : {'messages': [HumanMessage(content='Tell me about city details for Surat?', additional_kwargs={}, response_metadata={}, id='c1d87056-7b13-4316-85a6-65ab2c756fb7'), AIMessage(content='', additional_kwargs={'function_call': {'name': 'get_city_details', 'arguments': '{\"prompt\": \"Surat\"}'}}, response_metadata={'prompt_feedback': {'block_reason': 0, 'safety_ratings': []}, 'finish_reason': 'STOP', 'model_name': 'gemini-1.5-flash', 'safety_ratings': []}, id='run--7dc008f9-5eba-423a-a7de-18e7382aa98c-0', tool_calls=[{'name': 'get_city_details', 'args': {'prompt': 'Surat'}, 'id': 'f2a73a27-822d-42a8-88df-02c55b42701c', 'type': 'tool_call'}], usage_metadata={'input_tokens': 29, 'output_tokens': 7, 'total_tokens': 36, 'input_token_details': {'cache_read': 0}}), ToolMessage(content='[{\"title\": \"Surat - Wikipedia\", \"url\": \"https://en.wikipedia.org/wiki/Surat\", \"content\": \"Surat (Gujarati: [suɾət]) is a city in the western Indian state of Gujarat. The word Surat directly translates to face in Urdu, Gujarati and Hindi. Located on the banks of the river Tapti near its confluence with the Arabian Sea, it used to be a large seaport. It is now the commercial and economic centre of South Gujarat, and one of the largest urban areas of western India. It has well-established diamond and textile industry, and is a major supply centre for apparels and accessories. About 90% [...] of the world\\'s diamonds are cut and polished in Surat.[13][14][15] It is the second largest city in Gujarat after Ahmedabad and the eighth largest city by population and ninth largest urban agglomeration in India.[16] It is the administrative capital of the Surat district. [...] Surat\\\\nMetropolis\\\\nFrom top:Tapi Riverpanorama,Surat Diamond Bourse,Gaurav Path,British Cemetery of Surat,Swaminarayan Mandir,Pandit Deendayal Upadhyay Indoor Stadium, Vesu Skyline,Science Centre, Surat,Surat Airport\\\\nNickname:Diamond City of India[1]\\\\nSuratSurat (Gujarat)Show map of GujaratSuratSurat (India)Show map of India\\\\nCoordinates:21°12′18″N72°50′24″E\\ufeff / \\ufeff21.20500°N 72.84000°E\\ufeff /21.20500; 72.84000\\\\nCountry | India\\\\nState | Gujarat\\\\nDistrict | Surat\\\\nZone | 7\\\\nNamed after | Surya\\\\nGovernment\", \"score\": 0.9301101}, {\"title\": \"District Surat, Government of Gujarat | Surat.. Sonani Murat!! | India\", \"url\": \"https://surat.nic.in/\", \"content\": \"Surat is a city located on the western part of India in the state of Gujarat. It is one of the most dynamic city of India with one of the fastest growth rate\", \"score\": 0.8900749}, {\"title\": \"Surat Municipal Corporation\", \"url\": \"https://www.suratmunicipal.gov.in/\", \"content\": \"Surat is a city located on the western part of India in the state of Gujarat. It is one of the most dynamic city of India with one of the fastest growth rate due to immigration from various part of Gujarat and other states of India.\\\\n\\\\nABOUT SURAT MUNICIPAL CORPORATION\\\\n\\\\nSurat Municipal Corporation is a local self government which has come into being under the Bombay Provincial Municipal Act, 1949.\\\\n\\\\nImportant Links\\\\n\\\\nPlease check some important links pertaining to Surat Municipal Corporation\", \"score\": 0.8588255}, {\"title\": \"Surat district - Wikipedia\", \"url\": \"https://en.wikipedia.org/wiki/Surat_district\", \"content\": \"Surat is a district in the state of Gujarat,  city as the administrative headquarters of this district. It is surrounded by Bharuch, Narmada (North), Navsari  (South) districts and east Tapi district To the west is the Gulf of Cambay. It is the second-most advanced district in Gujarat. It had a population of 6,081,322 of which 79.68% were urban as of 2011. [...] As of 2011 it is the 12th most populous district of India (out of 640), and the second most populous district of Gujarat (out of 33) after Ahmadabad.[1][2]\\\\n\\\\nGeography [...] Surat has a tropical savanna climate (Köppen: Aw), moderated strongly by the Sea to the Gulf of Cambay. The summer begins in early March and lasts until June. April and May are the hottest months, the average maximum temperature being 37\\xa0°C (99\\xa0°F). Monsoon begins in late June, and the city receives about 1,200 millimetres (47\\xa0in) of rain by the end of September, with the average maximum being 32\\xa0°C (90\\xa0°F) during those months. October and November see the retreat of the monsoon and a return of\", \"score\": 0.85538095}, {\"title\": \"Surat Tourism | Places to Visit | Incredible India\", \"url\": \"https://www.incredibleindia.gov.in/en/gujarat/surat\", \"content\": \"Surat is a city known for its lively festivals and vibrant celebrations that bring communities together in a spirit of joy and cultural exchange. From the colourful Navratri celebrations and the exhilarating kite-flying extravaganza of Uttarayan to the deep sense of celebration during Eid and Diwali, the festivals in Surat unite people from all walks of life in a spirit of togetherness and joy. [...] Step into the vibrant city of Surat, located on the banks of the Tapi River in Gujarat, India. This dynamic city boasts a history that spans over 600 years, making it one of the oldest in Gujarat. Founded in the 15th century by a Brahmin named Gopi, Surat swiftly flourished into a bustling port city and a pivotal hub for maritime trade along the Arabian Sea coast. Throughout the ages, Surat has seen the ebb and flow of empires, from the Mughals to the British, each leaving an indelible mark on [...] Steeped in history, thriving in the present, and promising a bright future, Surat is a testament to the unwavering spirit of Gujarat and India. Whether you\\'re exploring its rich heritage, indulging in its diverse culinary offerings, or admiring its entrepreneurial spirit, Surat offers an enchanting journey!\\\\nAttractions\\\\nworth a thousand stories\\\\nPrevious\", \"score\": 0.8170061}]', name='get_city_details', id='443db132-9b9d-490a-b256-ee75428c814c', tool_call_id='f2a73a27-822d-42a8-88df-02c55b42701c')]}\n",
      "CallModel response : content=\"Surat is a city in the western Indian state of Gujarat, located on the Tapti River near the Arabian Sea.  It's a major commercial and economic center, known for its diamond and textile industries.  It's the second-largest city in Gujarat and one of the largest in India.  Surat has a rich history, having been a significant seaport and trading hub for centuries.  The city is also known for its vibrant festivals and celebrations.\" additional_kwargs={} response_metadata={'prompt_feedback': {'block_reason': 0, 'safety_ratings': []}, 'finish_reason': 'STOP', 'model_name': 'gemini-1.5-flash', 'safety_ratings': []} id='run--26c21a33-aa97-40bb-ad35-bcf8f68cf232-0' usage_metadata={'input_tokens': 1174, 'output_tokens': 94, 'total_tokens': 1268, 'input_token_details': {'cache_read': 0}}\n",
      "Respond Input : {'messages': [HumanMessage(content='Tell me about city details for Surat?', additional_kwargs={}, response_metadata={}, id='c1d87056-7b13-4316-85a6-65ab2c756fb7'), AIMessage(content='', additional_kwargs={'function_call': {'name': 'get_city_details', 'arguments': '{\"prompt\": \"Surat\"}'}}, response_metadata={'prompt_feedback': {'block_reason': 0, 'safety_ratings': []}, 'finish_reason': 'STOP', 'model_name': 'gemini-1.5-flash', 'safety_ratings': []}, id='run--7dc008f9-5eba-423a-a7de-18e7382aa98c-0', tool_calls=[{'name': 'get_city_details', 'args': {'prompt': 'Surat'}, 'id': 'f2a73a27-822d-42a8-88df-02c55b42701c', 'type': 'tool_call'}], usage_metadata={'input_tokens': 29, 'output_tokens': 7, 'total_tokens': 36, 'input_token_details': {'cache_read': 0}}), ToolMessage(content='[{\"title\": \"Surat - Wikipedia\", \"url\": \"https://en.wikipedia.org/wiki/Surat\", \"content\": \"Surat (Gujarati: [suɾət]) is a city in the western Indian state of Gujarat. The word Surat directly translates to face in Urdu, Gujarati and Hindi. Located on the banks of the river Tapti near its confluence with the Arabian Sea, it used to be a large seaport. It is now the commercial and economic centre of South Gujarat, and one of the largest urban areas of western India. It has well-established diamond and textile industry, and is a major supply centre for apparels and accessories. About 90% [...] of the world\\'s diamonds are cut and polished in Surat.[13][14][15] It is the second largest city in Gujarat after Ahmedabad and the eighth largest city by population and ninth largest urban agglomeration in India.[16] It is the administrative capital of the Surat district. [...] Surat\\\\nMetropolis\\\\nFrom top:Tapi Riverpanorama,Surat Diamond Bourse,Gaurav Path,British Cemetery of Surat,Swaminarayan Mandir,Pandit Deendayal Upadhyay Indoor Stadium, Vesu Skyline,Science Centre, Surat,Surat Airport\\\\nNickname:Diamond City of India[1]\\\\nSuratSurat (Gujarat)Show map of GujaratSuratSurat (India)Show map of India\\\\nCoordinates:21°12′18″N72°50′24″E\\ufeff / \\ufeff21.20500°N 72.84000°E\\ufeff /21.20500; 72.84000\\\\nCountry | India\\\\nState | Gujarat\\\\nDistrict | Surat\\\\nZone | 7\\\\nNamed after | Surya\\\\nGovernment\", \"score\": 0.9301101}, {\"title\": \"District Surat, Government of Gujarat | Surat.. Sonani Murat!! | India\", \"url\": \"https://surat.nic.in/\", \"content\": \"Surat is a city located on the western part of India in the state of Gujarat. It is one of the most dynamic city of India with one of the fastest growth rate\", \"score\": 0.8900749}, {\"title\": \"Surat Municipal Corporation\", \"url\": \"https://www.suratmunicipal.gov.in/\", \"content\": \"Surat is a city located on the western part of India in the state of Gujarat. It is one of the most dynamic city of India with one of the fastest growth rate due to immigration from various part of Gujarat and other states of India.\\\\n\\\\nABOUT SURAT MUNICIPAL CORPORATION\\\\n\\\\nSurat Municipal Corporation is a local self government which has come into being under the Bombay Provincial Municipal Act, 1949.\\\\n\\\\nImportant Links\\\\n\\\\nPlease check some important links pertaining to Surat Municipal Corporation\", \"score\": 0.8588255}, {\"title\": \"Surat district - Wikipedia\", \"url\": \"https://en.wikipedia.org/wiki/Surat_district\", \"content\": \"Surat is a district in the state of Gujarat,  city as the administrative headquarters of this district. It is surrounded by Bharuch, Narmada (North), Navsari  (South) districts and east Tapi district To the west is the Gulf of Cambay. It is the second-most advanced district in Gujarat. It had a population of 6,081,322 of which 79.68% were urban as of 2011. [...] As of 2011 it is the 12th most populous district of India (out of 640), and the second most populous district of Gujarat (out of 33) after Ahmadabad.[1][2]\\\\n\\\\nGeography [...] Surat has a tropical savanna climate (Köppen: Aw), moderated strongly by the Sea to the Gulf of Cambay. The summer begins in early March and lasts until June. April and May are the hottest months, the average maximum temperature being 37\\xa0°C (99\\xa0°F). Monsoon begins in late June, and the city receives about 1,200 millimetres (47\\xa0in) of rain by the end of September, with the average maximum being 32\\xa0°C (90\\xa0°F) during those months. October and November see the retreat of the monsoon and a return of\", \"score\": 0.85538095}, {\"title\": \"Surat Tourism | Places to Visit | Incredible India\", \"url\": \"https://www.incredibleindia.gov.in/en/gujarat/surat\", \"content\": \"Surat is a city known for its lively festivals and vibrant celebrations that bring communities together in a spirit of joy and cultural exchange. From the colourful Navratri celebrations and the exhilarating kite-flying extravaganza of Uttarayan to the deep sense of celebration during Eid and Diwali, the festivals in Surat unite people from all walks of life in a spirit of togetherness and joy. [...] Step into the vibrant city of Surat, located on the banks of the Tapi River in Gujarat, India. This dynamic city boasts a history that spans over 600 years, making it one of the oldest in Gujarat. Founded in the 15th century by a Brahmin named Gopi, Surat swiftly flourished into a bustling port city and a pivotal hub for maritime trade along the Arabian Sea coast. Throughout the ages, Surat has seen the ebb and flow of empires, from the Mughals to the British, each leaving an indelible mark on [...] Steeped in history, thriving in the present, and promising a bright future, Surat is a testament to the unwavering spirit of Gujarat and India. Whether you\\'re exploring its rich heritage, indulging in its diverse culinary offerings, or admiring its entrepreneurial spirit, Surat offers an enchanting journey!\\\\nAttractions\\\\nworth a thousand stories\\\\nPrevious\", \"score\": 0.8170061}]', name='get_city_details', id='443db132-9b9d-490a-b256-ee75428c814c', tool_call_id='f2a73a27-822d-42a8-88df-02c55b42701c'), AIMessage(content=\"Surat is a city in the western Indian state of Gujarat, located on the Tapti River near the Arabian Sea.  It's a major commercial and economic center, known for its diamond and textile industries.  It's the second-largest city in Gujarat and one of the largest in India.  Surat has a rich history, having been a significant seaport and trading hub for centuries.  The city is also known for its vibrant festivals and celebrations.\", additional_kwargs={}, response_metadata={'prompt_feedback': {'block_reason': 0, 'safety_ratings': []}, 'finish_reason': 'STOP', 'model_name': 'gemini-1.5-flash', 'safety_ratings': []}, id='run--26c21a33-aa97-40bb-ad35-bcf8f68cf232-0', usage_metadata={'input_tokens': 1174, 'output_tokens': 94, 'total_tokens': 1268, 'input_token_details': {'cache_read': 0}})]}\n",
      "Respond response : state_name='Gujarat' state_capital='Gandhinagar' country_name='India' country_capital='New Delhi' current_temperature='30 degrees Celsius'\n"
     ]
    }
   ],
   "source": [
    "ans = app.invoke({\"messages\":[(\"human\",\"Tell me about city details for Surat?\")]})['Final_response']"
   ]
  },
  {
   "cell_type": "code",
   "execution_count": 55,
   "id": "cc995cb2",
   "metadata": {},
   "outputs": [
    {
     "data": {
      "text/plain": [
       "CityDetails(state_name='Gujarat', state_capital='Gandhinagar', country_name='India', country_capital='New Delhi', current_temperature='30 degrees Celsius')"
      ]
     },
     "execution_count": 55,
     "metadata": {},
     "output_type": "execute_result"
    }
   ],
   "source": [
    "ans"
   ]
  },
  {
   "cell_type": "code",
   "execution_count": null,
   "id": "70a7af25",
   "metadata": {},
   "outputs": [],
   "source": []
  }
 ],
 "metadata": {
  "kernelspec": {
   "display_name": "Python 3",
   "language": "python",
   "name": "python3"
  },
  "language_info": {
   "codemirror_mode": {
    "name": "ipython",
    "version": 3
   },
   "file_extension": ".py",
   "mimetype": "text/x-python",
   "name": "python",
   "nbconvert_exporter": "python",
   "pygments_lexer": "ipython3",
   "version": "3.12.0"
  }
 },
 "nbformat": 4,
 "nbformat_minor": 5
}
