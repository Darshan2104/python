{
 "cells": [
  {
   "cell_type": "markdown",
   "id": "c83a8793",
   "metadata": {},
   "source": [
    "# Execute 2 nodes parallely side by side at a same time."
   ]
  },
  {
   "cell_type": "markdown",
   "id": "bbf11785",
   "metadata": {},
   "source": [
    "## Basic FLow : 1"
   ]
  },
  {
   "cell_type": "code",
   "execution_count": 1,
   "id": "76a331a5",
   "metadata": {},
   "outputs": [],
   "source": [
    "import os\n",
    "from dotenv import load_dotenv\n",
    "load_dotenv()\n",
    "\n",
    "GOOGLE_API_KEY = os.getenv(\"GOOGLE_API_KEY\")\n",
    "TAVILY_API_KEY = os.getenv(\"TAVILY_API_KEY\")\n",
    "LANGCHAIN_API_KEY = os.getenv(\"LANGCHAIN_API_KEY\")\n",
    "LANGCHAIN_PROJECT = os.getenv(\"LANGCHAIN_PROJECT\")\n",
    "LANGCHAIN_TRACING_V2=True\n",
    "LANGCHAIN_ENDPOINT=\"https://api.smith.langchain.com\"\n",
    "\n",
    "os.environ[\"LANGCHAIN_ENDPOINT\"] =LANGCHAIN_ENDPOINT\n",
    "os.environ[\"LANGCHAIN_PROJECT\"] =LANGCHAIN_PROJECT\n",
    "os.environ[\"LANGCHAIN_API_KEY\"] =LANGCHAIN_API_KEY\n",
    "\n",
    "# from langchain_google_genai import GoogleGenerativeAIEmbeddings\n",
    "# from langchain_google_genai import ChatGoogleGenerativeAI\n",
    "\n",
    "# embeddings = GoogleGenerativeAIEmbeddings(model=\"models/embedding-001\")\n",
    "# llm = ChatGoogleGenerativeAI(model=\"gemini-1.5-flash\")"
   ]
  },
  {
   "cell_type": "code",
   "execution_count": 2,
   "id": "7dea3e58",
   "metadata": {},
   "outputs": [],
   "source": [
    "import operator\n",
    "from typing import Annotated, Any\n",
    "from typing_extensions import TypedDict\n",
    "from langgraph.graph import START, StateGraph, END"
   ]
  },
  {
   "cell_type": "code",
   "execution_count": 7,
   "id": "5782a60c",
   "metadata": {},
   "outputs": [],
   "source": [
    "class State(TypedDict):\n",
    "    aggregate: Annotated[list,operator.add]\n",
    "\n",
    "class ReturnNodeValue:\n",
    "    def __init__(self, node_secret: str):\n",
    "        self._value = node_secret\n",
    "    \n",
    "    def __call__(self, state: State) -> Any:\n",
    "        import time\n",
    "        time.sleep(2)\n",
    "        print(f\"Adding {self._value} to {state['aggregate']}\")\n",
    "        return {\"aggregate\":[self._value]}\n",
    "\n",
    "\n",
    "builder = StateGraph(State)\n",
    "builder.add_node(\"a\", ReturnNodeValue(\"I'm A\"))\n",
    "builder.add_node(\"b\", ReturnNodeValue(\"I'm B\"))\n",
    "builder.add_node(\"c\", ReturnNodeValue(\"I'm C\"))\n",
    "builder.add_node(\"d\", ReturnNodeValue(\"I'm D\"))\n",
    "\n",
    "builder.add_edge(START, \"a\")\n",
    "builder.add_edge(\"a\", \"b\")\n",
    "builder.add_edge(\"a\", \"c\")\n",
    "builder.add_edge(\"b\", \"d\")\n",
    "builder.add_edge(\"c\", \"d\")\n",
    "builder.add_edge(\"d\", END)\n",
    "\n",
    "graph = builder.compile()"
   ]
  },
  {
   "cell_type": "code",
   "execution_count": 11,
   "id": "573257e1",
   "metadata": {},
   "outputs": [
    {
     "data": {
      "image/png": "[encoded data removed]",
      "text/plain": [
       "<langgraph.graph.state.CompiledStateGraph object at 0x112b361e0>"
      ]
     },
     "execution_count": 11,
     "metadata": {},
     "output_type": "execute_result"
    }
   ],
   "source": [
    "graph"
   ]
  },
  {
   "cell_type": "code",
   "execution_count": 8,
   "id": "db364fc6",
   "metadata": {},
   "outputs": [
    {
     "data": {
      "text/plain": [
       "b'\\x89PNG\\r\\n\\x1a\\n\\x00\\x00\\x00\\rIHDR\\x00\\x00\\x00\\x8f\\x00\\x00\\x01\\xb0\\x08\\x02\\x00\\x00\\x00\\x1fZ\\xa1\\x08\\x00\\x00\\x10\\x00IDATx\\x9c\\xec\\x9d\\x07x\\x14\\xd5\\xda\\x80\\xbf\\xed-\\x9bM\\x0fI \\t\\x10CI\\x02\\x04\\x08\\x1d\\x02BD\\x08%\\x80\"\\x02\\x16\\xc4.\\xd2\\xbcW\\x05\\x15\\x05\\x7fQ/X\\xfe\\x07\\xb9(^\\xaf\\x15\\xa5\\t\\x82@\\xa2(U\\x02$\\x01\\x92\\x10@j\\x12Jz\\xdf\\xde\\xff\\x0fr\\x9f\\xc8\\xaf!\\xac\\xde\\x99\\xd99\\xb3\\xe7}x\\xf6\\x99\\x9d\\xd9,\\xb3\\xe7\\x9ds\\xcew\\xca\\x9c\\x91\\xba\\xddn\\xa0\\x10\\x82\\x14(\\xe4@m\\x91\\x04\\xb5E\\x12\\xd4\\x16IP[$Am\\x91\\x84\\xd7lU^\\xb6\\x98\\xf4N\\x93\\xde\\xe1\\xb0\\xb9\\xadf\\x17\\xf0\\x1e\\x99\\\\$\\x91\\x8a\\xd4Z\\xa9Z+\\t\\x89\\x92\\xcb\\x95\\x12\\xe0\\x1c\\x11\\xc7\\xed\\xad\\x0b\\x05\\x86\\xe2\\x93\\xc6KE\\x86\\x98nj\\xf4\\x84?>\\xb0\\x9d\\xdcn!\\xc1\\x96B\\xd4T\\xe7\\xc0\\xcb\\x0b/\\xb2\\x86*{P;y\\xa7DM|\\x1f?\\x95\\x1fwW<w\\xb6\\xce\\x1d\\xd7g\\x7f_\\x1b\\x15\\xa7\\xea\\xd0E\\xd5)\\xd1O\\xae\\x14\\x03\\xc9\\\\=o\\xbaTd\\xac\\xbeb\\x8d\\xe8\\xa8\\x1c4>\\x048\\x81\\x0b[\\xc6&\\xc7\\x8f_Vb\\x012h|\\xb06P\\x06\\xc2\\xe2\\xd8\\xcf\\xf5\\x87w\\xd4\\x8e\\x9c\\x1e\\xd6-\\xc5\\x1fX\\x86u[\\x97\\x7f5\\xfd\\xf4ue\\xc6\\xd3\\x91A\\xed\\x14 \\\\\\x0em\\xabq\\xb9\\xdcC\\'\\x85\\x02\\x9b\\xb0k\\x0bC\\x89#\\xbbj\\'>\\x19\\x05>@\\xfe\\xfe\\x86\\xfa*\\xdb\\x88{\\xc3\\x805X\\xb4u6O\\x7f&\\xb7)\\xe3)\\x9fP\\xd5L\\xfe\\xfe\\xfa+g\\xcd\\xe3\\x1f\\x8f\\x04v`\\xab\\xaa\\xaf)\\xb3\\x1e\\xdfS\\xefS\\xaa\\x90^\\xa9\\x81\\x11\\x9d\\x94X\\x8d\\x01;\\xb0b\\xcb\\xedr\\x1f\\xd8R}\\xff\\xf3\\xd1\\xe0{\\xf4\\x1d\\x15\\xe4r\\xba/\\x16\\xe8\\x81\\x05X\\xb1\\xf5\\xcb\\xb6\\x9aNI~\\xe0\\xab\\xf4\\x1a\\x11\\xb0\\xff\\xdb\\x1a`\\x01\\xe6ma\\xbc~\\xfe\\x84\\xa1Wj\\x00\\xf8*\\x1a\\x7f\\xe9\\x1d\\xc9~\\x18t\\x00\\xd30o\\x0b\\xcfr\\xd8\\x14v\\x03Y\\xfe3hBpq\\x91\\x01\\x98\\x86y[E\\x87\\x1a\\xa3\\xbb\\xa8\\xc1\\xb7\\x91H\\xc4R\\x99\\xb8\\xe4\\xb4\\x11\\x18\\x85a[\\xd8\\x1f\\x13\\xd6A\\xc9q\\xaf\\xd2\\xc6\\x8d\\x1b_}\\xf5U\\xf8\\xf3\\xbc\\xf8\\xe2\\x8b\\xdb\\xb6m\\x03v\\xe8\\x98\\xa4\\xc1\\x1eQ`\\x14\\xc6m\\x99\\xb1\\xa3\\x13\\xb8\\xe5\\xf4\\xe9\\xd3\\xf0\\x97\\xf8\\xcb\\x7f\\xe8\\t\\x9d\\x934uU6`\\x14\\x86mU_\\xb5b\\x1d\\x0b\\xecPRR\\x82\\xb9!--m\\xd4\\xa8Q\\x0b\\x17.\\xcc\\xcf\\xcf\\xc7\\x9d\\x8f?\\xfe\\xf8\\x8e\\x1d;v\\xee\\xdc\\xd9\\xb7o\\xdf_\\x7f\\xfd\\x15\\xf7l\\xd8\\xb0a\\xce\\x9c9\\xc3\\x87\\x0f\\x1f=z\\xf4\\xa2E\\x8b\\xae^\\xbd\\xda\\xfc\\xe7\\xeb\\xd7\\xaf\\xc7=\\xfb\\xf6\\xed\\xeb\\xd7\\xaf\\xdf\\xca\\x95+\\xf1\\xf3eee\\xaf\\xbf\\xfe:~\\x12X\\x00\\xfb\\xe6k\\xaeYm\\x8c\\x0e/0l\\xcb\\xd4\\xe4T\\xfb\\xb32\\xf0c\\xb3\\xd9P\\x8cD\"Y\\xb5j\\xd5\\x9a5k\\xa4R\\xe9\\x82\\x05\\x0b,\\x16\\xcb\\xda\\xb5k\\x13\\x13\\x13\\xd3\\xd3\\xd3\\xf3\\xf2\\xf2\\xbav\\xed\\x8a\\nW\\xacX\\xd1\\xb3gO\\xf4\\xb1t\\xe9\\xd2\\xba\\xba\\xba\\x97_~\\xb9\\xf9\\x1b\\xe4r\\xb9\\xd1h\\xdc\\xbcy\\xf3\\xb2e\\xcb\\xa6N\\x9dz\\xe8\\xd0!\\xdc\\xf9\\xca+\\xaf\\xa0?`\\x07\\xbcp1B\\x06\\xe6`8\\x1f\\x18\\xf5\\x0e\\x8d\\x96\\x95\\xbcUZZ\\x8aI\\x7f\\xff\\xfd\\xf7\\xa3\\x12|\\xfb\\xd6[o\\x1d?~\\xdc\\xe1\\xf8}Z$%%a5\\x16\\x1d\\x1d\\x8d:\\xf1\\xad\\xddnG\\xa9\\x8d\\x8d\\x8d:\\x9dN$\\x12\\xa1\\xdd\\x87\\x1ez(%%\\x05\\x0fY\\xadV`\\x19\\x8dNjlt\\x04\\x86\\xc9\\x81!\\x18NY\\xb9B,\\x96\\x8a\\x80\\x05P@``\\xe0k\\xaf\\xbd6v\\xec\\xd8>}\\xfa`\\xee\\xc1\\xa2\\xec\\x8f\\x1f\\xc3\\xcc\\x87E\\xdf;\\xef\\xbcSTT\\x849\\xa9y\\'jF[\\xcd\\xdb\\t\\t\\t\\xc0\\x15\\n\\x95\\x18;\\xe6\\x819\\x18.\\tQ\\x95\\xa9\\x91\\xc9\\xbc\\xdf\\x82B\\xa1\\xf8\\xf8\\xe3\\x8f\\x87\\x0c\\x19\\xf2\\xf5\\xd7_\\xcf\\x9e=;##c\\xd7\\xae]\\x7f\\xfc\\xd8\\xfe\\xfd\\xfb\\xb1J\\xeb\\xde\\xbd;~877\\xf7\\x83\\x0f>\\xf8\\xdd\\x07\\xb0<\\x04\\xaeh\\xa8\\xb63[\\x8b3lK\\xa3\\x95\\x18\\xf5N`\\x87\\xd8\\xd8\\xd8\\xf9\\xf3\\xe7cL\\xf1\\xee\\xbb\\xef\\xc6\\xc5\\xc5-Y\\xb2\\xa49\\xac\\xb8\\x99\\xad[\\xb7\\xf6\\xea\\xd5\\xeb\\x99g\\x9e\\x89\\x8f\\x8f\\xc7\\xa2O\\xafg\\xa5\\xbf\\xceCLM\\x0e5\\x9fm\\x85uPXM\\xac\\xd8\\xc2\\x80p\\xfb\\xf6\\xed\\xb8\\xa1T*\\x87\\r\\x1b\\xf6\\xf6\\xdboc\\xcdt\\xe6\\xcc\\x99\\xdf}\\x0c\\xab\\xa8\\xb0\\xb0\\xdfF\\x98\\xf6\\xec\\xd9\\x03^\\xc2aw\\x85D)T\\x1a&c.\\x86m\\x85\\xc7(\\xcf\\x1dg\\xbe\\xc7\\x05nh\\xc0X\\xee\\xfd\\xf7\\xdf\\xbfr\\xe5\\nF\\x1c\\x9f~\\xfa)\\x86\\x18X{\\xe1\\xa1\\x0e\\x1d:`-\\x85\\xe5\\x1e\\xd6O\\x98\\xa5\\x8e\\x1c9\\x82\\xf1!\\x1e]\\xb7n]\\xf3\\xdf\\x96\\x97\\x97\\xff\\xf1\\x0b\\xb1hE\\xaf-\\x1f\\x06\\xa6\\xb9t\\xd2\\xa8\\xf2c8<f\\xd8\\x16v\\xbd\\x17\\x171\\xdc\\x80o\\x06\\xc5,^\\xbc833s\\xd2\\xa4IS\\xa6L9q\\xe2\\xc4\\x87\\x1f~\\xd8\\xa9S\\'<4y\\xf2d,\\xf4\\xb0\\xf4;\\x7f\\xfe\\xfc\\xd3O?=h\\xd0 \\xac\\xba\\x06\\x0e\\x1cXQQ\\x81A<\\xd6as\\xe7\\xce\\xcd\\xca\\xca\\xfa\\xe3w>\\xf2\\xc8#\\xe8\\xf8\\xb9\\xe7\\x9e3\\x9b\\xcd\\xc04\\x98\\x0e\\x1d\\x135\\xc0(\\xcc\\x8f\\x1d\\xef\\xdb\\\\\\x85\\xcehW\\xe1w\\xab\\xaf\\x8d}4\\x02\\x83d`\\x0e\\xe6;\\xf4\\x12\\x06\\xea\\xb2\\xb7\\xb32\\xbaC\\x10\\xc7~\\xae\\x0f\\x8bV0\\xab\\n\\xd8\\x98\\xab\\x1b\\x1a\\xa5\\x08\\x0c\\x97\\x9f;\\xae\\x8f\\xef\\xadm\\xf5\\x03\\x18\\xcb\\x1d8p\\xa0\\xd5CX\\x7f4\\xb7j\\xff\\x08\\xb6\\xb4X\\xea\"B\\xda\\xf8\\xe66Ni\\xd3\\xa6M\\xa1\\xa1\\xad\\x8f\\r\\xe1`\\xff\\x9c\\xf7\\xe2\\x80iX\\x99E\\xd3Tg;\\xb8\\xb56}vD\\xabG\\xb1\\x92\\xb8U\\xad\\xdeF\\xd2\\xa8T\\xaa[\\x1d\\xfa\\xefi#\\xd0o\\xe3\\x944\\x1a\\x8dX\\xdcJ\\xee9\\xfes\\x9dT!\\xee1\\x84\\xf9\\xf1X\\xb6\\xe6<],4\\x9c\\xcd\\xd3\\x8f}$\\x02|\\x8c\\x0b\\xf9\\x86\\xf3\\xf9\\xfa1\\x0f\\xb3\\xf2\\xc3\\xd9\\x1a\\x88\\xea\\xdc\\xc3/8B\\xbe\\x7fs5\\xf8\\x12\\xcd\\xf3\\'YR\\x05l\\xcf\\xfe<\\x93\\xdbTu\\xd9\\x9a\\xea\\x1b\\x03\\xffW\\xce\\x99\\x8ef\\xd6M\\x99\\x1b\\x85\\xcd\\t`\\x07v\\x07y\\xbb\\xa5\\xf8\\xfb\\x07I\\xb7\\xad\\xb9&\\xf8\\x95\\x03Ne7\\x1e\\xfb\\xa9\\xfe\\x9ey\\xed\\xd9S\\x05\\xdc\\xdc\\xb5p\\xf9\\xaci\\xdf\\xc6\\xaa\\xee\\x03\\xfc\\xfb\\xa6\\x05\\x81\\xe0(9m\\xcc\\xfe\\xbe\\xb6S\\x92f\\xc0\\xd8``\\x19\\x8e\\xee\\x08\\xc2\\x81\\x03,%\\n\\x0f6\\xf4\\x19\\x15\\x18\\xd3U\\x13\\xda\\x9e\\xf8;\\x18LzG\\xf1)\\xe3\\xb5\\xf3f\\xab\\xd95h|pp\\x04\\x17\\xbf\\x88\\xd3\\xbb\\xedp\\xd8\\xbb\\xe0@\\xfd\\xc5B\\xa3\\xc5\\xe8\\x8a\\xef\\xed\\'\\x12\\x8b4\\xfe\\x12\\xff \\x99\\x8b\\x84bR\"\\x06c\\x93\\x13\\xc7\\x82q\\x80\\xb1\\xae\\xc2V_e\\xef\\x98\\xa0\\xe9\\x9a\\xe2\\x17\\xd9\\x99\\xbb^\\x1b\\x91Wj\\x14}\\xbd\\xbd\\xec\\x92Y_\\xe7\\xc0\\xdf\\x8f\\xe5\\xbc\\xbe\\x9e\\xe1N\\xd5S\\xa7Na\\x17\"6\\xd1\\x809\\xd4\\xfe\\x12\\x97\\xd3\\x8d\\xe3U8\"\\x1c\\x1a%o\\x17\\xcb\\xe4\\x97{\\x88H\\x90\\xf5\\xff}\\xf7\\xdd\\xf7\\xc6\\x1bo\\xe0\\x18\\x18\\x08\\x0bzO?IP[$Am\\x91\\x04\\xb5E\\x12\\xd4\\x16IP[$Am\\x91\\x04\\xb5E\\x12\\xd4\\x16IP[$Am\\x91\\x04\\xb5E\\x12\\xd4\\x16IP[$Am\\x91\\x04\\xb5E\\x12\\xd4\\x16IP[$Am\\x91\\x04\\xb5E\\x12\\xd4\\x16IP[$Am\\x91\\x840m\\x85\\x85\\x85\\xb5z\\x1f\\x1c\\xe9\\x08\\xd3VUU\\x95\\xcbE\\xc0\\xb3Q\\xfe,\\xb4$$\\tj\\x8b$\\xa8-\\x92\\xa0\\xb6H\\x82\\xda\"\\tj\\x8b$\\xa8-\\x92\\xa0\\xb6H\\x82\\xda\"\\tj\\x8b$\\xa8-\\x92\\xa0\\xb6H\\x82\\xda\"\\tj\\x8b$\\xa8-\\x92\\x10\\xd4\\xea&iiiJ\\xa5\\x12\\xc7!+++u:\\x9d\\\\.\\xc7m\\x85B\\xb1q\\xe3F\\x10\\x04\\x82\\xca[h\\xa8\\xa4\\xa4\\xa4y\\xbb\\xb6\\xf6\\xfacl%\\x12\\xc9\\x82\\x05\\x0b@(\\x08j8|\\xe8\\xd0\\xa1\\xbf[\\x1e\\xb0}\\xfb\\xf6\\xf7\\xddw\\x1f\\x08\\x05A\\xd9\\xba\\xe7\\x9e{bbbZ\\xdeb\\xc6\\x9a2e\\n\\xab\\xcb;r\\x8c\\xa0lEEE\\xdd\\x9c\\xbd\\xa2\\xa3\\xa3\\x85\\x94\\xb1@`\\xb6\\xe0F\\xf6\\xea\\xd0\\xa1\\x03\\xdc\\xc8X\\x93\\'O\\xc6W\\x10\\x10B\\xb3\\x85\\xd9k\\xc0\\x80\\x01\\x18\\xe8b\\x918u\\xeaT\\x10\\x16d\\xc4\\x84N\\x87\\xbb\\xa1\\xca\\xd6T\\xef\\xf0\\xa4\\xb91\\xa2\\xff\\xb4S\\xb95i\\xa3\\xd2J\\xcfX\\xc0\\x03\\x94*qH\\x94\\x82\\xe3\\xa7\\xfe\\xfe5\\x08ho\\x9d<\\xd4x&\\xa7\\xc9nu\\x87vPZ\\x0c,<\\xdcK\\x04\\xe5\\x97L\\x1d\\x13\\xfd\\xee\\x9a\\x19\\x0e\\xfc\\x86\\xef\\xb6\\n\\xf67\\x94\\x15[\\x07g\\x84\\xb1\\x1d\\xda\\x15\\x17\\xe9\\xcf\\xe55N\\x9a\\x13%\\x91\\xf07\\x86\\xe4\\xb5\\xad\\xa2\\xec\\xc6\\xcbg\\xcdC\\'\\xb7\\x03N(\\xbbh:\\x95]?yN\\x14\\xf0\\x15\\xfe\\x16\\xd6N\\xa7\\xfb\\xd4\\x91\\xa6\\xc1\\x13\\xb9+\\x9d\";\\xab\\xfd\\x83e\\x97N\\xb2\\xf2l>F\\xe0\\xaf\\xad\\xa6Z\\xbb\\xcd\\xec\\x12s[.)T\\x92\\xeak\\x0c?\\xae\\x9dA\\xf8kK_\\xef\\x08\\x89R\\x02\\xb7\\xe8B\\xe5\\x16#\\x7fow\\xe0q\\x04\\xef\\x06\\x8b\\x91\\xad\\x87\\xf1\\xde\\n\\x97\\x03\\xec\\x16\\xae\\xffS\\xcf\\xa1\\xe3[$Am\\x91\\x04\\xb5E\\x12\\xd4\\x16IP[$Am\\x91\\x04\\xb5E\\x12\\xd4\\x16IP[$Am\\x91\\x04\\xb5E\\x12\\xd4\\x16IP[$Am\\x91\\x84\\xa0l\\x19\\x0c\\x86M\\x9b\\xbf\\xca\\xc9=\\\\Rr18(d\\xd0\\xa0\\xd4Gf=\\xa5Tr=H\\xc6\\x1e\\x82\\xb2\\xb5e\\xeb\\xfa\\xaf\\xbf\\xf9\\xec\\xa5\\xc5\\xff\\xa3\\xd3\\x05\\x18\\x0c\\xfaU\\x1f\\xac\\x90H$O<>\\x17\\x84\\x82\\xa0lM\\xbdwf\\xea\\xb0\\x9111\\x1d\\x9b\\xdf\\x16\\x15\\x15\\xe4\\xe4fS[<E&\\x93\\xe5\\xe6\\x1d~\\xeb\\xedW/\\\\<\\xe7p\\\\\\x7f>y``\\x10\\x08\\x08A\\xcd\\xac^\\xfb\\xf1\\xaa\\xcf?_\\x9b\\x9e>\\xe9\\xab/\\xbe\\xdb\\xfbs\\xde\\x8c\\xe9\\xb3@X\\x08\\'o\\xb9\\xdd\\xee\\xefw|{\\xcf\\x94\\xe9\\xe3\\xd2\\'5\\xef\\xc1\\xaa\\x0b\\x84\\x85pl9\\x9dN\\xb3\\xd9\\x1c\\x12\\x12\\xd6\\xfc\\xd6f\\xb3e\\x1f>\\x00\\xc2B8%\\xa1T*\\x8d\\x8e\\x8e\\xcd\\xcc\\xda~\\xad\\xecjcc\\xc3?V.KJ\\xec\\xa5\\xd77\\x19\\x8dF\\x10\\n\\x82\\xaa\\xb7^yi\\xb9R\\xa1|x\\xd6=3\\x1f\\xcc\\xe8\\xd3\\xbb\\xdf\\xa3\\x8f\\xce\\xc1\\xb7\\x93\\xa6\\x8c\\xc2|\\x06\\x82@P1a\\\\\\\\\\xfc{\\xef~t\\xf3\\x9e\\xef\\xb7\\xef\\x03\\x01A{\\x9eH\\x82\\xda\"\\tj\\x8b$\\xa8-\\x92\\xa0\\xb6H\\x82\\xda\"\\tj\\x8b$\\xa8-\\x92\\xa0\\xb6H\\x82\\xda\"\\tj\\x8b$\\xa8-\\x92\\xa0\\xb6H\\x82\\xbf\\xb6$R\\x91\\xc6\\x9f\\xeb\\xf5\\xeaDb\\xd0\\xe8\\xf8\\x9b&\\xfc\\x1d\\xdf\\n\\x8e\\x94\\x97\\x9c\\xe6z \\xb1\\xf2\\xb2\\xd9/\\x80\\xda\\xfa\\xf3Xlzm\\xb8\\xad\\xb6\\xdc\\n\\x1c\\xd2Tg1\\xc3e\\xe0+<\\xb5UWWw\\xef\\xbd\\xf7f<z\\xc7\\xfe\\x8d\\xe5\\x0e;G\\x8b\\xc3\\xec\\xdbX\\xde\\xb5\\x8fn\\xff\\xe1\\xac\\xf5\\xeb\\xd7\\x03/\\xe1\\xe9\\x1aj\\xfd\\xfb\\xf7?t\\xe8\\x90T*5\\xe9\\x1d\\x9f\\xbf^\\xda\\xef\\xee\\x10m\\xa0\\xcc?X\\xce\\xc6\\xc9\\xda-\\xce\\xea2\\xcb\\x85\\x13M\\xc9\\xc3\\x03\\xe3{\\xfb\\xe1\\x9e\\xe7\\x9f\\x7f~\\xf4\\xe8\\xd1#G\\x8e\\x04\\x9e\\xc1G[\\xe3\\xc7\\x8f\\xff\\xe8\\xa3\\x8f\"##[\\xf6\\xe4d\\xd5^\\xbbhq\\xb9\\xdc\\x86:\\x070\\x8d6X\\xaa\\x0b\\x91\\'\\r\\xf1\\x0fk\\xff\\xdb\\x8c\\xf9\\x87\\x1ez\\xe8\\xef\\x7f\\xff{bb\"\\xf0\\t\\xde\\xd9\\x9a={\\xf6\\xb3\\xcf>\\xdb\\xabW/\\xf06c\\xc6\\x8c\\xf9\\xfc\\xf3\\xcf\\xc3\\xc2\\xc2\\x807\\xf0\\xcb\\xd6\\xa2E\\x8bF\\x8c\\x18q\\xd7]w\\x01?\\xe8\\xdb\\xb7o^^\\x1e\\xf0\\x06\\x1eE\\x19\\xef\\xbd\\xf7^BB\\x02\\x7fT!;w\\xee\\x1c;v,\\xf0\\x06\\xbe\\xd8Z\\xb7n\\x1d\\xe6\\xf2\\x993g\\x02\\x9f\\x08\\x0f\\x0f\\xff\\xc7?\\xfe\\x81u\\x18\\xf0\\x03^\\xd8\\xfa\\xe9\\xa7\\x9f\\n\\x0b\\x0b\\x17.\\\\\\x08\\xfc\\x03\\x03\\x8d\\x07\\x1f|\\x10\\xa3D\\xe0\\x01\\xde\\xb7\\x85\\x9e0c\\xbd\\xfd\\xf6\\xdb\\xc0W0\\x94ONN^\\xb9r%x\\x1b/G\\x19\\x15\\x15\\x15\\x18\\x04b\\xf5\\x00\\xbc\\xe7\\xfd\\xf7\\xdf\\x0f\\x0e\\x0e~\\xe0\\x81\\x07\\xc0{x\\xd3\\x96\\xcb\\xe5\\xc2Vpnn.\\x10\\xc2\\xe2\\xc5\\x8bSSS\\xb1\\xe1\\x0c^\\xc2\\x9b%!6h233\\x81\\x1c\\x96/_\\xbei\\xd3\\xa6\\x13\\'N\\x80\\x97\\xf0Z\\xde\\xc2\"\\x05[W\\xdd\\xbbw\\x07\\xd2\\x980a\\xc2\\x9a5k\\xa2\\xa2\\xbc\\xb0\\xc8\\xbfwl=\\xf7\\xdcs\\xd8\\xbd4|\\xf8p \\x93\\x96nL\\xe0\\x16/\\x94\\x84\\xd8\\x82\\xe9\\xd7\\xaf\\x1f\\xb9\\xaa\\x10,\\xc0\\xb1\\x18\\x07\\xce\\xe1\\xda\\xd6g\\x9f}\\xa6R\\xa9H\\x7f\\xe4\\\\PP\\xd0\\xaaU\\xabf\\xcc\\x98\\x01\\xdc\\xc2\\xa9\\xad]\\xbbv]\\xbcx\\x11;m\\x81|\\xbav\\xed\\xfa\\xc4\\x13Op\\xfc\\xc0W\\xeel\\x1d;vl\\xdb\\xb6m\\xaf\\xbf\\xfe:\\x08\\x85a\\xc3\\x86\\r\\x1e<\\xf8\\xcd7\\xdf\\x04\\xae\\xe0(\\xca\\xb8|\\xf9\\xf2\\xbcy\\xf3\\xb6n\\xdd\\n\\x82c\\xf5\\xea\\xd5X\\xb6?\\xf2\\xc8#\\xc0>\\\\\\xd8\\xb2X,\\xd8y\\x83A\\x14\\x08\\x94%K\\x96`\\x94\\x98\\x9e\\x9e\\x0e,\\xc3EI\\x88\\x83\\x0eXc\\x81pY\\xb6l\\xd9\\x8e\\x1d;rrr\\x80eX\\xb7\\x85\\xe1\\xdf\\xda\\xb5ku:\\x1d\\x08\\x1al/c\\xc7t\\xcbs\\xe7Y\\x82\\xdd\\x92p\\xee\\xdc\\xb9h\\x0b\\xabb\\xf0\\r\\x86\\x0c\\x19\\xb2{\\xf7n\\xac\\xc6\\x80\\x1dX\\xcc[\\x18\\xfe\\xddy\\xe7\\x9d\\xbe\\xa3\\n\\xd8o5\\xb3e\\x0bK\\xbf\\xb0\\xb0\\xb0\\x8c\\x8c\\x0c\\xf0%\\xb4Z\\xed\\xbf\\xfe\\xf5/\\xf6\\xda\\xfe\\xac\\xd8\\xc2v\\x15\\x0e\\\\a\\xe3\\x11|\\x8f\\xb8\\xb8\\xb8\\xf9\\xf3\\xe7\\xcf\\x993\\x07X\\x80y[\\xd9\\xd9\\xd98r\\x8fA-\\xf8*\\x03\\x07\\x0eLKK\\xc3@\\x11\\x98\\x86a[\\xd5\\xd5\\xd5\\xeb\\xd7\\xaf\\xc7>4\\xf0m&N\\x9c\\x18\\x11\\x11\\xf1\\xddw\\xdf\\x01\\xa30l\\x0b\\xc3\\xa1\\xc2\\xc2B\\xa0\\x00TVV\\x02\\xd3\\xd0\\xbb\\xedH\\x82\\xda\"\\tj\\x8b$\\xa8-\\x92\\xa0\\xb6H\\x82\\xda\"\\tj\\x8b$\\xa8-\\x92\\xa0\\xb6H\\x82\\xda\"\\tj\\x8b$\\xa8-\\x92\\xa0\\xb6H\\x82\\xda\"\\tj\\x8b$\\x98\\x99\\xf3\\xf4\\xf4\\xd3O744H$\\x12\\x97\\xcbu\\xf6\\xec\\xd9.]\\xba\\x88\\xc5b\\xa7\\xd3\\xf9\\xf5\\xd7_\\x83\\x8f1m\\xda4\\xfc\\xed\\x98\\xaa80\\x8b\\xa3}Z\\xad\\x16\\xb7E\"\\x11#I\\xc1L\\xde\\x1a>|\\xf8\\xca\\x95+QU\\xf3[\\x14\\x06>\\xcc\\xb9s\\xe7\\x9a7\\xf0\\n.//\\xc7\\xabv\\xc0\\x80\\x01\\xc0\\x04\\xcc\\x8c\\x1dO\\x9d:5::\\xfa\\xe6=h.%%\\x05|\\x8f\\x8c\\x8c\\x0c\\x85Bq\\xf3\\x9e\\xc0\\xc0\\xc0Y\\xb3\\x98y\\x82%c#\\xfd\\x0f<\\xf0\\xc0\\xcdg\\x19\\x10\\x100}\\xfat\\xf0=&O\\x9e\\x1c\\x13\\x13s\\xf3\\x9e\\xae]\\xbb\\xf6\\xeb\\xd7\\x0f\\x98\\x801[\\x13\\'Nl\\xdf\\xbe}\\xcb\\xdb\\xf8\\xf8\\xf8\\xa1C\\x87\\x82\\xef!\\x97\\xcb1)Z.\\\\\\x7f\\x7f\\x7f\\xa62\\x160;\\x8b\\x06+\\xd8\\xe6\\xb3\\xc4\\x8c\\xc5\\xb75\\x80\\xb8d\\xd2\\xa4I-\\x17nBB\\x02\\x835\\x02\\x93\\xb6\\x9a\\xcf\\x12C\\xa0\\xce\\x9d;\\x0f\\x192\\x04|\\x15\\xcc^\\x13&L\\x90J\\xa5\\x18\\x10>\\xf8\\xe0\\x83\\xc0\\x1c\\x1e\\xc5\\x84\\x0e\\xbb\\xcbl\\xf0h\\xb9\\xd4{\\'=\\xf8\\xef\\x7f\\xff\\x1b_\\xf5\\xf5\\xb7_\\xf6\\x11\\xbd\\xfa\\x05H\\xc5b\\x11\\x90\\x83\\xcd\\xea\\xb2\\x9an\\x9f\\x14c\\xd2&\\x7f\\xb7\\xf9\\x07\\x8c\\xbc\\xba\\xc6%\\xdf6)<O\\x87\\xdb\\xb4\\xb7\\xce\\xe44\\x15\\x1el\\xac\\xab\\xb0\\xa9\\xfd\\x98_\\xec[\\xae\\x12\\xe37GvV\\xf5J\\r\\xe8\\x98\\xa8\\x01~\\x93\\xbf\\xbf\\xbe\\xf0@#6R\\x18\\xbf\\xb8<O\\x87\\xb6\\xf2V\\xce\\x8fu5e\\xf6\\xa1\\x93\\xdbi\\x83d\\xc0\\x1aM\\xb5\\xb6\\x9c\\xacj\\xb3\\xd1\\xd9\\xbd\\xbf?\\xf0\\x95}\\x9b\\xab\\x9dN\\xf7\\xa8\\x99Q\\xec%\\x85\\'\\xe9p\\xcb\\xbcu4\\xab\\xae\\xa9\\xd61`\\x1cG\\xeb\\x94\\xee\\xddP\\xde9I\\x930\\x90\\x8f\\xc2\\xf6l\\xa8\\x92\\xa9$\\xbdR\\x83\\x81}\\xdaN\\x87\\xd6\\xa3\\x8c\\xfa*[\\xcd5+g\\xaa\\x90\\x11\\xf7E\\x9c;\\xae\\xc7Z\\x01xF\\xd9%\\xb3\\xc3\\x0e\\xdc\\xa8\\x82\\xdb\\xa5C\\xeb\\xb6P\\x15vn\\x01\\xb7\\xd8mn\\xfc\\x7f\\x81gT_\\xb5\\x8a\\xa5\\x9c&E\\x1b\\xe9\\xd0\\xba-C\\xa33\\xb4\\x83\\x12\\xb8%\\xa2\\xa3\\xba\\xa1\\xc6\\x0e<\\xc3\\xa4w\\x86Dr\\x9a\\x14m\\xa4C\\xeb\\xb6\\xecV\\x97\\xdd\\xc2u\\xa1d1:]v\\xde-N\\x8f\\xf1\\xba\\xc3\\xc6iR\\xb4\\x91\\x0et|\\x8b$\\xa8-\\x92\\xa0\\xb6H\\x82\\xda\"\\tj\\x8b$\\xa8-\\x92\\xa0\\xb6H\\x82\\xda\"\\tj\\x8b$\\xa8-\\x92\\xa0\\xb6H\\x82\\xb99O\\x93F~\\xf1\\xe5\\xbf\\x80\\xc2&4o\\x91\\x04\\xb5E\\x12\\x0c=6P\\xd5\\x00\\x00\\x10\\x00IDAT\\xdb\\xda\\xfa\\xdd\\xc6\\xac\\xac\\xed\\xd7\\xca\\xae\\xf4N\\xee\\xb7p\\xc1\\xe2\\x80\\x80@\\xf0=\\x9cN\\xe7\\xa6\\xcd\\xeb>\\xffb-nw\\xef\\x96\\xf4\\xf0CO$%1\\xf3\\x88Y&\\xe7\\x13ffn\\xab\\xaf\\xaf}\\xf2\\xc9\\xf9/-\\xfa\\x9f\\xfc\\xfc\\xbc\\x0fV{\\xffap^a\\xed\\xc7\\xab\\xb6m\\xdb\\xb4l\\xe9\\xca\\x97\\x17\\xbf\\x11\\x1a\\x1a\\xfe\\xc2\\xa2g\\xaf^\\xbb\\x02L\\xc0d\\xdeR\\xa9\\xd5\\xb3\\x1e~R$\\xba>.>n\\xdc\\xe4\\xcd\\xdf~m\\xb3\\xd9\\xe4r9\\xf8\\x12\\x8dM\\x8d\\x1b7}5\\x7f\\xde\\x8b)}\\xaf\\xdfW\\xd2\\xbf\\xff`\\x93\\xc9\\xd8P_\\xd7>\\xaa\\x03\\xfc\\xd70\\x99\\xb7\\xfa\\xf6\\x19\\xd0\\xac\\n\\xe9\\xde=\\xc9n\\xb7\\xd7\\xd4V\\x83\\x8fQR|\\x11\\xae\\xdf\\xa9\\x90\\xd0\\xfcV*\\x95.[\\xba\"1\\xb1\\'0\\x01\\x93\\xb6\\xd4\\xea\\xdff.\\xaaTj|mll\\x00\\x1f\\xc3`\\xd0\\xe3\\xabR\\xc1\\xcaT\\x0e&KB\\x8b\\xc5\\xdc\\xb2m4\\x1a\\xf0U\\xa7\\x0b\\x00\\x1fC\\xa3\\xf1\\xc3W,\\xfd\\x80\\x05\\x98\\xcc[\\x17.\\xfcvK\\xe4\\xd9\\xb3\\xa7\\xb1\\xc6\\n\\r\\xe1\\xd1C\\xee\\xb9!.\\xae\\x0b\\x96~\\x05\\x85\\xc7\\x9b\\xdf\\xba\\xdd\\xee\\x17\\x17\\xcf\\xdb\\xbbo70\\x01\\x93\\xb6\\x8aK.b\\x05\\x8b\\xf1\\xeb\\xb9\\xf3\\xbf\\xfe\\xf0\\xe3\\x8eaC\\xef\\x94\\xc9X\\x9c\\x92\\xcdO\\xfc\\xfc\\xfc\\xd2F\\x8d\\xc5\\x9803k\\xfb\\x89\\xfc\\xbcU\\x1f\\xac8v\\xech||7`\\x02\\xc6JB\\x87\\xc3~\\xff\\xb4\\x87N\\x9d*\\\\\\xf3\\xe1\\xfb\\x1a\\x8d&\\xa5\\xef\\xc09\\xcf\\xfc\\r|\\x92ys_x\\xff\\x7f\\xdfz\\xe7\\xdd7\\xf0\\xc2\\x8d\\xeb\\x1c\\xbf\\xec\\xb5\\x15Q\\x91\\xed\\x81\\t\\x18\\xb3\\xb5\\xf3\\xfb\\x03@\\xb9\\x81B\\xa1x\\xe1\\xf9W\\xf1\\x1f0\\r\\xedy\"\\tj\\x8b$\\xa8-\\x92\\xa0\\xb6H\\x82\\xda\"\\tj\\x8b$\\xa8-\\x92\\xa0\\xb6H\\x82\\xda\"\\tj\\x8b$\\xa8-\\x92\\xa0\\xb6H\\x82\\xda\"\\x89\\xd6m\\xc9\\x95\"\\x16\\xd63\\xba\\r*?\\x89T\\xce\\xbb\\x15\\xba\\x94~b\\x8e\\xcf\\xaa\\x8dth}4R\\x1b(\\xab.5\\x03\\xb7\\\\\\xbb`\\x0c\\x08\\xe5\\xdd\\x04)\\x8dVZ}\\xd5\\x02\\x1c\\xd2F:\\xb4n+\\xac\\x83B\\xc4\\xf9U\\x8e\\x17TX\\x07\\xde\\xd9\\n\\x8bV\\xb8\\x1c\\x9c\\xae\\xe2\\xd1F:\\xdc2oE\\xc5)\\x0f|[\\x01\\\\\\xf1\\xe3\\x97\\xd7z\\x0c\\xd1\\x89%l=\\x89\\xfe/\\x13\\x1e\\xad\\xd4\\xe8$9\\x99\\x1cM\\xb5k;\\x1d\\xdaZ\\x9f\\xf0\\xd4\\xe1\\xc6\\xf3\\xf9\\x86\\x9e\\xa9\\xc1\\x81\\xe1r\\x89\\x94\\x95t\\xb4[]\\r\\xd5\\xd6\\xdc\\xac\\x9a\\xfec\\x83b\\xbb\\xf1w\\x89\\xc2\\x9c\\x1f\\xeaj\\xca\\xad]\\xfb\\x05\\x06G(\\xd8X\\xfe\\xd2\\xc3t\\xb8\\xcdj\\x92\\xc5\\xa7\\x8c\\xf9\\xfb\\x1b*\\x8a-\\x12\\x99\\xa7\\xa7\\xe8t\\xba$\\x9ee\\x11\\xa5Jb6::tQ\\'\\x8f\\x08\\x88\\x88U\\x01\\xbf9\\x9b\\xd7Tp\\xa0\\xd1\\xd0\\xe0pxV0\\xba\\\\n\\xacMD\\x1e\\xd4(\\x9e\\xa7\\x83\\xa7\\xcfZ\\xb0\\x9a=Z\\xeb\\xc8`0L\\x9b6m\\xc7\\x8e\\x1d\\x9e|\\x18\\xffk\\xa5\\x9a\\xf9%E\\xd9\\xc5\\rV\\xcfV\\xc0Z\\xb1bE\\xf7\\xee\\xdd\\xd3\\xd3\\xd3o\\xff\\x95\\x1e\\xa7\\x83\\xa7\\xed-\\x85\\xca\\xa3\\xecbw\\x8a\\xedN\\x93\\x87\\x1f&\\x12\\x91\\xa7I\\x01b\\xbbX\\xead6)h\\xeb\\x98$\\xa8-\\x92\\xa0\\xb6H\\x82\\xda\"\\tj\\x8b$\\xa8-\\x92\\xa0\\xb6H\\x82\\xda\"\\tj\\x8b$\\xa8-\\x92\\xa0\\xb6H\\x82\\xda\"\\tj\\x8b$\\xa8-\\x92\\xa0\\xb6H\\x82\\xda\"\\tj\\x8b$\\xa8-\\x92\\xa0\\xb6H\\x82\\xda\"\\tj\\x8b$\\xa8-\\x92`\\xd8\\x96\\xcdf\\xeb\\xd9\\x93\\x99u.I\\',,L*e8y\\x19\\x9e\\xf8\\x17\\x14\\x144{\\xf6\\xecY\\xb3f\\x81o\\xb3n\\xdd:\\x83\\xc10n\\xdc8`\\x14\\xe6\\xa7i\\xf6\\xe8\\xd1c\\xc6\\x8c\\x19/\\xbc\\xf0\\x02\\xf8*\\xbbw\\xef>y\\xf2\\xe4\\xc2\\x85\\x0b\\x81iX\\x99T;j\\xd4(,\\x0f\\xdfy\\xe7\\x1d\\xf0=\\n\\n\\n\\xbe\\xf9\\xe6\\x9b\\xb7\\xdez\\x0bX\\xc0\\xd3y\\xf0\\x7f\\x81\\xf7\\xde{/44t\\xe6\\xcc\\x99\\xe03\\x94\\x97\\x97?\\xf6\\xd8c\\x1e\\xde\\x06\\xf0\\x17`\\xd1\\x16\\xb2x\\xf1\\xe2\\xd4\\xd4\\xd4\\xd1\\xa3G\\x83\\x0f\\xe0t:\\x07\\x0e\\x1c\\x98\\x93\\x93\\x03\\xac\\xc1\\xee\\xed\\x05\\xcb\\x97/\\xdf\\xb4i\\xd3\\x89\\x13\\'\\xc0\\x07\\x183fLff&\\xb0\\t\\xbby\\xab\\x99\\t\\x13&\\xacY\\xb3&**\\n\\x84\\x0b\\x16\\xf8/\\xbd\\xf4R\\xb7n\\xcc\\xacv|+\\xb8\\xb0\\x85\\x0c\\x180\\xe0\\xe0\\xc1\\x83B]\\xc2\\x1a\\xc3\\xbf\\x89\\x13\\'b\\x99\\x0f,\\xc3\\xd1\\x8dVXD`A\\x01B\\x04\\xc3?\\xac\\xae8P\\x05\\x9c\\xd9\\n\\x0c\\x0c\\\\\\xbdz\\xf5\\xf4\\xe9\\xd3AX|\\xfa\\xe9\\xa7~~~\\xf7\\xde{/p\\x02w71v\\xe9\\xd2\\xe5\\xa9\\xa7\\x9e\\x9a?\\x7f>\\x08\\x85\\x9d;w\\x16\\x17\\x17\\xcf\\x993\\x07\\xb8\\x82\\xd3[N\\x87\\xde\\x00\\x03E \\x9f\\xdc\\xdc\\xdc\\xef\\xbf\\xff~\\xd9\\xb2e\\xc0!\\x1cE\\x197\\xf3\\xcf\\x7f\\xfeS\\xa1P`w\"\\x10Kii\\xe9\\x82\\x05\\x0b\\xb6l\\xd9\\x02\\xdc\\xe2\\x05[\\xc8\\xd2\\xa5K\\x93\\x93\\x931\\xb2\\x07\\x021\\x9b\\xcdiii\\xbf\\xfc\\xf2\\x0bp\\x8ewn\\xbe\\x7f\\xf5\\xd5W\\x7f\\xf8\\xe1\\x87#G\\x8e\\x00\\x81p\\xd0\\n\\xbe\\x15^[*\\x01CD\\xec\\xf6\\xbdt\\xe9\\x12\\x10\\xc5\\xd4\\xa9S?\\xf9\\xe4\\x13\\xadV\\x0b\\xde\\xc0;%a\\x0b\\xd8L\\xc1\\xc8\\n\\x83` \\x01\\x0c\\xffp0\\x08[W\\xe0%\\xbcl\\xcbd2a\\x9f/vs\\x00\\xef\\xc1\\xf0\\x0f\\x87\\x81\\xb0\\xcf\\x02\\xbc\\x87\\x97\\x17\\x8dQ\\xab\\xd5_~\\xf9\\xe5\\x94)S\\x80\\xdf|\\xf8\\xe1\\x87\\x11\\x11\\x11\\xdeU\\x05^\\xb7\\x85\\xc4\\xc6\\xc6\\xe2@36\\x9c[\\xf6`\\x9b\\x0c\\xa3|\\xf0*\\x18\\xf5\\xb5lo\\xdd\\xba\\xb5\\xa6\\xa6\\x06\\x07\\xae\\xc0\\xdb\\xf0bA\\xa6~\\xfd\\xfa\\x8d\\x1b7n\\xc9\\x92%\\xb8=d\\xc8\\x10\\xa3\\xd1\\x88mO\\xf0\\x1e\\xeb\\xd6\\xadkll\\xec\\xdd\\xbb7n\\x1f:th\\xef\\xde\\xbd/\\xbf\\xfc2\\xf0\\x00\\xbe\\xccPKOO\\xaf\\xaa\\xaaJII\\xc1zT,\\x16WVVVTT\\xb4k\\xd7\\x0e\\xbc\\x016-\\x1c\\x0e\\x07\\x9e\\x06\\n\\xc3q\\x83\\xa3G\\x8f\\x02?\\xe0\\xd1bgX\\xfa\\xb5\\x84<\\r\\r\\r\\xa7O\\x9f\\x06o\\xa0\\xd7\\xeb\\xb1\\xab\\x02U\\xe16\\xbe\\xe2\\x880g\\x9d\\xb6\\xb7\\x85\\x17\\xb6222\\xf0*\\xbe9:\\xb5Z\\xadX\\x04\\x817\\xc0\\xab\\xc4`0\\xdc\\xbc\\x07\\xbbny\\xd2\\xed\\xc2\\x8b\\x92\\x10\\x87\\\\\\xf1*.//\\xb7X,\\x12\\xc9\\xf5u\\x15].WAAA\\xf3Q\\x87\\xcd\\x95\\xbd\\xb3\\xb6\\xec\\x82E$\\x86\\xc6Z;0\\x8d.X\\xa6\\xd1I{\\x0c\\xd5Ew\\xb9\\xfe\\xfc\\xf3\\xbc\\xbc<\\xac\\xb4Z\\xd6\\xec\\xc43\\xd1\\xe9t\\xdej\\x0e\\xff\\x0e^\\xd8z\\xf3\\xcd7\\xaf^\\xbd\\x8a\\x95yVVV}}=VZ\\xe8\\x0c/\\xf0s\\xe7\\xceE\\x84v\\xfajy\\xe9\\x90I\\xe1\\xd1\\xdd\\xb4\\xfeA\\n\\x17\\x0b\\xadC\\xbb\\xd5U[f9\\xbe\\xa7\\xa1\\xa9\\xd6\\x918\\xc8\\xff\\xf0\\xe1\\xc3\\xee\\x1b`\\xd7shh(V\\xa5X\\xa76G\\x1c^\\xc7\\xcb\\xad\\xe3?\\x92\\x9d\\x9d\\xfd\\xe3\\x8f?\\x16\\x16\\x16bV\\x9b\\xf7\\xf4\"\\xcb\\xa5\\x1eS\\xe6\\xc7\\x02\\'\\x1c\\xdcR\\xa1\\xd4Y\\xdf\\\\\\xf3\\xa8\\\\.\\x8f\\x8c\\x8c\\xbc\\xeb\\xae\\xbb0\\x8e\\x0f\\x08\\xe0\\xd1\\xc3\\xebyg\\xab\\x19\\xccj\\x98\\xcf\\xdaAz\\xf2\\x9d\\xc1\\xfe\\xc1\\xdc-\\x12\\x7f`sy\\xc1\\xe5\\xcdc2\\x86\\xe0\\x10\\x01\\xf0\\x0f\\x9e\\xdaB\\xcc\\x06\\xe7\\xba7K\\xef{\\xbe\\x13p\\xc8\\xd1]\\xd5\\xa1Q\\xb2\\x9e\\xc3x\\x94\\x9fn\\x86\\xbf\\xcb\\x15\\xd7V\\xd8b\\x12\\xb8\\xee\\xed\\r\\x8bV\\x1a\\x9b\\x1c\\xc0W\\xf8{\\xff\\x96\\xcb\\xe16\\xd4s\\x9dp.\\x07\\x98\\x1a\\x9d\\xc0W\\xe8\\xddv$Am\\x91\\x04\\xb5E\\x12\\xd4\\x16IP[$Am\\x91\\x04\\xb5E\\x12\\xd4\\x16IP[$Am\\x91\\x04\\xb5E\\x12\\xd4\\x16I\\x08\\xf7\\x91\\x81\\x00{\\xf7\\xed\\x1e1\\xb2oCC=\\x08\\x05\\x9a\\xb7H\\x82\\xda\"\\t\\xa1\\xd9\\xfa\\xf0\\xa3\\xff\\xfdq\\xf7N\\xb5J=r\\xe4\\xdd\\xed\\xdb\\xc7\\x80\\xb0\\x10\\x94\\xadm\\xdb7o\\xdb\\xbe\\xe9\\xc5\\x17\\x96&\\'\\xa7dg\\xef\\xff\\xe2\\xcb\\x8fAX\\x08*\\xca\\xd8\\xb2u}\\xea\\xb0Q\\xa9\\xc3F\\xfak\\xfd\\xef\\x1e=\\xbewr\\n\\x08\\x0b\\xe1\\xd8r\\xbb\\xdd\\xd7\\xae]\\x89\\x8d\\xfdm\\xd6M|<\\xbb\\xeb\\xf8p\\x8fpJB\\x8b\\xc5\\xe2t:U*u\\xcb\\x1e\\xa5R\\x05\\xc2B8\\xb6\\x94J\\xa5D\"\\xb1Z--{\\xccf\\x13\\x08\\x0b\\xe1\\x94\\x84\"\\x91(<<\\xe2\\xd4\\xa9\\xc2\\x96=G\\x8eza\\x91\\x04V\\x11T\\x941bx\\xda\\x81\\x83{\\xb0\\x0b\\x03\\xb7\\xbfY\\xff\\xf9\\xe9\\xd3\\'AX\\x08\\xca\\xd6\\xcc\\x19\\xb3\\xd3\\xc7f\\xac\\xfa`\\x05v8\\x1d>r\\xf0\\xe9\\xa7\\xae\\xafC\\xcc\\xdb\\xc9\\xc8\\x7f\\x01A\\xb5\\xb7\\xb0\\xea\\xfa\\xdbs\\xff\\xef\\x96\\xd3Q#\\xef\\x06\\x01A{\\x9eH\\x82\\xda\"\\tj\\x8b$\\xa8-\\x92\\xa0\\xb6H\\x82\\xda\"\\tj\\x8b$\\xa8-\\x92\\xa0\\xb6H\\x82\\xda\"\\tj\\x8b$\\xa8-\\x92\\xe0\\xaf-\\x11\\x80Z+\\x01n\\x11KA\\xae\\xe2\\xef\\xb8\\x04\\x7f\\xcf\\xcc?DVQj\\x06n\\xa9\\xaf\\xb4\\xa9\\xfc\\xb8\\xbeD<\\x87\\xc7\\xb6\\x82\\xa4~:\\x99\\xd3\\xc1\\xe9\\xe8\\x94\\xdd\\xea\\x0c\\x8dR\\x00_\\xe1\\xaf-\\x91X\\x944\\xc4\\x7f\\xff\\xa6\\n\\xe0\\x8a\\x8b\\x05M\\x16\\x8336A\\x03|\\x85\\xbf\\xeb<5s&\\xb7\\xe9l\\x9e~\\xe8\\x94\\x08\\xb9\\x82\\xc5\\x0b\\xcb\\xe5r\\x9f;\\xd6X~\\xd14\\xe1\\x89H\\xe01|\\xb7\\x85\\\\\\xc87\\x14\\x1elh\\xac\\xb1\\x87\\xc7\\xa8\\xcc\\x06\\x8f\\x96\\xf5q\\xba\\\\b\\xb1X\\x04\\x1e\\x81\\xbf\\xbf\\xb2\\xd4\\xdcc\\xb0n\\xe8\\xe4P\\xe07\\x04\\xd8j\\xc6\\xd0\\xe0@a\\x1e~x\\xe9\\xd2\\xa5\\x8f>\\xfa\\xa8\\x87O\\xaaT\\xa8\\xc4!<\\xae\\xabn\\x86\\x98\\xf6\\x96_\\x80\\x14\\xffy\\xf8\\xe1F[qP\\x14D\\xc5\\xd1\\xd9\\x9f\\x14\\xefAm\\x91\\x04\\xb5E\\x12\\xd4\\x16IP[$Am\\x91\\x04\\xb5E\\x12\\xd4\\x16IP[$Am\\x91\\x04\\xb5E\\x12\\xd4\\x16IP[$Am\\x91\\x04\\xb5E\\x12\\xd4\\x16IP[$Am\\x91\\x04\\xb5E\\x12\\xd4\\x16IP[$Am\\x91\\x840mEFF\\xb6<\\x0c\\\\H\\x08\\xd3VYY\\x99\\x90\\x16\\xe3j\\x81\\x96\\x84$Am\\x91\\x04\\xb5E\\x12\\xd4\\x16IP[$Am\\x91\\x04\\xb5E\\x12\\xd4\\x16IP[$Am\\x91\\x04\\xb5E\\x12\\xd4\\x16IP[$Am\\x91\\x04\\xb5E\\x12\\xd4\\x16I\\x10\\xb3\\x16\\x8d\\'$\\'\\'\\x8b\\xc5\\xffY\\x0e\\n\\x7f\\x17\\x0e\\x1f\\xe3\\xeb\\xc0\\x81\\x03W\\xaf^\\r\\x82@POt\\xea\\xd6\\xed\\xfa\\x83\"E7\\xb8\\xbe\\xce\\x93H\\x14\\x1a\\x1a\\xfa\\xe4\\x93O\\x82P\\x10\\x94\\xad\\x193f(\\x14\\xffo\\xc5\\xa6\\x1e=z$%%\\x81P\\x10\\x94\\xad\\xf4\\xf4\\xf4\\x8e\\x1d;\\xb6\\xbc\\r\\x0e\\x0e\\x9e9s&\\x08\\x08A\\xd9B\\xa6O\\x9f\\xde\\x92\\xbd\\x12\\x12\\x12z\\xf6\\xec\\t\\x02Bh\\xb60{\\xc5\\xc6\\xc6\\xc2\\x8d\\x8c\\xf5\\xf0\\xc3\\x0f\\x83\\xb0\\x10\\x9a-\\xe4\\x81\\x07\\x1eP\\xa9TX]a\\xa5\\x05\\xc2\\xc2\\x9b\\x11|S\\x9d\\xfd\\xeays]\\x85\\xcd\\xd8\\xe8\\xb4\\xdb\\xdd\\x1e\\xae\\xeb\\xe9\\t\\xa5\\xa5\\xa5\\xe1\\xe1\\xe1J\\xa5\\x12\\x98@\\x1b(s\\xda]\\x1a\\x9d$ T\\x16\\x1e\\xad\\x88\\xe8\\xe8\\xb5e\\x0f\\xbd`\\xcb\\xe9p\\x1f\\xdf\\xd3p&Wo3\\xbbt\\x91~x\\x0eR\\xb9D\\xa6\\x90\\x8a\\xc4|\\x9d]+\\x02\\xbb\\xc5\\xe1\\xb09]\\x0e\\x97\\xb9\\xc1l1\\xd8c\\xbbkz\\xa6\\xea\\xda\\xc50s5\\xfc\\x89\\x13\\xe1\\xd8\\xd6\\xe1\\x9du\\xc7\\xf7\\xd4\\xb5\\x8b\\x0f\\xd2\\x04\\xaa\\x94Z9\\x10\\x88\\xc3\\xee\\xd4W\\x99\\xf4\\x95z]\\xb04uJp@(w\\xbf\\x82;[\\xe5%\\xd6=\\x1b\\xaaejeX\\\\ \\x08\\x82\\xc6Jc\\xf5\\xc5\\xban\\xfd\\xfc\\x07\\x8f\\x0f\\x02N\\xe0\\xc8\\xd6\\xe9#MG\\xb2\\x1abS\"\\xc5\\xbc-\\xee\\xfe*U\\x17\\xea\\xd4*\\xe7\\xb8G\\xdb\\x01\\xfbpa\\xab\\xf8\\xb4){GCTR8\\x08\\x94\\x862\\xbd\\\\l\\x1d;\\x8b\\xf5\\x1f\\xc8\\xba\\xad\\xd39M\\xc7\\xf7\\xeb\\xdb\\'rq\\xe9y\\x11\\x14\\xe6\\xb2\\x98&?\\xc3\\xee\\xe2\\xff\\xec\\xb6\\xb7\\xaa\\xafZ\\x8ef5\\x08^\\x15\\x12\\x10\\xa9\\x05\\x89\\xe2\\xc0\\xd6\\x1a`\\x13vm\\xfd\\xbc\\xa1:\\xa6\\x0f\\xaf\\x9f5\\xc1 A1\\x015\\xe5\\xae\\x92\\xd3\\x06`\\r\\x16m\\x1d\\xc9\\xac\\x95\\xa9U\\xc2\\x0b+\\xda@\\x1d\\xaa=\\xb0\\xa5\\x16X\\x83-[\\xd8\\x04>\\xf6S}p\\xac@\\x82u\\x0fQ\\xfa\\xc9ej\\xc5\\x99\\x9c&`\\x07\\xb6l\\xe5\\xfdT\\x8fM`\\xe0+\\xf9\\'\\x7f\\xfa\\xdb+\\xfd\\r\\xc6z`\\x9a\\xa0\\xd8\\x80\\xa2\\xc3z`\\x07\\xb6l\\x9d;n\\xc0\\xde\\n\\xf0=\\x14*\\x99\\xbe\\xdeQWi\\x03\\x16`\\xc5\\x96\\xbe\\xden19\\t\\xedX\\xfa\\xef\\xd1\\x04\\xab\\x8b\\x8bX\\x895X\\x99\\xf3\\x84=\\xeb!\\xd1Z`\\x8d\\xdc\\xe3;\\x0e\\xe7n-\\xaf\\xbc\\x10\\x11\\x1e\\xd7+i\\xd4\\xd0\\x81\\xd3\\x9a\\xd7[\\xf8r\\xc3blA\\xf6\\xeey\\xf7\\x86-\\xcb\\xacVSL\\x87\\xa4\\xf4\\xd1sb:$6\\xff\\xd5\\x8e\\xacUy\\x05\\xbb\\x14rur\\x8f\\xd1a!\\xd1\\xc0\\x1a~!\\xea\\xeak\\xac\\xd8b%o5T\\xdb\\x9dN\\xb6B\\xc1\\xe3\\x05?l\\xd8\\xfaz\\xfb\\xc8.\\x8b\\x17n\\x1d\\x93\\xf6\\xd4\\x81\\xec\\xf5\\xdbv\\xbd\\xd7|H,\\x96\\x96^9y,?s\\xde\\x93\\x9f-_\\xb2_*\\x93\\xaf\\xdf\\xb2\\xac\\xf9Pv\\xce\\xb7\\xd99\\x9b\\'\\xa7\\xff}\\xde\\x13\\x9f\\x06\\x07F\\xee\\xde\\xfb\\t\\xb0\\x86L.)\\xbf\\xc4\\xca\\xf3IY\\xb1ehpHdl=\\xd94\\xe7\\xd8\\xb6N1\\xc9\\x93\\xc7?\\xaf\\xf5\\x0b\\xba\\xa3S\\xdf\\xd1#\\x1f?tt\\x93\\xdeP\\xd7|\\x14\\xb3\\xd4}\\x93^\\x0e\\x0e\\x8a\\x92H\\xa4\\xbd{\\x8c\\xae\\xae)\\xc5=\\xb8\\xff\\x97\\xc3\\x1b{$\\x8c\\xec\\x91x\\xa7Z\\xed\\x9f\\xd2{\\\\\\\\\\xa7\\xbe\\xc0\\x1aR\\x85\\x84\\xc1\\xb1\\xba\\x9ba\\xc5\\x96\\xcd\\xe2\\x96)Y\\xb1\\xe5r\\xb9\\x8a/\\x17\\xc6\\xdf\\xd1\\xbfe\\x0f\\ns\\xbb]\\xc5%\\xf9\\xcdo\\xc3Bc\\x15\\nu\\xf3\\xb6Ry\\xbd46\\x99\\x9b\\xb0w\\xad\\xa6\\xeeJx\\xd8o\\x13l\\xdaGv\\x05\\xd6\\x10K\\xc4j\\x9d\\x0ckn`\\x1aV\\xea-\\xa7\\xd3\\rNV\\xba\\x1f\\xaf\\x8f\\t:\\xedY?}\\x88\\xffn\\xde\\xaf7\\xfe\\'o\\x89D\\xad\\\\\\x7f\\x16\\xab\\xd1\\xe5r\\xb6XD\\xe4rv\\xe3US\\x83M&g>\\'\\xb0b\\xcb/@R\\xdf\\xc0JQ \\x97+1L\\xe8\\xd3kl\\x8f\\x84;o\\xde\\x8fE_\\x1b\\x7f\\xa5Th\\xc4b\\x89\\xddni\\xd9c\\xb5\\x99\\x805\\x9cv\\xa7D&\\x96H\\x99\\xaf\\xb9Y\\xb1\\xa5\\r\\x90VW:\\x80\\x1d\"#\\xe2\\xcd\\x16}\\\\\\xa7>\\xcdo\\x1d\\x0e{m\\xfd\\xb5\\x00][\\xa3\\x15\\x181\\x06\\x06D\\x94\\\\>\\x99:\\xf8?{\\xce\\x9c=\\x04\\xaca\\xb7:U\\xec<\\xb3\\x9e\\x95z+(B\\x0enV\\xf2\\x1626\\xed\\xa9\\xa23\\xfb\\x8f\\x1e\\xdb~\\xbd\\x0e+\\xcd\\xffj\\xe3K\\x1f}\\xfa\\x0c\\x96\\x90m\\xffU\\xcf\\xc4Q\\'O\\xef\\xc5.\\x0c\\xdc\\xdes\\xf0\\x8b\\xd2\\xabE\\xc0\\x1a6\\xa3\\x9d\\xa5)\\x1b\\xac\\xd8\\x8a\\xed\\xae\\xa9)e\\xab+\\xbacL\\xaf\\x05O}\\x81a\\xc5ko\\xdf\\xfd\\xd1g\\xcf\\x9a-\\x86Y3V\\xc8d\\xb7y\\x04\\xee\\xa8\\xd4Y\\xfd\\xfbL\\xfcn\\xd7;\\xd8\\xe1\\x84\\x19k\\xc2\\x98\\xf9p\\xe3\\xce\\x06`\\x01c\\x9d1\\xba++\\xf5\"[\\xa3\\x91\\xdf~pM\\xae\\xf3\\xd7\\x86\\xa8\\xc1\\xf7\\xf8uo\\xc9\\xac\\xa5\\xb1\\n\\x15\\xf3\\x85![\\xfd\\x84\\xdd\\xfbk\\xcd\\x8d\\x16\\xf0=\\x8cu\\xe6\\x98\\xee~l\\xa8\\x02\\xf6\\xee\\xb6\\xeb\\x96\\xe2\\x7fdW\\xa9\\xb5\\x9dV\\xa1\\x91\\xb5\\xfa\\x81\\x82\\xa2\\x9f7m[\\xde\\xea!\\xb5\\xca\\x1f\\x1bI\\xad\\x1e\\xc2\\xd2l\\xfc\\xdds\\x81!\\xb0\\xda\\xfb\\xe4\\xab\\xe7Z=\\x84\\x11?6\\x06Z]@t\\xd8\\xc0iw\\xdd\\xf9\\x18\\xdc\\x82\\xaa\\x8bu\\xe9\\x8f\\x84\\x01;\\xb08/\\xe3b\\xa1\\xfep\\xa6\\xbe}\\x8f\\xd6\\xa35\\xab\\xcdl\\xbc\\xc5\\x80\\x85\\xd5jV(Z/\\xf7\\xe5r\\xb5\\x9f&\\x00\\x98\\xa3\\xae\\xbe\\x0c\\xfe$J\\x85\\x1fv\\x88\\xb4z\\xa8\\xb1\\xc2 v\\x98\\xc6?\\x16\\x01\\xec\\xc0\\xee,\\x9a\\xcc\\xcf*\\xdcr\\xad:\\x90\\xeb9\\xad\\xde\\xa2\\xfcT\\xc5\\xc4\\'\\xc2\\xd5Z\\xb6J,v\\xe7e\\x8cy\\xb8\\xdd\\xd5\\xa2J\\xec\\x7f\\x00\\x1f\\xe0J~\\xf9\\xe0\\xf1\\x01\\xec\\xa9\\x02\\x0e\\xee1\\x99\\xb9(\\xba$\\xefO\\x976\\xc4\\x81\\x17e\\xd2`\\xbf\\xe8.\\x1a`\\x13.f\\x7fb\\xff\\xe6\\xbf\\x97\\x94t\\x1e\\x18\\xa5P\\xcb@\\x88\\\\=Y\\x992\\xd2\\xbfK\\x1f?`\\x19\\x8efV;l\\xae/\\x97_\\x0e\\x8a\\r\\xd2\\x85\\xb3{\\xf5q\\x8cYo\\xbdv\\xb2*uJ\\xf0\\x1d\\xbdX\\x1c}m\\x81\\xd3{L\\xf6n\\xaa..2\\x85t\\n\\xf2\\x0f#\\xbe\\xd5l\\xb78\\xaa.\\xd4\\xb9\\xec\\xf6\\t\\x8fG\\xe8B8*3\\xb8\\xbe#\\xa8\\x1e\\xa2\\xcc\\xac\\x00\\x00\\x00\\x9dIDAT\\xae\\xc2\\xb6\\xff\\xdb\\x1a\\xb3\\x19$\\n9:S\\xf9+\\x80(\\xecV\\x87\\xbe\\xdad\\xa869l\\xf6\\xc1\\xe3\\x82\\xbb\\xf4\\xe5\"K\\xb5\\xe0\\x9d{#\\xab\\xafZ.\\x14\\x98.\\x14\\x1a$2\\xa9\\xd5\\xe8\\x90*\\xa4R\\xa5\\xf4\\xfa]m\\xbcD\"\\x13aG\\xad\\xc3\\xe6\\x10\\x8bE\\x16\\x83=\\xa6\\x9b\\xa6K\\x1f\\r\\xf6\\x85\\x02\\xe7xy-\\x1aC\\xa3\\xc3\\xd4\\xe8069-F\\xa7\\xd5\\xe2\\x02^\"\\x93\\x8b\\xe4J\\xb1\\xc6_\\xaa\\xd6J\\x02\\xc2\\xbc9\\x91KP+\\x07\\t\\x1e\\xba*\\x17IP[$Am\\x91\\x04\\xb5E\\x12\\xd4\\x16IP[$\\xf1\\x7f\\x00\\x00\\x00\\xff\\xff5\\xebt\\xb5\\x00\\x00\\x00\\x06IDAT\\x03\\x00o\\xb7\\n2\\'\\x0e\\xdd\\xa4\\x00\\x00\\x00\\x00IEND\\xaeB`\\x82'"
      ]
     },
     "execution_count": 8,
     "metadata": {},
     "output_type": "execute_result"
    }
   ],
   "source": [
    "graph.get_graph().draw_mermaid_png(output_file_path=\"async_graph.png\")"
   ]
  },
  {
   "cell_type": "code",
   "execution_count": 9,
   "id": "40c49b25",
   "metadata": {},
   "outputs": [
    {
     "name": "stdout",
     "output_type": "stream",
     "text": [
      "Adding I'm A to []\n",
      "Adding I'm C to [\"I'm A\"]Adding I'm B to [\"I'm A\"]\n",
      "\n",
      "Adding I'm D to [\"I'm A\", \"I'm B\", \"I'm C\"]\n"
     ]
    },
    {
     "data": {
      "text/plain": [
       "{'aggregate': [\"I'm A\", \"I'm B\", \"I'm C\", \"I'm D\"]}"
      ]
     },
     "execution_count": 9,
     "metadata": {},
     "output_type": "execute_result"
    }
   ],
   "source": [
    "graph.invoke({\"aggregate\": []}, {\"configurable\": {\"thread_id\":\"foo\"}})"
   ]
  },
  {
   "cell_type": "markdown",
   "id": "cc4c389a",
   "metadata": {},
   "source": [
    "## Basic FLow : 2"
   ]
  },
  {
   "cell_type": "code",
   "execution_count": 14,
   "id": "f7e82667",
   "metadata": {},
   "outputs": [],
   "source": [
    "builder_2 = StateGraph(State)\n",
    "builder_2.add_node(\"a\", ReturnNodeValue(\"I'm A\"))\n",
    "builder_2.add_node(\"b\", ReturnNodeValue(\"I'm B\"))\n",
    "builder_2.add_node(\"b2\", ReturnNodeValue(\"I'm B2\"))\n",
    "builder_2.add_node(\"c\", ReturnNodeValue(\"I'm C\"))\n",
    "builder_2.add_node(\"d\", ReturnNodeValue(\"I'm D\"))\n",
    "\n",
    "builder_2.add_edge(START, \"a\")\n",
    "builder_2.add_edge(\"a\", \"b\")\n",
    "builder_2.add_edge(\"a\", \"c\")\n",
    "builder_2.add_edge(\"b\", \"b2\")\n",
    "builder_2.add_edge([\"b2\",\"c\"], \"d\")\n",
    "builder_2.add_edge(\"d\", END)\n",
    "\n",
    "graph = builder_2.compile()"
   ]
  },
  {
   "cell_type": "code",
   "execution_count": 15,
   "id": "89cc84f3",
   "metadata": {},
   "outputs": [
    {
     "data": {
      "image/png": "[encoded data removed]",
      "text/plain": [
       "<langgraph.graph.state.CompiledStateGraph object at 0x112b39ac0>"
      ]
     },
     "execution_count": 15,
     "metadata": {},
     "output_type": "execute_result"
    }
   ],
   "source": [
    "graph"
   ]
  },
  {
   "cell_type": "code",
   "execution_count": 16,
   "id": "5149e8ae",
   "metadata": {},
   "outputs": [
    {
     "name": "stdout",
     "output_type": "stream",
     "text": [
      "Adding I'm A to []\n",
      "Adding I'm B to [\"I'm A\"]\n",
      "Adding I'm C to [\"I'm A\"]\n",
      "Adding I'm B2 to [\"I'm A\", \"I'm B\", \"I'm C\"]\n",
      "Adding I'm D to [\"I'm A\", \"I'm B\", \"I'm C\", \"I'm B2\"]\n"
     ]
    },
    {
     "data": {
      "text/plain": [
       "{'aggregate': [\"I'm A\", \"I'm B\", \"I'm C\", \"I'm B2\", \"I'm D\"]}"
      ]
     },
     "execution_count": 16,
     "metadata": {},
     "output_type": "execute_result"
    }
   ],
   "source": [
    "graph.invoke({\"aggregate\": []}, {\"configurable\": {\"thread_id\":\"foo\"}})"
   ]
  },
  {
   "cell_type": "markdown",
   "id": "e29f38fa",
   "metadata": {},
   "source": [
    "## Conditional Branching with async flow"
   ]
  },
  {
   "cell_type": "code",
   "execution_count": null,
   "id": "d50ae8dd",
   "metadata": {},
   "outputs": [],
   "source": [
    "class State(TypedDict):\n",
    "    aggregate: Annotated[list, operator.add]\n",
    "    which : str\n",
    "\n",
    "\n",
    "def route_bc_or_cd(state: State):\n",
    "    # Eithre cd will run parallel or bc will run parallel based on which value.\n",
    "    if state[\"which\"] == \"cd\":\n",
    "        return [\"c\",\"d\"]\n",
    "    return [\"b\",\"c\"]\n",
    "\n",
    "intermediates = [\"b\",\"c\",\"d\"]\n",
    "\n",
    "builder_3 = StateGraph(State)\n",
    "\n",
    "builder_3.add_node(\"a\", ReturnNodeValue(\"I'm A\"))\n",
    "builder_3.add_node(\"b\", ReturnNodeValue(\"I'm B\"))\n",
    "builder_3.add_node(\"c\", ReturnNodeValue(\"I'm C\"))\n",
    "builder_3.add_node(\"d\", ReturnNodeValue(\"I'm D\"))\n",
    "builder_3.add_node(\"e\", ReturnNodeValue(\"I'm E\"))\n",
    "\n",
    "builder_3.add_edge(START, \"a\")\n",
    "builder_3.add_conditional_edges(\n",
    "    \"a\",\n",
    "    route_bc_or_cd,\n",
    "    intermediates\n",
    ")\n",
    "\n",
    "for node in intermediates:\n",
    "    builder_3.add_edge(node, \"e\")\n",
    "builder_3.add_edge(\"e\", END)\n",
    "graph = builder_3.compile()"
   ]
  },
  {
   "cell_type": "code",
   "execution_count": 19,
   "id": "54869923",
   "metadata": {},
   "outputs": [
    {
     "data": {
      "image/png": "[encoded data removed]",
      "text/plain": [
       "<langgraph.graph.state.CompiledStateGraph object at 0x112962870>"
      ]
     },
     "execution_count": 19,
     "metadata": {},
     "output_type": "execute_result"
    }
   ],
   "source": [
    "graph"
   ]
  },
  {
   "cell_type": "code",
   "execution_count": 20,
   "id": "79463d91",
   "metadata": {},
   "outputs": [
    {
     "name": "stdout",
     "output_type": "stream",
     "text": [
      "Adding I'm A to []\n",
      "Adding I'm C to [\"I'm A\"]Adding I'm B to [\"I'm A\"]\n",
      "\n",
      "Adding I'm E to [\"I'm A\", \"I'm B\", \"I'm C\"]\n"
     ]
    },
    {
     "data": {
      "text/plain": [
       "{'aggregate': [\"I'm A\", \"I'm B\", \"I'm C\", \"I'm E\"], 'which': ''}"
      ]
     },
     "execution_count": 20,
     "metadata": {},
     "output_type": "execute_result"
    }
   ],
   "source": [
    "graph.invoke({\"aggregate\": [],\"which\":\"\"}, {\"configurable\": {\"thread_id\":\"foo\"}})"
   ]
  },
  {
   "cell_type": "code",
   "execution_count": 21,
   "id": "6f9c39d1",
   "metadata": {},
   "outputs": [
    {
     "name": "stdout",
     "output_type": "stream",
     "text": [
      "Adding I'm A to []\n",
      "Adding I'm C to [\"I'm A\"]Adding I'm D to [\"I'm A\"]\n",
      "\n",
      "Adding I'm E to [\"I'm A\", \"I'm C\", \"I'm D\"]\n"
     ]
    },
    {
     "data": {
      "text/plain": [
       "{'aggregate': [\"I'm A\", \"I'm C\", \"I'm D\", \"I'm E\"], 'which': 'cd'}"
      ]
     },
     "execution_count": 21,
     "metadata": {},
     "output_type": "execute_result"
    }
   ],
   "source": [
    "graph.invoke({\"aggregate\": [],\"which\":\"cd\"}, {\"configurable\": {\"thread_id\":\"foo\"}})"
   ]
  },
  {
   "cell_type": "code",
   "execution_count": null,
   "id": "67df50be",
   "metadata": {},
   "outputs": [],
   "source": []
  }
 ],
 "metadata": {
  "kernelspec": {
   "display_name": "Python 3",
   "language": "python",
   "name": "python3"
  },
  "language_info": {
   "codemirror_mode": {
    "name": "ipython",
    "version": 3
   },
   "file_extension": ".py",
   "mimetype": "text/x-python",
   "name": "python",
   "nbconvert_exporter": "python",
   "pygments_lexer": "ipython3",
   "version": "3.12.0"
  }
 },
 "nbformat": 4,
 "nbformat_minor": 5
}
