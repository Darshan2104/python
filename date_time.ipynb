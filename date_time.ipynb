{
 "cells": [
  {
   "cell_type": "code",
   "execution_count": 1,
   "id": "a9dd146e",
   "metadata": {},
   "outputs": [
    {
     "name": "stdout",
     "output_type": "stream",
     "text": [
      "A\n",
      "B\n"
     ]
    }
   ],
   "source": [
    "j = {\n",
    "    \"a\":\"A\",\n",
    "    \"b\":\"B\"\n",
    "}\n",
    "\n",
    "l = [\"a\",\"c\",\"b\"]\n",
    "for ch in l:\n",
    "    if ch in j.keys():\n",
    "        print(j[ch])"
   ]
  },
  {
   "cell_type": "code",
   "execution_count": 3,
   "id": "c8be23d7",
   "metadata": {},
   "outputs": [
    {
     "name": "stdout",
     "output_type": "stream",
     "text": [
      "vewovbo          efewf    25\n",
      "vewovbo          efewf 22\n"
     ]
    }
   ],
   "source": [
    "a = \"vewovbo          efewf   \"\n",
    "print(a,len(a))\n",
    "a = a.strip()\n",
    "print(a,len(a))"
   ]
  },
  {
   "cell_type": "code",
   "execution_count": 8,
   "id": "0cc408d2",
   "metadata": {},
   "outputs": [
    {
     "data": {
      "text/plain": [
       "'sub_val'"
      ]
     },
     "execution_count": 8,
     "metadata": {},
     "output_type": "execute_result"
    }
   ],
   "source": [
    "j = {\n",
    "    \"file_name\":{\"key\":{\"sub key\":\"sub_val\"}}\n",
    "}\n",
    "j[\"file_name\"][\"key\"][\"sub key\"]"
   ]
  },
  {
   "cell_type": "code",
   "execution_count": 36,
   "id": "08572fba",
   "metadata": {},
   "outputs": [
    {
     "name": "stdout",
     "output_type": "stream",
     "text": [
      "<class 'dict_keys'>\n",
      "file_name {'key': {'sub key': 'sub_val'}}\n"
     ]
    }
   ],
   "source": [
    "\n",
    "for x,z in j.items():\n",
    "    print(x,z)\n"
   ]
  },
  {
   "cell_type": "code",
   "execution_count": 16,
   "id": "f03f7b18",
   "metadata": {},
   "outputs": [],
   "source": [
    "s = \"\"\n",
    "for i in range(5):\n",
    "    s+=\"\\n\"+str(i)\n",
    "    "
   ]
  },
  {
   "cell_type": "code",
   "execution_count": 18,
   "id": "19ba7d3e",
   "metadata": {},
   "outputs": [
    {
     "name": "stdout",
     "output_type": "stream",
     "text": [
      "\n",
      "0\n",
      "1\n",
      "2\n",
      "3\n",
      "4\n"
     ]
    }
   ],
   "source": [
    "print(s)"
   ]
  },
  {
   "cell_type": "code",
   "execution_count": 23,
   "id": "1a0aa8d7",
   "metadata": {},
   "outputs": [],
   "source": [
    "def get_sub_prompt_list(key_value_pair:dict):\n",
    "    # 1. order number of the product with key called 'PO #'\n",
    "    # 2. Order Date of the product with key called ORDER_DATE\n",
    "    # 3. shipment date of the product with key called SHIP_DATE\n",
    "    # 4. buyer of the product with key called BUYER\n",
    "    # 5. seller of the product with key called SELLER\n",
    "    \n",
    "    # we can add multiple keys like next_cell, below_cell...........\n",
    "    key_value_pair = key_value_pair[\"key\"]\n",
    "    count = 1 \n",
    "    sub_prompt = \"\"\n",
    "    for pdf_key,excel_key in key_value_pair.items():\n",
    "        sub_prompt+= f\"{count}. {pdf_key} of the product with key called '{excel_key}' \\n\"\n",
    "        count+=1\n",
    "    return sub_prompt"
   ]
  },
  {
   "cell_type": "code",
   "execution_count": 24,
   "id": "ac1aafc3",
   "metadata": {},
   "outputs": [
    {
     "name": "stdout",
     "output_type": "stream",
     "text": [
      "1. order number of the product with key called 'PO #' \n",
      "2. Order Date of the product with key called 'CREATE DATE' \n",
      "3. shipment date of the product with key called 'START SHIP' \n",
      "4. buyer of the product with key called 'BUYER' \n",
      "5. seller of the product with key called 'SELLER' \n",
      "\n"
     ]
    }
   ],
   "source": [
    "file_keys = {\n",
    "        \"Bealls_Example.pdf\": {\n",
    "            \"key\": {\n",
    "                # \"this field from pdf\": \"to this field in excel\",\n",
    "                \"order number\": \"PO #\",\n",
    "                \"Order Date\": \"CREATE DATE\",\n",
    "                \"shipment date\": \"START SHIP\",\n",
    "                \"buyer\": \"BUYER\",\n",
    "                \"seller\": \"SELLER\"\n",
    "            }\n",
    "        },\n",
    "   \n",
    "    }\n",
    "\n",
    "sub_prompt = get_sub_prompt_list(file_keys[\"Bealls_Example.pdf\"])\n",
    "print(sub_prompt)"
   ]
  },
  {
   "cell_type": "code",
   "execution_count": 31,
   "id": "49869837",
   "metadata": {},
   "outputs": [
    {
     "name": "stdout",
     "output_type": "stream",
     "text": [
      "hellop\n",
      "bye\n"
     ]
    }
   ],
   "source": [
    "a = 10\n",
    "if a == 10:\n",
    "    print(\"hellop\")\n",
    "elif a > 10:\n",
    "    print(\"Hey\")\n",
    "print(\"bye\")"
   ]
  },
  {
   "cell_type": "code",
   "execution_count": 37,
   "id": "697470dc",
   "metadata": {},
   "outputs": [],
   "source": [
    "s = \"\\n\\nabc\\n\\nxyz\""
   ]
  },
  {
   "cell_type": "code",
   "execution_count": 38,
   "id": "1fa8c2ac",
   "metadata": {},
   "outputs": [
    {
     "name": "stdout",
     "output_type": "stream",
     "text": [
      "\n",
      "\n",
      "abc\n",
      "\n",
      "xyz\n",
      "\t\tabc\t\txyz\n"
     ]
    }
   ],
   "source": [
    "print(s)\n",
    "s = s.replace('\\n',\"\\t\")\n",
    "print(s)"
   ]
  },
  {
   "cell_type": "code",
   "execution_count": 46,
   "id": "ad258273",
   "metadata": {},
   "outputs": [],
   "source": [
    "j = {\n",
    "    \"abc/Bealls_Example.pdf\": {\n",
    "            \"key\": {\n",
    "                # \"this field from pdf\": \"to this field in excel\",\n",
    "                \"order number\": \"PO #\",\n",
    "                \"Order Date\": \"CREATE DATE\",\n",
    "                \"shipment date\": \"START SHIP\",\n",
    "                \"buyer\": \"BUYER\",\n",
    "                \"seller\": \"SELLER\"\n",
    "            },\n",
    "            \"main_table\": {\n",
    "                # \"SKU\":\n",
    "                \"MFG Style\": \"STYLE #\",\n",
    "                \"MFG Color\": \"COLOR\",\n",
    "                \"Size Desc.\": \"SIZE\",\n",
    "                \"Description\": \"DESCRIPTION\",\n",
    "                \"Cost/Unit\": \"PRICE\",\n",
    "                \"Total Units\": \"UNITS\"\n",
    "            }\n",
    "        }\n",
    "}"
   ]
  },
  {
   "cell_type": "code",
   "execution_count": 49,
   "id": "67b00dc4",
   "metadata": {},
   "outputs": [],
   "source": [
    "temp = {}\n",
    "temp[\"xyz/myfile_name\"] = j[\"abc/Bealls_Example.pdf\"]"
   ]
  },
  {
   "cell_type": "code",
   "execution_count": 50,
   "id": "dc9db102",
   "metadata": {},
   "outputs": [
    {
     "name": "stdout",
     "output_type": "stream",
     "text": [
      "xyz/myfile_name\n",
      "key \n",
      "\n",
      " {'order number': 'PO #', 'Order Date': 'CREATE DATE', 'shipment date': 'START SHIP', 'buyer': 'BUYER', 'seller': 'SELLER'}\n",
      "main_table \n",
      "\n",
      " {'MFG Style': 'STYLE #', 'MFG Color': 'COLOR', 'Size Desc.': 'SIZE', 'Description': 'DESCRIPTION', 'Cost/Unit': 'PRICE', 'Total Units': 'UNITS'}\n"
     ]
    }
   ],
   "source": [
    "for a,v in temp.items():\n",
    "    print(a)\n",
    "    for x,y in v.items():\n",
    "        print(x,\"\\n\\n\",y)"
   ]
  },
  {
   "cell_type": "code",
   "execution_count": 1,
   "id": "53925f04",
   "metadata": {},
   "outputs": [
    {
     "name": "stdout",
     "output_type": "stream",
     "text": [
      "2023-12-21 16:55:25.146854\n"
     ]
    }
   ],
   "source": [
    "from datetime import datetime\n",
    "current_date_time  = datetime.now()\n",
    "print(current_date_time)"
   ]
  },
  {
   "cell_type": "code",
   "execution_count": 2,
   "id": "c2e04f8c",
   "metadata": {},
   "outputs": [],
   "source": [
    "def get_date_time(entities):\n",
    "    from datetime import datetime\n",
    "    valid_date = True\n",
    "    entities = entities.replace(\"T\",\" \").split(\".\")[0]\n",
    "    print(entities)\n",
    "\n",
    "    current_date_time = datetime.now()\n",
    "    date_format = '%Y-%m-%d %H:%M:%S'\n",
    "    date_obj = datetime.strptime(entities, date_format)\n",
    "    \n",
    "    if date_obj < current_date_time:\n",
    "        valid_date = False\n",
    "        return valid_date, None\n",
    "    \n",
    "    today9am = date_obj.replace(hour=9, minute=0, second=0)\n",
    "    today7pm = date_obj.replace(hour=19, minute=0, second=0)\n",
    "    \n",
    "    is_valid_time = False\n",
    "    if today9am <= date_obj <= today7pm:\n",
    "        is_valid_time = True\n",
    "    date = date_obj.strftime(\"%d/%m/%Y\")\n",
    "    time = date_obj.strftime(\"%H:%M\")\n",
    "    final_dt = \"\"\n",
    "    if is_valid_time:\n",
    "        final_dt= f\" at {time}\" \n",
    "    final_dt += f\" on {date}.\"\n",
    "    \n",
    "    return valid_date,final_dt"
   ]
  },
  {
   "cell_type": "code",
   "execution_count": 4,
   "id": "7abba96d",
   "metadata": {},
   "outputs": [
    {
     "name": "stdout",
     "output_type": "stream",
     "text": [
      "2023-12-22 18:00:00\n"
     ]
    },
    {
     "data": {
      "text/plain": [
       "(True, ' at 18:00 on 22/12/2023.')"
      ]
     },
     "execution_count": 4,
     "metadata": {},
     "output_type": "execute_result"
    }
   ],
   "source": [
    "entities = '2023-12-22T18:00:00.000+00:00'\n",
    "get_date_time(entities)"
   ]
  },
  {
   "cell_type": "code",
   "execution_count": null,
   "id": "491df540",
   "metadata": {},
   "outputs": [],
   "source": []
  }
 ],
 "metadata": {
  "kernelspec": {
   "display_name": "Python 3 (ipykernel)",
   "language": "python",
   "name": "python3"
  },
  "language_info": {
   "codemirror_mode": {
    "name": "ipython",
    "version": 3
   },
   "file_extension": ".py",
   "mimetype": "text/x-python",
   "name": "python",
   "nbconvert_exporter": "python",
   "pygments_lexer": "ipython3",
   "version": "3.8.10"
  }
 },
 "nbformat": 4,
 "nbformat_minor": 5
}
