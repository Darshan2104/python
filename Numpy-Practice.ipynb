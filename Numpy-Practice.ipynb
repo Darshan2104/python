{
 "cells": [
  {
   "cell_type": "markdown",
   "id": "ecac69cc",
   "metadata": {},
   "source": [
    "# **NumPy Practice Problems 🚀**\n",
    "\n",
    "## **Beginner Problems** (Focus: Array Creation & Indexing)  \n",
    "1. **Create a NumPy array** of integers from 1 to 100 and reshape it into a 10×10 matrix.  \n",
    "2. **Extract all even numbers** from a given NumPy array.  \n",
    "3. **Reverse a NumPy array** without using a loop.  \n",
    "4. **Replace all odd numbers** in an array with -1.  \n",
    "5. **Find the index of maximum and minimum values** in a given 1D array.  \n",
    "\n",
    "---\n",
    "\n",
    "## **Intermediate Problems** (Focus: Manipulation & Broadcasting)  \n",
    "6. **Create a 5×5 matrix** with 1s on the border and 0s inside (without loops).  \n",
    "7. **Normalize an array** so that all values are between 0 and 1.  \n",
    "8. **Stack two NumPy arrays vertically and horizontally.**  \n",
    "9. **Create a checkerboard pattern** (8×8 matrix) using 0s and 1s.  \n",
    "10. **Rotate a matrix 90 degrees** clockwise without using loops.  \n",
    "\n",
    "---\n",
    "\n",
    "## **Advanced Problems** (Focus: Performance Optimization & Complex Operations)  \n",
    "11. **Compute the moving average** of an array with a given window size.  \n",
    "12. **Generate 1,000,000 random numbers** and find the mean, variance, and standard deviation efficiently.  \n",
    "13. **Perform element-wise multiplication** between two very large arrays (e.g., 10000×10000).  \n",
    "14. **Solve a system of linear equations** using NumPy’s `linalg.solve()`.  \n",
    "15. **Find the dot product** of two large matrices and optimize performance.  \n",
    "\n",
    "---\n",
    "\n",
    "## **Expert-Level Problems** (Focus: Real-World Applications)  \n",
    "16. **Perform Principal Component Analysis (PCA)** on a dataset using NumPy.  \n",
    "17. **Implement a basic k-means clustering algorithm** using NumPy operations.  \n",
    "18. **Simulate a random walk** in 2D space using NumPy.  \n",
    "19. **Find the eigenvalues and eigenvectors** of a given matrix.  \n",
    "20. **Perform convolution between two 2D matrices** (without using libraries like OpenCV).  \n",
    "\n",
    "---\n",
    "\n",
    "💡 **Tip:** You can use `%%timeit` in Jupyter Notebook to measure execution speed for performance-related problems.\n",
    "\n",
    "https://chatgpt.com/share/67d727b6-894c-800c-ad4a-1031b6504a18"
   ]
  },
  {
   "cell_type": "code",
   "execution_count": 2,
   "id": "64f0dc53",
   "metadata": {},
   "outputs": [],
   "source": [
    "import numpy as np"
   ]
  },
  {
   "cell_type": "markdown",
   "id": "8d6c2c86",
   "metadata": {},
   "source": [
    "# **1. Beginner Problems**\n",
    "1. **Create a NumPy array** of integers from 1 to 100 and reshape it into a 10×10 matrix.  \n",
    "2. **Extract all even numbers** from a given NumPy array.  \n",
    "3. **Reverse a NumPy array** without using a loop.  \n",
    "4. **Replace all odd numbers** in an array with -1.  \n",
    "5. **Find the index of maximum and minimum values** in a given 1D array."
   ]
  },
  {
   "cell_type": "code",
   "execution_count": 19,
   "id": "c250ba70",
   "metadata": {},
   "outputs": [
    {
     "data": {
      "text/plain": [
       "array([[  1,   2,   3,   4,   5,   6,   7,   8,   9,  10],\n",
       "       [ 11,  12,  13,  14,  15,  16,  17,  18,  19,  20],\n",
       "       [ 21,  22,  23,  24,  25,  26,  27,  28,  29,  30],\n",
       "       [ 31,  32,  33,  34,  35,  36,  37,  38,  39,  40],\n",
       "       [ 41,  42,  43,  44,  45,  46,  47,  48,  49,  50],\n",
       "       [ 51,  52,  53,  54,  55,  56,  57,  58,  59,  60],\n",
       "       [ 61,  62,  63,  64,  65,  66,  67,  68,  69,  70],\n",
       "       [ 71,  72,  73,  74,  75,  76,  77,  78,  79,  80],\n",
       "       [ 81,  82,  83,  84,  85,  86,  87,  88,  89,  90],\n",
       "       [ 91,  92,  93,  94,  95,  96,  97,  98,  99, 100]])"
      ]
     },
     "execution_count": 19,
     "metadata": {},
     "output_type": "execute_result"
    }
   ],
   "source": [
    "arr = np.arange(1,101)\n",
    "\n",
    "temp = arr.reshape(10,10)\n",
    "\n",
    "temp\n",
    "# np.array(range(1,101)).reshape(10,10)"
   ]
  },
  {
   "cell_type": "code",
   "execution_count": 24,
   "id": "599ff919",
   "metadata": {},
   "outputs": [
    {
     "name": "stdout",
     "output_type": "stream",
     "text": [
      "(10, 10)\n"
     ]
    }
   ],
   "source": [
    "print(temp.shape)\n"
   ]
  },
  {
   "cell_type": "code",
   "execution_count": 14,
   "id": "edc26803",
   "metadata": {},
   "outputs": [
    {
     "data": {
      "text/plain": [
       "array([  2,   4,   6,   8,  10,  12,  14,  16,  18,  20,  22,  24,  26,\n",
       "        28,  30,  32,  34,  36,  38,  40,  42,  44,  46,  48,  50,  52,\n",
       "        54,  56,  58,  60,  62,  64,  66,  68,  70,  72,  74,  76,  78,\n",
       "        80,  82,  84,  86,  88,  90,  92,  94,  96,  98, 100])"
      ]
     },
     "execution_count": 14,
     "metadata": {},
     "output_type": "execute_result"
    }
   ],
   "source": [
    "arr[arr%2 == 0]"
   ]
  },
  {
   "cell_type": "code",
   "execution_count": 16,
   "id": "84c6d1f0",
   "metadata": {},
   "outputs": [
    {
     "data": {
      "text/plain": [
       "array([100,  99,  98,  97,  96,  95,  94,  93,  92,  91,  90,  89,  88,\n",
       "        87,  86,  85,  84,  83,  82,  81,  80,  79,  78,  77,  76,  75,\n",
       "        74,  73,  72,  71,  70,  69,  68,  67,  66,  65,  64,  63,  62,\n",
       "        61,  60,  59,  58,  57,  56,  55,  54,  53,  52,  51,  50,  49,\n",
       "        48,  47,  46,  45,  44,  43,  42,  41,  40,  39,  38,  37,  36,\n",
       "        35,  34,  33,  32,  31,  30,  29,  28,  27,  26,  25,  24,  23,\n",
       "        22,  21,  20,  19,  18,  17,  16,  15,  14,  13,  12,  11,  10,\n",
       "         9,   8,   7,   6,   5,   4,   3,   2,   1])"
      ]
     },
     "execution_count": 16,
     "metadata": {},
     "output_type": "execute_result"
    }
   ],
   "source": [
    "arr[::-1]"
   ]
  },
  {
   "cell_type": "code",
   "execution_count": 33,
   "id": "bf82962a",
   "metadata": {},
   "outputs": [
    {
     "data": {
      "text/plain": [
       "array([ -1,   2,  -1,   4,  -1,   6,  -1,   8,  -1,  10,  -1,  12,  -1,\n",
       "        14,  -1,  16,  -1,  18,  -1,  20,  -1,  22,  -1,  24,  -1,  26,\n",
       "        -1,  28,  -1,  30,  -1,  32,  -1,  34,  -1,  36,  -1,  38,  -1,\n",
       "        40,  -1,  42,  -1,  44,  -1,  46,  -1,  48,  -1,  50,  -1,  52,\n",
       "        -1,  54,  -1,  56,  -1,  58,  -1,  60,  -1,  62,  -1,  64,  -1,\n",
       "        66,  -1,  68,  -1,  70,  -1,  72,  -1,  74,  -1,  76,  -1,  78,\n",
       "        -1,  80,  -1,  82,  -1,  84,  -1,  86,  -1,  88,  -1,  90,  -1,\n",
       "        92,  -1,  94,  -1,  96,  -1,  98,  -1, 100])"
      ]
     },
     "execution_count": 33,
     "metadata": {},
     "output_type": "execute_result"
    }
   ],
   "source": [
    "arr[arr%2 == 1] = -1\n",
    "\n",
    "arr"
   ]
  },
  {
   "cell_type": "code",
   "execution_count": 36,
   "id": "8bd6e0a9",
   "metadata": {},
   "outputs": [
    {
     "name": "stdout",
     "output_type": "stream",
     "text": [
      "4\n",
      "2\n"
     ]
    }
   ],
   "source": [
    "arr = np.array([10, 20, 5, 8, 70, 30])\n",
    "\n",
    "print(np.argmax(arr))\n",
    "print(np.argmin(arr))"
   ]
  },
  {
   "cell_type": "markdown",
   "id": "163f5c62",
   "metadata": {},
   "source": [
    "# **2. Intermediate Problems**\n",
    "6. **Create a 5×5 matrix** with 1s on the border and 0s inside (without loops).  \n",
    "7. **Normalize an array** so that all values are between 0 and 1.  \n",
    "8. **Stack two NumPy arrays vertically and horizontally.**  \n",
    "9. **Create a checkerboard pattern** (8×8 matrix) using 0s and 1s.  \n",
    "10. **Rotate a matrix 90 degrees** clockwise without using loops.  "
   ]
  },
  {
   "cell_type": "code",
   "execution_count": 44,
   "id": "dd5b9c24",
   "metadata": {},
   "outputs": [
    {
     "data": {
      "text/plain": [
       "array([[1., 1., 1., 1., 1.],\n",
       "       [1., 0., 0., 0., 1.],\n",
       "       [1., 0., 0., 0., 1.],\n",
       "       [1., 0., 0., 0., 1.],\n",
       "       [1., 1., 1., 1., 1.]])"
      ]
     },
     "execution_count": 44,
     "metadata": {},
     "output_type": "execute_result"
    }
   ],
   "source": [
    "arr = np.ones((5,5))\n",
    "\n",
    "arr[1:-1,1:-1] = 0\n",
    "\n",
    "arr"
   ]
  },
  {
   "cell_type": "code",
   "execution_count": 53,
   "id": "ee24b8bf",
   "metadata": {},
   "outputs": [
    {
     "name": "stdout",
     "output_type": "stream",
     "text": [
      "[92 18 11 21 83 95 99 81 33 43]\n",
      "[0.92045455 0.07954545 0.         0.11363636 0.81818182 0.95454545\n",
      " 1.         0.79545455 0.25       0.36363636]\n"
     ]
    }
   ],
   "source": [
    "arr = np.random.randint(10, 100, 10)\n",
    "print(arr)\n",
    "normalized_arr = (arr - arr.min()) / (arr.max() - arr.min())\n",
    "print(normalized_arr)"
   ]
  },
  {
   "cell_type": "code",
   "execution_count": 57,
   "id": "df2aa038",
   "metadata": {},
   "outputs": [
    {
     "name": "stdout",
     "output_type": "stream",
     "text": [
      "[[0. 0. 0.]\n",
      " [0. 0. 0.]\n",
      " [0. 0. 0.]\n",
      " [1. 1. 1.]\n",
      " [1. 1. 1.]\n",
      " [1. 1. 1.]]\n",
      "[[0. 0. 0. 1. 1. 1.]\n",
      " [0. 0. 0. 1. 1. 1.]\n",
      " [0. 0. 0. 1. 1. 1.]]\n"
     ]
    }
   ],
   "source": [
    "z = np.zeros((3,3))\n",
    "\n",
    "o = np.ones((3,3))\n",
    "\n",
    "print(np.vstack((z,o)))\n",
    "\n",
    "print(np.hstack((z,o)))"
   ]
  },
  {
   "cell_type": "code",
   "execution_count": 71,
   "id": "d206519e",
   "metadata": {},
   "outputs": [
    {
     "data": {
      "text/plain": [
       "array([[1., 0., 1., 0., 1., 0., 1., 0.],\n",
       "       [0., 1., 0., 1., 0., 1., 0., 1.],\n",
       "       [1., 0., 1., 0., 1., 0., 1., 0.],\n",
       "       [0., 1., 0., 1., 0., 1., 0., 1.],\n",
       "       [1., 0., 1., 0., 1., 0., 1., 0.],\n",
       "       [0., 1., 0., 1., 0., 1., 0., 1.],\n",
       "       [1., 0., 1., 0., 1., 0., 1., 0.],\n",
       "       [0., 1., 0., 1., 0., 1., 0., 1.]])"
      ]
     },
     "execution_count": 71,
     "metadata": {},
     "output_type": "execute_result"
    }
   ],
   "source": [
    "arr = np.ones((8,8))\n",
    "\n",
    "arr[1::2, ::2] = 0 # MARK ROW ZEROS\n",
    "arr[::2, 1::2] = 0 # MARK COL ZEROS\n",
    "\n",
    "arr"
   ]
  },
  {
   "cell_type": "code",
   "execution_count": 85,
   "id": "fe22aa20",
   "metadata": {},
   "outputs": [
    {
     "data": {
      "text/plain": [
       "array([[7, 4, 1],\n",
       "       [8, 5, 2],\n",
       "       [9, 6, 3]])"
      ]
     },
     "execution_count": 85,
     "metadata": {},
     "output_type": "execute_result"
    }
   ],
   "source": [
    "arr = np.arange(1,10).reshape(3,3)\n",
    "\n",
    "arr[::-1].T\n",
    "\n",
    "# np.rot90(arr,-4)"
   ]
  },
  {
   "cell_type": "markdown",
   "id": "d730dea3",
   "metadata": {},
   "source": [
    "# **3. Advanced Problems** \n",
    "11. **Compute the moving average** of an array with a given window size.  \n",
    "12. **Generate 1,000,000 random numbers** and find the mean, variance, and standard deviation efficiently.  \n",
    "13. **Perform element-wise multiplication** between two very large arrays (e.g., 10000×10000).  \n",
    "14. **Solve a system of linear equations** using NumPy’s `linalg.solve()`.  \n",
    "15. **Find the dot product** of two large matrices and optimize performance. "
   ]
  },
  {
   "cell_type": "code",
   "execution_count": 88,
   "id": "ceb8a364",
   "metadata": {},
   "outputs": [],
   "source": [
    "arr = np.arange(1,10)"
   ]
  },
  {
   "cell_type": "code",
   "execution_count": 91,
   "id": "330cf6bd",
   "metadata": {},
   "outputs": [
    {
     "name": "stdout",
     "output_type": "stream",
     "text": [
      "[1 2 3 4 5 6 7 8 9]\n",
      "[2. 3. 4. 5. 6. 7. 8.]\n"
     ]
    }
   ],
   "source": [
    "print(arr)\n",
    "\n",
    "window_size = 3\n",
    "moving_avg = np.convolve(arr, np.ones(window_size)/window_size, mode='valid')\n",
    "print(moving_avg)"
   ]
  },
  {
   "cell_type": "code",
   "execution_count": 105,
   "id": "0909f106",
   "metadata": {},
   "outputs": [
    {
     "name": "stdout",
     "output_type": "stream",
     "text": [
      "[0.9947598  0.14199671 0.67832812 0.23675674 0.21552975 0.5239144\n",
      " 0.37559874 0.50992024 0.73205405 0.29292945]\n",
      "0.49987408938253886\n",
      "0.28861590539876025\n",
      "0.08329914084914614\n"
     ]
    }
   ],
   "source": [
    "arr = np.random.rand(1000000)\n",
    "\n",
    "print(arr[:10])\n",
    "\n",
    "print(arr.mean())\n",
    "print(arr.std())\n",
    "print(arr.var())"
   ]
  },
  {
   "cell_type": "code",
   "execution_count": 110,
   "id": "f7df9f29",
   "metadata": {},
   "outputs": [
    {
     "name": "stdout",
     "output_type": "stream",
     "text": [
      "[[0.14553566 0.32568905]\n",
      " [0.42356275 0.24036773]] \n",
      " [[0.52264705 0.65362954]\n",
      " [0.71357352 0.54130683]]\n"
     ]
    },
    {
     "data": {
      "text/plain": [
       "array([[0.07606378, 0.21287998],\n",
       "       [0.30224316, 0.13011269]])"
      ]
     },
     "execution_count": 110,
     "metadata": {},
     "output_type": "execute_result"
    }
   ],
   "source": [
    "a  = np.random.rand(2,2)\n",
    "b  = np.random.rand(2,2)\n",
    "\n",
    "print(a,\"\\n\",b)\n",
    "ans = np.multiply(a,b)\n",
    "\n",
    "ans"
   ]
  },
  {
   "cell_type": "code",
   "execution_count": 111,
   "id": "d399e612",
   "metadata": {},
   "outputs": [
    {
     "name": "stdout",
     "output_type": "stream",
     "text": [
      "[0.8 1.3]\n"
     ]
    }
   ],
   "source": [
    "A = np.array([[3, 2], [1, 4]])\n",
    "b = np.array([5, 6])\n",
    "solution = np.linalg.solve(A, b)\n",
    "print(solution)"
   ]
  },
  {
   "cell_type": "code",
   "execution_count": 112,
   "id": "3e3fc057",
   "metadata": {},
   "outputs": [
    {
     "name": "stdout",
     "output_type": "stream",
     "text": [
      "[[736.32321938 746.27489535 736.50378141 ... 735.80815301 735.37717036\n",
      "  739.79352485]\n",
      " [738.41083274 736.0305254  737.18280268 ... 737.50815094 740.63765861\n",
      "  743.0380391 ]\n",
      " [747.13861348 749.39860091 746.37151978 ... 739.32738903 745.73047047\n",
      "  744.87582326]\n",
      " ...\n",
      " [731.6962817  735.4824911  738.72774008 ... 737.42447564 734.66137659\n",
      "  729.6271462 ]\n",
      " [749.17560632 755.72668365 750.37415103 ... 753.13431987 772.92659928\n",
      "  744.4317569 ]\n",
      " [751.44770372 756.42403443 745.5714597  ... 745.48858511 756.12027853\n",
      "  753.40053471]]\n"
     ]
    }
   ],
   "source": [
    "a = np.random.rand(3000, 3000)\n",
    "b = np.random.rand(3000, 3000)\n",
    "dot_product = np.dot(a, b)\n",
    "print(dot_product)"
   ]
  },
  {
   "cell_type": "code",
   "execution_count": null,
   "id": "697898ed",
   "metadata": {},
   "outputs": [],
   "source": []
  },
  {
   "cell_type": "code",
   "execution_count": null,
   "id": "322a1f3d",
   "metadata": {},
   "outputs": [],
   "source": []
  },
  {
   "cell_type": "code",
   "execution_count": 113,
   "id": "ae0ae323",
   "metadata": {},
   "outputs": [],
   "source": [
    "name = ['Ananya', 'Rahul', 'Eati', 'Alex'] \n",
    "scores = [[22,30,28], [32,38, 26], [21, 29,32], [39, 21, 27]]"
   ]
  },
  {
   "cell_type": "code",
   "execution_count": 117,
   "id": "9410eba6",
   "metadata": {},
   "outputs": [
    {
     "name": "stdout",
     "output_type": "stream",
     "text": [
      "{'Ananya': [22, 30, 28], 'Rahul': [32, 38, 26], 'Eati': [21, 29, 32], 'Alex': [39, 21, 27]}\n"
     ]
    }
   ],
   "source": [
    "d = {n:s for n, s in zip(name, scores)}\n",
    "print(d) "
   ]
  },
  {
   "cell_type": "code",
   "execution_count": 118,
   "id": "cde3c53b",
   "metadata": {},
   "outputs": [],
   "source": [
    "d = dict(zip(name, scores))"
   ]
  },
  {
   "cell_type": "code",
   "execution_count": 119,
   "id": "44c4a085",
   "metadata": {},
   "outputs": [
    {
     "data": {
      "text/plain": [
       "{'Ananya': [22, 30, 28],\n",
       " 'Rahul': [32, 38, 26],\n",
       " 'Eati': [21, 29, 32],\n",
       " 'Alex': [39, 21, 27]}"
      ]
     },
     "execution_count": 119,
     "metadata": {},
     "output_type": "execute_result"
    }
   ],
   "source": [
    "d"
   ]
  },
  {
   "cell_type": "code",
   "execution_count": 125,
   "id": "7e5dccde",
   "metadata": {},
   "outputs": [],
   "source": [
    "# create a function to check if string, list, tuples, int any value passed to the function \n",
    "# if it is a palindrome or not\n",
    "\n",
    "def is_palindrome(inpt):\n",
    "    if isinstance(inpt, int):\n",
    "        inpt = str(inpt)\n",
    "    \n",
    "    r_inpt = inpt[::-1]\n",
    "    if r_inpt == inpt:\n",
    "        return True\n",
    "    \n",
    "    return False"
   ]
  },
  {
   "cell_type": "code",
   "execution_count": 126,
   "id": "f1361010",
   "metadata": {},
   "outputs": [
    {
     "name": "stdout",
     "output_type": "stream",
     "text": [
      "True\n",
      "True\n",
      "False\n",
      "True\n",
      "True\n"
     ]
    }
   ],
   "source": [
    "print(is_palindrome([1, 2, 3, 2, 1])) \n",
    "print(is_palindrome((1, 2, 3, 2, 1))) \n",
    "print(is_palindrome(\"hello\")) \n",
    "print(is_palindrome(\"madam\")) \n",
    "print(is_palindrome(12321))"
   ]
  },
  {
   "cell_type": "code",
   "execution_count": 130,
   "id": "0f217c0a",
   "metadata": {},
   "outputs": [
    {
     "name": "stdout",
     "output_type": "stream",
     "text": [
      "1 ----> 1\n",
      "2 ----> 2\n",
      "3 ----> 6\n",
      "4 ----> 24\n",
      "5 ----> 120\n",
      "6 ----> 720\n",
      "7 ----> 5040\n",
      "8 ----> 40320\n",
      "9 ----> 362880\n"
     ]
    }
   ],
   "source": [
    "# Question: Write a Python function to compute the factorial of a given number without using recursion.\n",
    "\n",
    "# 4 = 4*3*2*1\n",
    "\n",
    "def fact(n):\n",
    "    ans= 1\n",
    "    for i in range(2,n+1):\n",
    "        ans *=i\n",
    "    return ans\n",
    "\n",
    "for i in range(1,10):\n",
    "    print(i,\"---->\",fact(i))\n",
    "\n",
    "    \n",
    "# def fact(n):\n",
    "\n",
    "#     if n == 1:\n",
    "#         return 1\n",
    "\n",
    "#     return fact(n) * fact(n-1)"
   ]
  },
  {
   "cell_type": "code",
   "execution_count": 135,
   "id": "70775266",
   "metadata": {},
   "outputs": [
    {
     "name": "stdout",
     "output_type": "stream",
     "text": [
      "{'a': 0, 'e': 7, 'i': 2, 'o': 4, 'u': 0}\n"
     ]
    }
   ],
   "source": [
    "# Write a Python function to count the number of vowels (a, e, i, o, u) in a given string. \n",
    "# {'a': 0, 'e': 6, 'i': 2, 'o': 4, 'u': 0}\n",
    "\n",
    "s = 'Hi Everyone, Welcome to the session'\n",
    "\n",
    "def give_me_count(s:str):\n",
    "    d = {c:0 for c in ['a', 'e', 'i', 'o', 'u']}\n",
    "    for c in s:\n",
    "        if c.lower() in ['a', 'e', 'i', 'o', 'u']:\n",
    "            d[c.lower()] +=1\n",
    "        \n",
    "    return d\n",
    "\n",
    "print(give_me_count(s))"
   ]
  },
  {
   "cell_type": "code",
   "execution_count": null,
   "id": "398405eb",
   "metadata": {},
   "outputs": [],
   "source": []
  }
 ],
 "metadata": {
  "kernelspec": {
   "display_name": "Python 3 (ipykernel)",
   "language": "python",
   "name": "python3"
  },
  "language_info": {
   "codemirror_mode": {
    "name": "ipython",
    "version": 3
   },
   "file_extension": ".py",
   "mimetype": "text/x-python",
   "name": "python",
   "nbconvert_exporter": "python",
   "pygments_lexer": "ipython3",
   "version": "3.9.6"
  }
 },
 "nbformat": 4,
 "nbformat_minor": 5
}
