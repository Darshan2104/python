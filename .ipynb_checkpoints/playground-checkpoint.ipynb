{
 "cells": [
  {
   "cell_type": "markdown",
   "metadata": {},
   "source": [
    "### ."
   ]
  },
  {
   "cell_type": "code",
   "execution_count": null,
   "metadata": {},
   "outputs": [],
   "source": [
    "l1 = [\n",
    "            \"न ही\",\n",
    "            \"नो मैडम\",\n",
    "            \"बिलकुल नहीं\",\n",
    "            \"ना  मतलब  ना है\",\n",
    "            \"ऐसा नहीं है\",\n",
    "            \"कुछ नहीं जानना\",\n",
    "            \"मैं नहीं करता\",\n",
    "            \"नहीं ये नहीं\",\n",
    "            \"नॉट नाउ मैडम\",\n",
    "            \"नहीं न\",\n",
    "            \"क्या ये नहीं है\",\n",
    "            \"नहीं हो\",\n",
    "            \"देखता हूँ\",\n",
    "            \"नहीं नहीं\",\n",
    "            \"गलत स्थान\",\n",
    "            \"देखते हैं\",\n",
    "            \"संभव नहीं\",\n",
    "            \"नहीं\",\n",
    "            \"नहीं जानना\",\n",
    "            \"ना ना ना\",\n",
    "            \"नहीं बिलकुल नहीं\",\n",
    "            \"जी नहीं बिलकुल  नहीं\",\n",
    "            \"गलत\",\n",
    "            \"अभी नहीं\",\n",
    "            \"नहीं बाबा\",\n",
    "            \"नहीं नहीं नहीं\",\n",
    "            \"कभी नहीं\",\n",
    "            \"नहीं मैडम\",\n",
    "            \"नहीं चाहिए\",\n",
    "            \"नई\",\n",
    "            \"मैं नहीं मानती\",\n",
    "            \"हर्गिज नहीं\",\n",
    "            \"नहीं जी बिलकुल नहीं\",\n",
    "            \"जी नहीं\",\n",
    "            \"कभी नहीँ\",\n",
    "            \"नहीं किया\",\n",
    "            \"नहीं नहीं सर\",\n",
    "            \"न हो\",\n",
    "            \"नहीं मैडम वही बता रही हूँ\",\n",
    "            \"नहीं जी\",\n",
    "            \"मैं नहीं चाहता\",\n",
    "            \"जी नही\",\n",
    "            \"नहीं है\",\n",
    "            \"नहीं साहब\",\n",
    "            \"ना ना\",\n",
    "            \"नहीं जानना भइया\",\n",
    "            \"मत करो\",\n",
    "            \"जि नहीं\",\n",
    "            \"नो\",\n",
    "            \"ना\",\n",
    "            \"रुचि नहीं\"\n",
    "        ]\n",
    "l2 = [\n",
    "            \"न ही\",\n",
    "            \"नहीं है\",\n",
    "            \"न हो\",\n",
    "            \"नहीं हो\",\n",
    "            \"अभी नहीं\",\n",
    "            \"नही\",\n",
    "            \"नहीं नहीं\",\n",
    "            \"जि नहीं\",\n",
    "            \"जी नही\",\n",
    "            \"नो\",\n",
    "            \"ना\",\n",
    "            \"ना ना ना\",\n",
    "            \"नई\",\n",
    "            \"नहीं बाबा\",\n",
    "            \"नहीं जानना\",\n",
    "            \"रुचि नहीं\",\n",
    "            \"नहीं जानना\",\n",
    "            \"नहीं जानना भइया\",\n",
    "            \"कुछ नहीं जानना \",\n",
    "            \"बिलकुल नहीं\",\n",
    "            \"जी नहीं\",\n",
    "            \"मैं नहीं मानती\",\n",
    "            \"नहीं चाहिए\",\n",
    "            \"गलत\",\n",
    "            \"देखता हूँ\",\n",
    "            \"देखते हैं\",\n",
    "            \"कभी नहीं\",\n",
    "            \"ना ना\",\n",
    "            \"नहीं जी\",\n",
    "            \"नॉट नाउ मैडम \",\n",
    "            \"नहीं नहीं\",\n",
    "            \"नहीं\",\n",
    "            \"नहीं नहीं सर\",\n",
    "            \"नहीं मैडम\",\n",
    "            \"नहीं मैडम वही बता रही हूँ\",\n",
    "            \"ऐसा नहीं है\",\n",
    "            \"नहीं किया\",\n",
    "            \"अभी नहीं होगा\",\n",
    "            \"नो मैडम\",\n",
    "            \"नहीं न\",\n",
    "            \"गलत\",\n",
    "            \"गलत स्थान\",\n",
    "            \"मत करो\",\n",
    "            \"हर्गिज नहीं\",\n",
    "            \"मैं नहीं करता\",\n",
    "            \"मैं नहीं चाहता\",\n",
    "            \"कभी नहीँ\",\n",
    "            \"नहीं साहब\",\n",
    "            \"संभव नहीं\",\n",
    "            \"अभी नहीं\",\n",
    "            \"नहीं\"\n",
    "        ]"
   ]
  },
  {
   "cell_type": "code",
   "execution_count": null,
   "metadata": {},
   "outputs": [],
   "source": [
    "print(len(l1))\n",
    "print(len(l2))"
   ]
  },
  {
   "cell_type": "code",
   "execution_count": null,
   "metadata": {},
   "outputs": [],
   "source": [
    "ans = list(set(l1+l2))\n",
    "print(len(ans))\n",
    "print(ans)\n"
   ]
  },
  {
   "cell_type": "code",
   "execution_count": null,
   "metadata": {},
   "outputs": [],
   "source": [
    "import json \n",
    "j = {\"affirm\":ans}\n",
    "print(j)\n",
    "\n",
    "with open(\"darshan.json\", \"w\", encoding=\"utf8\") as f:\n",
    "    json.dump(j, f, ensure_ascii=False)\n"
   ]
  },
  {
   "cell_type": "code",
   "execution_count": null,
   "metadata": {},
   "outputs": [],
   "source": []
  },
  {
   "cell_type": "code",
   "execution_count": null,
   "metadata": {},
   "outputs": [],
   "source": [
    "# month_mapping = {\n",
    "# \t\"01\": \"january\",\n",
    "# \t\"02\": \"febuary\",\n",
    "# \t\"03\": \"march\",\n",
    "# \t\"04\": \"april\",\n",
    "# \t\"05\": \"may\",\n",
    "# \t\"06\": \"june\",\n",
    "# \t\"07\": \"july\",\n",
    "# \t\"08\": \"august\",\n",
    "# \t\"09\": \"september\",\n",
    "# \t\"10\": \"october\",\n",
    "# \t\"11\": \"november\",\n",
    "# \t\"12\": \"december\"\n",
    "# }\n",
    "# # convert number into words\n",
    "\n",
    "# import inflect\n",
    "# p = inflect.engine()\n",
    "# def convert_date_num2txt(text):\n",
    "\t\n",
    "# \ttemp_str = text.split(\"/\")\n",
    "# \tprint(temp_str)\n",
    "# \tday = temp_str[0]\n",
    "# \tmonth = temp_str[1]\n",
    "# \tyear = temp_str[2]\n",
    "#     new_date = p.number_to_words(day)\n",
    "#     print(day)\n",
    "#     return 1\n",
    "#     # month =temp_str[1]\n",
    "#     # year = temp_str[2]\n",
    "#     # day = p.number_to_words(day)\n",
    "#     # month = month_mapping[month]\n",
    "#     # year  = p.number_to_words(year)\n",
    "    \n",
    "        \n",
    "\n",
    "#     # ans = day+month+year\n",
    "#     # ans = -1\n",
    "# \t# return ans\n",
    "# input_str = \"12/01/2023\"\n",
    "# convert_date_num2txt(input_str)"
   ]
  },
  {
   "cell_type": "markdown",
   "metadata": {},
   "source": [
    "### lambda function"
   ]
  },
  {
   "cell_type": "code",
   "execution_count": null,
   "metadata": {},
   "outputs": [],
   "source": [
    "out = lambda x: x*2\n",
    "\n",
    "print(out(10))"
   ]
  },
  {
   "cell_type": "markdown",
   "metadata": {},
   "source": [
    "### torch tensor"
   ]
  },
  {
   "cell_type": "code",
   "execution_count": null,
   "metadata": {},
   "outputs": [],
   "source": [
    "import torch\n",
    "from sys import getsizeof\n",
    "\n",
    "a =[1,2,3,4,5]\n",
    "out = torch.tensor(a)\n",
    "print(\"Array : \")\n",
    "print(a)\n",
    "print(type(a))\n",
    "print(\"memory : \",getsizeof(a))\n",
    "\n",
    "print(\"\\n\\nTensor : \")\n",
    "print(out)\n",
    "print(type(out))\n",
    "print(\"memory : \",getsizeof(out))\n"
   ]
  },
  {
   "cell_type": "code",
   "execution_count": null,
   "metadata": {},
   "outputs": [],
   "source": [
    "for i in range(0,100,10):\n",
    "    print(i)"
   ]
  },
  {
   "cell_type": "markdown",
   "metadata": {},
   "source": [
    "### ."
   ]
  },
  {
   "cell_type": "code",
   "execution_count": null,
   "metadata": {},
   "outputs": [],
   "source": [
    "!pip install kerykeion"
   ]
  },
  {
   "cell_type": "code",
   "execution_count": null,
   "metadata": {},
   "outputs": [],
   "source": [
    "class Node:\n",
    "    def __init__(self,value):\n",
    "        self.data_val = value\n",
    "        self.next_node = None\n",
    "    \n",
    "    def insert_after(self, node):\n",
    "        tmp_node = self.next_node\n",
    "        self.next_node = node\n",
    "        node.next_node = tmp_node\n",
    "\n",
    "    def get_next(self):\n",
    "        return self.next_node\n",
    "    \n",
    "    def print_data(self):\n",
    "        print(self.data_val,end=\" \")\n",
    "\n",
    "    def print_list(self,node):\n",
    "        while self != None:\n",
    "            print(self.data_val,end=\" \")\n",
    "            self = self.next_node\n",
    "        print(\"\\n\")\n",
    "\n",
    "    def reverseBetween(self, head, left, right):\n",
    "        def reverse(head, steps):\n",
    "            count = 0\n",
    "            curr = head\n",
    "            prev = None\n",
    "            while count < steps:\n",
    "                curr_next = curr.next_node\n",
    "                curr.next_node = prev\n",
    "                prev = curr\n",
    "                curr = curr_next\n",
    "                count += 1\n",
    "        \n",
    "        prev_left, left_node, right_node = None, None, None\n",
    "        curr = head\n",
    "        for index in range(1, right + 1):\n",
    "            if index == left - 1:\n",
    "                prev_left = curr\n",
    "            if index == left:\n",
    "                left_node = curr\n",
    "            if index == right:\n",
    "                right_node = curr\n",
    "            curr = curr.next_node\n",
    "                \n",
    "        next_right = right_node.next_node\n",
    "        reverse(left_node, right - left + 1)\n",
    "        left_node.next_node = next_right\n",
    "\n",
    "        print(\".................\")\n",
    "        head.print_list(head)\n",
    "        print(\".................----------------------\")\n",
    "        right_node.print_list(right_node)\n",
    "        print(\".................----------------------++++++++++++++++++\")\n",
    "        if left == 1:\n",
    "            print(\":in\")\n",
    "            return right_node\n",
    "        elif prev_left:\n",
    "            prev_left.next_node = right_node\n",
    "            return head\n",
    "        else:\n",
    "            return right_node\n",
    "\n",
    "    \n",
    "        # if node != None:\n",
    "        #     node.print_data()\n",
    "        #     print_list(node.get_next())\n",
    "\n",
    "\n",
    "if __name__ == \"__main__\":\n",
    "    size = 5  #int(input())\n",
    "    value = 0 #int(input())\n",
    "    head_node = Node(value)\n",
    "    last_node = head_node\n",
    "\n",
    "    for n in range(1,size):\n",
    "        value = n  #int(input())\n",
    "        new_node = Node(value)\n",
    "        last_node.insert_after(new_node)\n",
    "        last_node = new_node\n",
    "\n",
    "    m = 2   # int(input())\n",
    "    n = 3   # int(input())\n",
    "    head_node.print_list(head_node)\n",
    "    print(\"\\n before\\n\")\n",
    "    head_node.reverseBetween(head_node, m, n)    \n",
    "    # reverseBetween(head_node,m,n)\n",
    "    # head_node.print_list(head_node)"
   ]
  },
  {
   "cell_type": "code",
   "execution_count": null,
   "metadata": {},
   "outputs": [],
   "source": [
    "# Python3 program to reverse a linked list\n",
    "# from position m to position n\n",
    "\n",
    "# Linked list node\n",
    "class Node:\n",
    "\t\n",
    "\tdef __init__(self, data):\n",
    "\t\t\n",
    "\t\tself.data = data\n",
    "\t\tself.next = None\n",
    "\n",
    "# The standard reverse function used\n",
    "# to reverse a linked list\n",
    "def reverse(head):\n",
    "\n",
    "\tprev = None\n",
    "\tcurr = head\n",
    "\n",
    "\twhile (curr):\n",
    "\t\tnext = curr.next\n",
    "\t\tcurr.next = prev\n",
    "\t\tprev = curr\n",
    "\t\tcurr = next\n",
    "\t\n",
    "\treturn prev\n",
    "\n",
    "def reverseBetween(head, m, n):\n",
    "\n",
    "\tif (m == n):\n",
    "\t\treturn head\n",
    "\n",
    "\trevs = None\n",
    "\trevs_prev = None\n",
    "\trevend = None\n",
    "\trevend_next = None\n",
    "\n",
    "\ti = 1\n",
    "\tcurr = head\n",
    "\t\n",
    "\twhile (curr and i <= n):\n",
    "\t\tif (i < m):\n",
    "\t\t\trevs_prev = curr\n",
    "\n",
    "\t\tif (i == m):\n",
    "\t\t\trevs = curr\n",
    "\n",
    "\t\tif (i == n):\n",
    "\t\t\trevend = curr\n",
    "\t\t\trevend_next = curr.next\n",
    "\n",
    "\t\tcurr = curr.next\n",
    "\t\ti += 1\n",
    "\n",
    "\trevend.next = None\n",
    "\n",
    "\trevend = reverse(revs)\n",
    "\n",
    "\tif (revs_prev):\n",
    "\t\trevs_prev.next = revend\n",
    "\telse:\n",
    "\t\thead = revend\n",
    "\n",
    "\trevs.next = revend_next\n",
    "\treturn head\n",
    "\n",
    "def prints(head):\n",
    "\n",
    "\twhile (head != None):\n",
    "\t\tprint(head.data, end = ' ')\n",
    "\t\thead = head.next\n",
    "\t\t\n",
    "\tprint()\n",
    "\n",
    "# Function to add a new node at the\n",
    "# beginning of the list\n",
    "def push(head_ref, new_data):\n",
    "\n",
    "\tnew_node = Node(new_data)\n",
    "\tnew_node.data = new_data\n",
    "\tnew_node.next = (head_ref)\n",
    "\t(head_ref) = new_node\n",
    "\treturn head_ref\n",
    "\n",
    "# Driver code\n",
    "if __name__=='__main__':\n",
    "\t\n",
    "\thead = None\n",
    "\thead = push(head, 70)\n",
    "\thead = push(head, 60)\n",
    "\thead = push(head, 50)\n",
    "\thead = push(head, 40)\n",
    "\thead = push(head, 30)\n",
    "\thead = push(head, 20)\n",
    "\thead = push(head, 10)\n",
    "\t\n",
    "\treverseBetween(head, 1, 2)\n",
    "\t\n",
    "\tprints(head)\n",
    "\t\n",
    "# This code is contributed by rutvik_56\n"
   ]
  },
  {
   "cell_type": "code",
   "execution_count": 14,
   "metadata": {},
   "outputs": [
    {
     "name": "stdout",
     "output_type": "stream",
     "text": [
      "abicbeivb\n",
      "None\n"
     ]
    }
   ],
   "source": [
    "def abcv():\n",
    "    print(\"abicbeivb\")\n",
    "\n",
    "j = {\n",
    "    \"0\":abcv(),\n",
    "    \"1\":\"b\",\n",
    "    \"2\":\"c\"\n",
    "}\n",
    "count = 0\n",
    "\n",
    "c = str(count)\n",
    "print(j.get(c,\"\"))"
   ]
  },
  {
   "cell_type": "code",
   "execution_count": 38,
   "metadata": {},
   "outputs": [
    {
     "name": "stdout",
     "output_type": "stream",
     "text": [
      "<class 'function'>\n",
      "<class 'function'>\n",
      "00000000000000000000000\n",
      "<class 'str'>\n",
      "The required call result : \n"
     ]
    }
   ],
   "source": [
    "# Python3 code to demonstrate working of\n",
    "# Functions as dictionary values\n",
    "# Using Without params\n",
    "\n",
    "# call Gfg fnc\n",
    "def print_key1():\n",
    "\treturn \"This is Gfg's value\"\n",
    "\n",
    "# initializing dictionary\n",
    "# check for function name as key\n",
    "test_dict = {\"Gfg\": print_key1, \"is\" : 5, \"best\" : 9}\n",
    "\n",
    "\n",
    "res = test_dict.get(\"Gfg\",\"\")\n",
    "print(type(res))\n",
    "\n",
    "print(type(print_key1))\n",
    "if type(res) == type(print_key1):\n",
    "    print(\"00000000000000000000000\")\n",
    "else:\n",
    "    print(\"111111111111\")\n",
    "res = test_dict.get(\"ewg\",\"\")\n",
    "print(type(res))\n",
    "\n",
    "# printing result\n",
    "print(\"The required call result : \" + str(res))\n"
   ]
  },
  {
   "cell_type": "code",
   "execution_count": 26,
   "metadata": {},
   "outputs": [
    {
     "name": "stdout",
     "output_type": "stream",
     "text": [
      "fffffffffff\n"
     ]
    }
   ],
   "source": [
    "s = {\"sfafn\":\"1\"}\n",
    "if type(s) == type({}):\n",
    "    print(\"fffffffffff\")"
   ]
  },
  {
   "cell_type": "code",
   "execution_count": 28,
   "metadata": {},
   "outputs": [
    {
     "name": "stdout",
     "output_type": "stream",
     "text": [
      "01 04 2001\n"
     ]
    }
   ],
   "source": [
    "\n",
    "s = \"01042001\"\n",
    "print(s[:2], s[2:4], s[-4:])\n"
   ]
  },
  {
   "cell_type": "code",
   "execution_count": 36,
   "metadata": {},
   "outputs": [
    {
     "name": "stdout",
     "output_type": "stream",
     "text": [
      "True\n"
     ]
    }
   ],
   "source": [
    "def is_valid_date(entities):\n",
    "    try:\n",
    "        import datetime\n",
    "        dd = entities[:2]\n",
    "        mm = entities[2:4]\n",
    "        yyyy = entities[-4:]\n",
    "        entered_date = f'{dd}/{mm}/{yyyy}'\n",
    "        entered_date_obj = datetime.datetime.strptime(entered_date, '%d/%m/%Y').date()\n",
    "        today = datetime.date.today()        \n",
    "        if entered_date_obj < today:\n",
    "            valid_date = True\n",
    "        else:\n",
    "            valid_date = False\n",
    "    except:\n",
    "        valid_date = False\n",
    "    return valid_date\n",
    "print(is_valid_date(\"28062023\"))"
   ]
  },
  {
   "cell_type": "code",
   "execution_count": 46,
   "metadata": {},
   "outputs": [
    {
     "name": "stdout",
     "output_type": "stream",
     "text": [
      "a\n"
     ]
    }
   ],
   "source": [
    "a = False\n",
    "# if  not(a):\n",
    "if a != False:\n",
    "    print(\"f\")\n",
    "else:\n",
    "    print(\"a\")"
   ]
  },
  {
   "cell_type": "code",
   "execution_count": 72,
   "metadata": {},
   "outputs": [
    {
     "data": {
      "text/plain": [
       "'2023-06-30'"
      ]
     },
     "execution_count": 72,
     "metadata": {},
     "output_type": "execute_result"
    }
   ],
   "source": [
    "def get_today_date():\n",
    "    import datetime\n",
    "    import pytz\n",
    "    datetime_in_US = datetime.datetime.now(pytz.timezone('US/Eastern'))\n",
    "    date = datetime_in_US.date()\n",
    "    date = date.strftime(\"%Y-%m-%d\")\n",
    "    return date\n",
    "get_today_date()    "
   ]
  },
  {
   "cell_type": "code",
   "execution_count": null,
   "metadata": {},
   "outputs": [],
   "source": []
  },
  {
   "cell_type": "code",
   "execution_count": 75,
   "metadata": {},
   "outputs": [
    {
     "name": "stdout",
     "output_type": "stream",
     "text": [
      "2023-05-18\n"
     ]
    }
   ],
   "source": [
    "a = \"05/18/2023\"\n",
    "yyyy = date[-4:]\n",
    "mm = date[:2]\n",
    "dd = date[3:5]\n",
    "new_formate = f\"{yyyy}-{mm}-{dd}\"\n",
    "print(new_formate)"
   ]
  },
  {
   "cell_type": "code",
   "execution_count": 83,
   "metadata": {},
   "outputs": [
    {
     "name": "stdout",
     "output_type": "stream",
     "text": [
      "2023 06 Jun\n"
     ]
    }
   ],
   "source": [
    "import datetime\n",
    "def get_previous_month():\n",
    "    today = datetime.date.today()\n",
    "    first = today.replace(day=1)\n",
    "    last_month = first - datetime.timedelta(days=1)\n",
    "    month = last_month.strftime(\"%m\")\n",
    "    month_name = last_month.strftime(\"%B\")\n",
    "    year = last_month.strftime(\"%Y\")\n",
    "    return year, month, month_name\n",
    "\n",
    "\n",
    "a,b,c = get_previous_month()    \n",
    "print(a,b,c[:3])\n"
   ]
  },
  {
   "cell_type": "code",
   "execution_count": 95,
   "metadata": {},
   "outputs": [
    {
     "data": {
      "text/plain": [
       "5"
      ]
     },
     "execution_count": 95,
     "metadata": {},
     "output_type": "execute_result"
    }
   ],
   "source": [
    "int(\"05\".lstrip(\"0\"))\n"
   ]
  },
  {
   "cell_type": "code",
   "execution_count": 80,
   "metadata": {},
   "outputs": [
    {
     "name": "stdout",
     "output_type": "stream",
     "text": [
      "Upcoming Friday's Date: 14/07/2023\n"
     ]
    }
   ],
   "source": [
    "import datetime\n",
    "\n",
    "def upcomingFriday():\n",
    "    today = datetime.date.today()\n",
    "    day = today.weekday()\n",
    "    days = 4 - day\n",
    "    if days <= 0:\n",
    "        days += 7\n",
    "    upcomingFridayDate = today + datetime.timedelta(days=days)\n",
    "    return upcomingFridayDate.strftime(\"%d/%m/%Y\")\n",
    "\n",
    "print(\"Upcoming Friday's Date:\", upcomingFriday())"
   ]
  },
  {
   "cell_type": "code",
   "execution_count": null,
   "metadata": {},
   "outputs": [],
   "source": [
    "month_mapping_reverse = {\n",
    "    \"January\" : 1\n",
    "    \"February\" : 2:\n",
    "    \"March\" : 3:\n",
    "    \"April\" : 4:\n",
    "    \"May\" : 5:\n",
    "    \"June\" : 6:\n",
    "    \"July\" : 7:\n",
    "    \"August\" : 8:\n",
    "    \"September\" : 9:\n",
    "    \"October\" : 10\n",
    "    \"November\" : 11\n",
    "    \"December\" : 12\n",
    "}"
   ]
  },
  {
   "cell_type": "code",
   "execution_count": 102,
   "metadata": {},
   "outputs": [
    {
     "name": "stdout",
     "output_type": "stream",
     "text": [
      "902971169049993\n",
      "15\n"
     ]
    }
   ],
   "source": [
    "import random\n",
    "a = random.randrange(111111111111111, 999999999999999,9)\n",
    "print(a)\n",
    "print(len(str(a)))"
   ]
  },
  {
   "cell_type": "code",
   "execution_count": 4,
   "metadata": {},
   "outputs": [
    {
     "name": "stdout",
     "output_type": "stream",
     "text": [
      "A C D E 1 2 3 4 R\n"
     ]
    }
   ],
   "source": [
    "a = \"ACDE1234R\"\n",
    "a = \" \".join(a)\n",
    "print(a)"
   ]
  },
  {
   "cell_type": "code",
   "execution_count": 5,
   "metadata": {},
   "outputs": [
    {
     "name": "stdout",
     "output_type": "stream",
     "text": [
      "there\n"
     ]
    }
   ],
   "source": [
    "a =True\n",
    "if not(a):\n",
    "    print(\"here\")\n",
    "else:\n",
    "    print(\"there\")"
   ]
  },
  {
   "cell_type": "code",
   "execution_count": 71,
   "metadata": {},
   "outputs": [
    {
     "data": {
      "text/plain": [
       "'CDGKN7856T'"
      ]
     },
     "execution_count": 71,
     "metadata": {},
     "output_type": "execute_result"
    }
   ],
   "source": [
    "def get_pan(input):\n",
    "    number_alphabet_mapping= {\n",
    "\n",
    "        \"2\":\"A\",\n",
    "        \"22\":\"B\",\n",
    "        \"222\":\"C\",\n",
    "\n",
    "        \"3\":\"D\",\n",
    "        \"33\":\"E\",\n",
    "        \"333\":\"F\",\n",
    "        \"4\":\"G\",\n",
    "        \"44\":\"H\",\n",
    "        \"444\":\"I\",\n",
    "        \n",
    "        \"5\":\"J\",\n",
    "        \"55\":\"K\",\n",
    "        \"555\":\"L\",\n",
    "\n",
    "        \"6\":\"M\",\n",
    "        \"66\":\"N\",\n",
    "        \"666\":\"O\",\n",
    "\n",
    "        \"7\":\"P\",\n",
    "        \"77\":\"Q\",\n",
    "        \"777\":\"R\",\n",
    "        \"7777\":\"S\",\n",
    "        \n",
    "        \"8\":\"T\",\n",
    "        \"88\":\"U\",\n",
    "        \"888\":\"V\",\n",
    "\n",
    "        \"9\":\"W\",\n",
    "        \"99\":\"X\",\n",
    "        \"999\":\"Y\",\n",
    "        \"9999\":\"Z\"\n",
    "\n",
    "    }\n",
    "    try:\n",
    "        \n",
    "        lst = input.split(\"*\")\n",
    "        number = lst.pop(5)\n",
    "        PAN = \"\"\n",
    "        for i in lst:\n",
    "            PAN+= number_alphabet_mapping.get(str(i))\n",
    "            if \"0\" in PAN:\n",
    "                print(\"ERROR!!!\")\n",
    "                break\n",
    "\n",
    "        PAN  = f\"{PAN[:5]}{number}{PAN[-1]}\"    \n",
    "    except Exception as e:\n",
    "        print(f\"Exception : {e}\")\n",
    "        return None\n",
    "    return PAN\n",
    "\n",
    "# s = \"222*66*333*9999*55*1234*7\"\n",
    "s = \"222*3*4*55*66*7856*8\"\n",
    "get_pan(s)"
   ]
  },
  {
   "cell_type": "code",
   "execution_count": 4,
   "metadata": {},
   "outputs": [
    {
     "name": "stdout",
     "output_type": "stream",
     "text": [
      "07/25/2023\n"
     ]
    }
   ],
   "source": [
    "def get_next_friday():\n",
    "    import datetime as DT\n",
    "    import dateutil.relativedelta as REL\n",
    "    today = DT.date.today()\n",
    "    # 2012-01-10\n",
    "    rd = REL.relativedelta(days=3)\n",
    "    next_friday = today + rd\n",
    "    # 2012-01-13\n",
    "    return next_friday\n",
    "\n",
    "s = str(get_next_friday()).replace(\"-\",\"/\")\n",
    "# print(s)\n",
    "after_3_days = s[-5:-3] + \"/\" + s[-2:] + \"/2023\"\n",
    "print(after_3_days)"
   ]
  },
  {
   "cell_type": "code",
   "execution_count": 9,
   "metadata": {},
   "outputs": [
    {
     "name": "stdout",
     "output_type": "stream",
     "text": [
      "07/25/2023\n"
     ]
    }
   ],
   "source": [
    "def get_today_date():\n",
    "    import pytz\n",
    "    import datetime as DT\n",
    "    import dateutil.relativedelta as REL\n",
    "    datetime_in_US = DT.datetime.now(pytz.timezone('US/Eastern'))\n",
    "    rd = REL.relativedelta(days=3)\n",
    "    date = datetime_in_US.date()\n",
    "    date = date + rd\n",
    "    # date = date.strftime(\"%Y-%m-%d\")\n",
    "    return date  "
   ]
  },
  {
   "cell_type": "code",
   "execution_count": 14,
   "metadata": {},
   "outputs": [
    {
     "name": "stdout",
     "output_type": "stream",
     "text": [
      "07/25/2023\n"
     ]
    }
   ],
   "source": [
    "import pytz\n",
    "import datetime as DT\n",
    "import dateutil.relativedelta as REL\n",
    "datetime_in_US = DT.datetime.now(pytz.timezone('US/Eastern'))\n",
    "rd = REL.relativedelta(days=3)\n",
    "date = datetime_in_US.date()\n",
    "after_3_days = str(date + rd)\n",
    "after_3_days = f\"{after_3_days[5:7]}/{after_3_days[-2:]}/2023\"\n",
    "print(after_3_days)"
   ]
  },
  {
   "cell_type": "code",
   "execution_count": 25,
   "metadata": {},
   "outputs": [
    {
     "name": "stdout",
     "output_type": "stream",
     "text": [
      "2023-08-22\n",
      "2023-08-22\n",
      "08/22/2023\n"
     ]
    }
   ],
   "source": [
    "import pytz\n",
    "import datetime as DT\n",
    "import dateutil.relativedelta as REL\n",
    "datetime_in_US = DT.datetime.now(pytz.timezone('US/Eastern'))\n",
    "rd = REL.relativedelta(months=1)\n",
    "today = datetime_in_US.date()\n",
    "next_month = str(today + rd)\n",
    "\n",
    "next_month = DT.datetime.strptime(next_month, '%Y-%m-%d').date()\n",
    "print(next_month)\n",
    "s = str(next_month).replace(\"-\",\"/\")\n",
    "print(next_month)\n",
    "next_friday_date = s[-5:-3] + \"/\" + s[-2:] + \"/2023\"\n",
    "print(next_friday_date)"
   ]
  },
  {
   "cell_type": "code",
   "execution_count": 30,
   "metadata": {},
   "outputs": [
    {
     "name": "stdout",
     "output_type": "stream",
     "text": [
      "2023-07-25 01:12:48.507924-04:00\n",
      "1\n",
      "1\n"
     ]
    }
   ],
   "source": [
    "\n",
    "print(datetime_in_US)\n",
    "weekday = datetime_in_US.weekday()\n",
    "print(weekday)\n",
    "hr = datetime_in_US.hour\n",
    "print(hr)\n"
   ]
  },
  {
   "cell_type": "code",
   "execution_count": 37,
   "metadata": {},
   "outputs": [
    {
     "name": "stdout",
     "output_type": "stream",
     "text": [
      "weekday(0:monday) ::::> 1\n",
      "hour ::::>  1\n",
      "flag = False\n"
     ]
    }
   ],
   "source": [
    "def with_in_time_range():\n",
    "    import pytz\n",
    "    import datetime as DT\n",
    "    import dateutil.relativedelta as REL\n",
    "    datetime_in_US = DT.datetime.now(pytz.timezone('US/Eastern'))\n",
    "    weekday = datetime_in_US.weekday()\n",
    "    hr = datetime_in_US.hour\n",
    "    print(\"weekday(0:monday) ::::>\",weekday)\n",
    "    print(\"hour ::::> \",hr)\n",
    "    if (0 <= weekday <= 4) and (7 <= hr <= 20):\n",
    "        return True\n",
    "    elif (weekday == 5) and (8 <= hr < 17):\n",
    "        return True\n",
    "    return False\n",
    "\n",
    "# Test the function\n",
    "flag = with_in_time_range()\n",
    "print(\"flag =\", flag)   \n"
   ]
  },
  {
   "cell_type": "code",
   "execution_count": null,
   "metadata": {},
   "outputs": [],
   "source": [
    "flag = with_in_time_range()"
   ]
  },
  {
   "cell_type": "code",
   "execution_count": 38,
   "metadata": {},
   "outputs": [],
   "source": [
    "j = {\n",
    "    \"intent\":{\n",
    "        \"a\":1,\n",
    "        \"b\":2,\n",
    "        \"c\":3\n",
    "    }\n",
    "}"
   ]
  },
  {
   "cell_type": "code",
   "execution_count": 68,
   "metadata": {},
   "outputs": [
    {
     "name": "stdout",
     "output_type": "stream",
     "text": [
      "2023-08-11\n"
     ]
    },
    {
     "data": {
      "text/plain": [
       "datetime.date(2023, 8, 11)"
      ]
     },
     "execution_count": 68,
     "metadata": {},
     "output_type": "execute_result"
    }
   ],
   "source": [
    "def get_next_friday():\n",
    "    import datetime as DT\n",
    "    import dateutil.relativedelta as REL\n",
    "    today = DT.date.today()\n",
    "    import pytz\n",
    "    today = DT.date.today()\n",
    "    # 2012-01-10'\n",
    "    rd = REL.relativedelta(days=7, weekday=REL.FR)\n",
    "    \n",
    "    next_friday = today + rd    \n",
    "    # 2012-01-13\n",
    "    return next_friday\n",
    "get_next_friday()"
   ]
  },
  {
   "cell_type": "code",
   "execution_count": 69,
   "metadata": {},
   "outputs": [
    {
     "name": "stdout",
     "output_type": "stream",
     "text": [
      "2023-08-11\n"
     ]
    },
    {
     "data": {
      "text/plain": [
       "datetime.date(2023, 8, 11)"
      ]
     },
     "execution_count": 69,
     "metadata": {},
     "output_type": "execute_result"
    }
   ],
   "source": [
    "def get_next_friday():\n",
    "    import datetime as DT\n",
    "    import dateutil.relativedelta as REL\n",
    "    today = DT.datetime.now(pytz.timezone('US/Eastern')).date()\n",
    "    # 2012-01-10\n",
    "    rd = REL.relativedelta(days=7, weekday=REL.FR)\n",
    "    next_friday = today + rd\n",
    "    # 2012-01-13\n",
    "    print(next_friday)\n",
    "    return next_friday\n",
    "get_next_friday()\n"
   ]
  },
  {
   "cell_type": "code",
   "execution_count": 71,
   "metadata": {},
   "outputs": [
    {
     "name": "stdout",
     "output_type": "stream",
     "text": [
      "False\n"
     ]
    }
   ],
   "source": [
    "a = True\n",
    "if a == 0 :\n",
    "    print(True)\n",
    "else:\n",
    "    print(False)\n",
    "\n"
   ]
  },
  {
   "cell_type": "code",
   "execution_count": 75,
   "metadata": {},
   "outputs": [
    {
     "name": "stdout",
     "output_type": "stream",
     "text": [
      "False\n",
      "2\n"
     ]
    }
   ],
   "source": [
    "a = True\n",
    "b = True\n",
    "\n",
    "if abs(a-b) >1:\n",
    "    print(True)\n",
    "else:\n",
    "    print(False)\n",
    "print(max(a,b)+1)"
   ]
  },
  {
   "cell_type": "code",
   "execution_count": 99,
   "metadata": {},
   "outputs": [
    {
     "data": {
      "text/plain": [
       "('08/04/2023', '04/08/2023')"
      ]
     },
     "execution_count": 99,
     "metadata": {},
     "output_type": "execute_result"
    }
   ],
   "source": [
    "def get_filename_and_date():\n",
    "    import datetime as DT\n",
    "    import dateutil.relativedelta as REL\n",
    "    today = DT.datetime.now(pytz.timezone('US/Eastern')).date()\n",
    "    \n",
    "    today = str(today)\n",
    "    today = f\"{today[-2:]}/{today[5:7]}/{today[:4]}\"\n",
    "    file_name = f\"{today[3:5]}/{today[:2]}/{today[-4:]}\"\n",
    "    return file_name,today\n",
    "get_filename_and_date()"
   ]
  },
  {
   "cell_type": "code",
   "execution_count": 100,
   "metadata": {},
   "outputs": [
    {
     "data": {
      "text/plain": [
       "'2023-08-04'"
      ]
     },
     "execution_count": 100,
     "metadata": {},
     "output_type": "execute_result"
    }
   ],
   "source": [
    "def get_today_date():\n",
    "    import datetime\n",
    "    import pytz\n",
    "    datetime_in_US = datetime.datetime.now(pytz.timezone('US/Eastern'))\n",
    "    date = datetime_in_US.date()\n",
    "    date = date.strftime(\"%Y-%m-%d\")\n",
    "    return date\n",
    "get_today_date()"
   ]
  },
  {
   "cell_type": "code",
   "execution_count": 105,
   "metadata": {},
   "outputs": [
    {
     "name": "stdout",
     "output_type": "stream",
     "text": [
      "thread1 1\n",
      "thread2 36\n",
      "thread3 121\n",
      "thread1 4\n",
      "thread3 144\n",
      "thread2 49\n",
      "thread2 64\n",
      "thread3 169\n",
      "thread1 9\n",
      "thread2 81\n",
      "thread1 16\n",
      "thread3 196\n",
      "thread2thread3 225\n",
      " 100\n",
      "thread1 25\n",
      "None\n",
      "None\n",
      "None\n"
     ]
    }
   ],
   "source": [
    "# Import module\n",
    "import threading\n",
    "import time\n",
    "\n",
    "\n",
    "def print_squares(thread_name, numbers):\n",
    "    for number in numbers:\n",
    "        print(thread_name, number**2)\n",
    "        time.sleep(1)\n",
    "    return \"HELLO\"\n",
    "\n",
    "\n",
    "if __name__ == '__main__':\n",
    "    # Creating 3 threads that execute the same\n",
    "    # function with different parameters\n",
    "    thread1 = threading.Thread(target=print_squares,\n",
    "                            args=(\"thread1\", [1, 2, 3, 4, 5]))\n",
    "\n",
    "    thread2 = threading.Thread(target=print_squares,\n",
    "                            args=(\"thread2\", [6, 7, 8, 9, 10]))\n",
    "\n",
    "    thread3 = threading.Thread(target=print_squares,\n",
    "                            args=(\"thread3\", [11, 12, 13, 14, 15]))\n",
    "\n",
    "    # Start the threads\n",
    "    thread1.start()\n",
    "    thread2.start()\n",
    "    thread3.start()\n",
    "\n",
    "    # Join the threads before\n",
    "    # moving further\n",
    "    a = thread1.join()\n",
    "    b = thread2.join()\n",
    "    c = thread3.join()"
   ]
  },
  {
   "cell_type": "code",
   "execution_count": 114,
   "metadata": {},
   "outputs": [
    {
     "name": "stdout",
     "output_type": "stream",
     "text": [
      "[8]\n",
      "{'ans': 15}\n"
     ]
    }
   ],
   "source": [
    "from threading import Thread\n",
    "\n",
    "class CustomThread(Thread):\n",
    "    def __init__(self, group=None, target=None, name=None,\n",
    "                 args=(), kwargs={}, Verbose=None):\n",
    "        Thread.__init__(self, group, target, name, args, kwargs)\n",
    "        self._return = None\n",
    "\n",
    "    def run(self):\n",
    "        if self._target is not None:\n",
    "            self._return = self._target(*self._args, **self._kwargs)\n",
    "            \n",
    "    def join(self, *args):\n",
    "        Thread.join(self, *args)\n",
    "        return self._return\n",
    "\n",
    "def add(n1, n2):\n",
    "    return [n1 + n2]\n",
    "\n",
    "def mul(n1,n2):\n",
    "    return {\"ans\":n1*n2}\n",
    "thread = CustomThread(target=add, args=(5, 3,))\n",
    "thread.start()\n",
    "ans = thread.join()\n",
    "print(ans)\n",
    "\n",
    "thread = CustomThread(target=mul, args=(5, 3,))\n",
    "thread.start()\n",
    "ans2 = thread.join()\n",
    "print(ans2)"
   ]
  },
  {
   "cell_type": "code",
   "execution_count": 133,
   "metadata": {},
   "outputs": [
    {
     "data": {
      "text/plain": [
       "('08/08/2023', '08/08/2023')"
      ]
     },
     "execution_count": 133,
     "metadata": {},
     "output_type": "execute_result"
    }
   ],
   "source": [
    "def get_filename_and_date():\n",
    "    import datetime as DT\n",
    "    import dateutil.relativedelta as REL\n",
    "    today = DT.datetime.now(pytz.timezone('US/Eastern')).date()\n",
    "    \n",
    "    today = str(today)\n",
    "    today = f\"{today[-2:]}/{today[5:7]}/{today[:4]}\"\n",
    "    file_name = f\"{today[3:5]}/{today[:2]}/{today[-4:]}\"\n",
    "    return file_name,today\n",
    "get_filename_and_date()"
   ]
  },
  {
   "cell_type": "code",
   "execution_count": 156,
   "metadata": {},
   "outputs": [
    {
     "name": "stdout",
     "output_type": "stream",
     "text": [
      "2023-08-09 02:02:12.082430-04:00\n"
     ]
    }
   ],
   "source": [
    "import datetime as DT\n",
    "import dateutil.relativedelta as REL\n",
    "print(DT.datetime.now(pytz.timezone('US/Eastern')))"
   ]
  },
  {
   "cell_type": "code",
   "execution_count": 152,
   "metadata": {},
   "outputs": [],
   "source": [
    "user_details = {\"phone_number\":\"1234567890\"}\n",
    "l = [str(user_details.get(\"phone_number\")) if user_details.get(\"phone_number\") not in [\"None\", None] else \"7041295305\",\"7041295305\"]"
   ]
  },
  {
   "cell_type": "code",
   "execution_count": 150,
   "metadata": {},
   "outputs": [
    {
     "name": "stdout",
     "output_type": "stream",
     "text": [
      "['1234567890', '7041295305']\n"
     ]
    }
   ],
   "source": [
    "print(l)"
   ]
  },
  {
   "cell_type": "code",
   "execution_count": 158,
   "metadata": {},
   "outputs": [
    {
     "name": "stdout",
     "output_type": "stream",
     "text": [
      "-inf\n"
     ]
    }
   ],
   "source": [
    "def sum(a,b):\n",
    "    return a+b+sum.rs\n",
    "\n",
    "def summmm():\n",
    "    sum.rs = float(\"-inf\")\n",
    "    print(sum(1,2))\n",
    "summmm()"
   ]
  },
  {
   "cell_type": "code",
   "execution_count": 165,
   "metadata": {},
   "outputs": [
    {
     "name": "stdout",
     "output_type": "stream",
     "text": [
      "defaultdict(<class 'list'>, {5: [1, 2]})\n"
     ]
    }
   ],
   "source": [
    "from collections import defaultdict\n",
    "a = defaultdict(list)\n",
    "a[5].append(1)\n",
    "a[5].append(2)\n",
    "print(a)"
   ]
  },
  {
   "cell_type": "code",
   "execution_count": null,
   "metadata": {},
   "outputs": [],
   "source": []
  },
  {
   "cell_type": "code",
   "execution_count": 31,
   "metadata": {},
   "outputs": [
    {
     "name": "stdout",
     "output_type": "stream",
     "text": [
      "2023-10-12 13:10:48.433242\n"
     ]
    }
   ],
   "source": [
    "from datetime import datetime, timedelta\n",
    "import pytz\n",
    "IST = pytz.timezone('Asia/Kolkata')\n",
    "current_time=datetime.now(IST).replace(tzinfo=None) \n",
    "MAX_TRIGGER_TIME=current_time.replace(hour=18, minute=40).replace(tzinfo=None) - timedelta(hours=5,minutes=30)\n",
    "print(MAX_TRIGGER_TIME)"
   ]
  },
  {
   "cell_type": "code",
   "execution_count": 33,
   "metadata": {},
   "outputs": [
    {
     "name": "stdout",
     "output_type": "stream",
     "text": [
      "2023-10-12\n",
      "Today's date in ISO Format: 2023-10-12\n"
     ]
    }
   ],
   "source": [
    "import datetime\n",
    "import time\n",
    "\n",
    "todays_Date = datetime.date.fromtimestamp(time.time())\n",
    "print(todays_Date)\n",
    "date_in_ISOFormat = todays_Date.isoformat()\n",
    "\n",
    "print(\"Today's date in ISO Format: %s\" % date_in_ISOFormat)"
   ]
  },
  {
   "cell_type": "code",
   "execution_count": 62,
   "metadata": {},
   "outputs": [
    {
     "name": "stdout",
     "output_type": "stream",
     "text": [
      "The date-time string is in ISO format.\n",
      "The date-time string is not in ISO format.\n",
      "The date-time string is not in ISO format.\n"
     ]
    }
   ],
   "source": [
    "# it will take string as input\n",
    "def is_iso_format(date_time_str):\n",
    "    from datetime import datetime\n",
    "    try:\n",
    "        datetime.fromisoformat(date_time_str)\n",
    "        return True\n",
    "    except ValueError:\n",
    "        return False\n",
    "\n",
    "# date_time_str = \n",
    "date_time_str = [\"2023-10-12T15:31:49\",\"10-12-2023 3:32pm\",\"2023/10/12\"]\n",
    "for date_time_str in date_time_str:\n",
    "    if is_iso_format(date_time_str):\n",
    "        print(\"The date-time string is in ISO format.\")\n",
    "    else:\n",
    "        print(\"The date-time string is not in ISO format.\")\n"
   ]
  },
  {
   "cell_type": "code",
   "execution_count": 70,
   "metadata": {},
   "outputs": [
    {
     "name": "stdout",
     "output_type": "stream",
     "text": [
      "16 PM 2023-10-12 16:30:19.681880\n",
      "2023-10-12 18:37:19.681880\n",
      "2023-10-12 18:37:19.681880------> <class 'datetime.datetime'>\n",
      "2023-10-12 18:37:19------> <class 'str'>\n",
      "True\n"
     ]
    }
   ],
   "source": [
    "from datetime import datetime,timedelta\n",
    "\n",
    "IST = pytz.timezone('Asia/Kolkata')\n",
    "now = datetime.now() + timedelta(hours=2,minutes=30)\n",
    "_16PM = now.replace(hour=16, minute=30)\n",
    "print(\"16 PM\",_16PM)\n",
    "print(now)\n",
    "print(f\"{now}------> {type(now)}\")\n",
    "# it will take date time formate\n",
    "datetime_object = f\"ISODate({now.isoformat()})\"\n",
    "\n",
    "datetime_object = datetime.strftime(now, \"%Y-%m-%d %H:%M:%S\")\n",
    "print(f\"{datetime_object}------> {type(datetime_object)}\")\n",
    "print(is_iso_format(datetime_object))"
   ]
  },
  {
   "cell_type": "code",
   "execution_count": 73,
   "metadata": {},
   "outputs": [
    {
     "name": "stdout",
     "output_type": "stream",
     "text": [
      "ISODate(2023-10-12T16:09:08.874026)\n"
     ]
    }
   ],
   "source": [
    "def get_iso_date(date):\n",
    "    return f\"ISODate({date.isoformat()})\"\n",
    "\n",
    "print(get_iso_date(datetime.now(IST).replace(tzinfo=None)))"
   ]
  },
  {
   "cell_type": "code",
   "execution_count": 81,
   "metadata": {},
   "outputs": [
    {
     "name": "stdout",
     "output_type": "stream",
     "text": [
      "2023-10-12 18:30:08.661221\n",
      "2023-10-12 21:59:08.661221\n"
     ]
    }
   ],
   "source": [
    "current_time=datetime.now(IST).replace(tzinfo=None)\n",
    "\n",
    "ntd = current_time.replace(hour=18, minute=30)\n",
    "print(ntd)\n",
    "\n",
    "ntd = current_time + timedelta(hours=5,minutes=30)\n",
    "print(ntd)\n",
    "\n",
    "next_date=f\"ISODate({current_time.isoformat()})\"\n",
    "ntd = current_time + timedelta(hours=5,minutes=30)\n",
    "print(ntd)"
   ]
  }
 ],
 "metadata": {
  "kernelspec": {
   "display_name": "Python 3 (ipykernel)",
   "language": "python",
   "name": "python3"
  },
  "language_info": {
   "codemirror_mode": {
    "name": "ipython",
    "version": 3
   },
   "file_extension": ".py",
   "mimetype": "text/x-python",
   "name": "python",
   "nbconvert_exporter": "python",
   "pygments_lexer": "ipython3",
   "version": "3.10.12"
  },
  "vscode": {
   "interpreter": {
    "hash": "916dbcbb3f70747c44a77c7bcd40155683ae19c65e1c03b4aa3499c5328201f1"
   }
  }
 },
 "nbformat": 4,
 "nbformat_minor": 2
}
